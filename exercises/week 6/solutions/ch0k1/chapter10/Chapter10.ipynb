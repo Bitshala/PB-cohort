{
 "cells": [
  {
   "cell_type": "code",
   "execution_count": 35,
   "metadata": {},
   "outputs": [],
   "source": [
    "############## PLEASE RUN THIS CELL FIRST! ###################\n",
    "\n",
    "# import everything and define a test runner function\n",
    "from importlib import reload\n",
    "from helper import run\n",
    "import network\n",
    "\n",
    "from block import GENESIS_BLOCK\n",
    "from helper import calculate_new_bits\n",
    "from network import (\n",
    "    NetworkEnvelope,\n",
    "    VersionMessage,\n",
    ")"
   ]
  },
  {
   "cell_type": "markdown",
   "metadata": {},
   "source": [
    "### Exercise 1\n",
    "\n",
    "Determine what this network message is:\n",
    "\n",
    "`f9beb4d976657261636b000000000000000000005df6e0e2`"
   ]
  },
  {
   "cell_type": "code",
   "execution_count": 36,
   "metadata": {},
   "outputs": [
    {
     "name": "stdout",
     "output_type": "stream",
     "text": [
      "b'verack'\n",
      "b''\n"
     ]
    }
   ],
   "source": [
    "# Exercise 1\n",
    "from network import NetworkEnvelope\n",
    "from io import BytesIO\n",
    "\n",
    "message_hex = 'f9beb4d976657261636b000000000000000000005df6e0e2'\n",
    "# convert to binary\n",
    "stream = BytesIO(bytes.fromhex(message_hex))\n",
    "envelope = NetworkEnvelope.parse(stream)\n",
    "# see what the bytes 4 through 16 aregi\n",
    "print(envelope.command)\n",
    "print(envelope.payload)"
   ]
  },
  {
   "cell_type": "markdown",
   "metadata": {},
   "source": [
    "### Exercise 2\n",
    "\n",
    "Write the `parse` method for `NetworkEnvelope`.\n",
    "\n",
    "#### Make [this test](/edit/code-ch10/network.py) pass: `network.py:NetworkEnvelopeTest:test_parse`"
   ]
  },
  {
   "cell_type": "code",
   "execution_count": 37,
   "metadata": {},
   "outputs": [
    {
     "name": "stderr",
     "output_type": "stream",
     "text": [
      ".\n",
      "----------------------------------------------------------------------\n",
      "Ran 1 test in 0.004s\n",
      "\n",
      "OK\n"
     ]
    }
   ],
   "source": [
    "# Exercise 2\n",
    "\n",
    "reload(network)\n",
    "run(network.NetworkEnvelopeTest(\"test_parse\"))"
   ]
  },
  {
   "cell_type": "markdown",
   "metadata": {},
   "source": [
    "### Exercise 3\n",
    "\n",
    "Write the `serialize` method for `NetworkEnvelope`.\n",
    "\n",
    "#### Make [this test](/edit/code-ch10/network.py) pass: `network.py:NetworkEnvelopeTest:test_serialize`"
   ]
  },
  {
   "cell_type": "code",
   "execution_count": 38,
   "metadata": {},
   "outputs": [
    {
     "name": "stderr",
     "output_type": "stream",
     "text": [
      ".\n",
      "----------------------------------------------------------------------\n",
      "Ran 1 test in 0.001s\n",
      "\n",
      "OK\n"
     ]
    }
   ],
   "source": [
    "# Exercise 3\n",
    "\n",
    "reload(network)\n",
    "run(network.NetworkEnvelopeTest(\"test_serialize\"))"
   ]
  },
  {
   "cell_type": "markdown",
   "metadata": {},
   "source": [
    "### Exercise 4\n",
    "\n",
    "Write the `serialize` method for `VersionMessage`.\n",
    "\n",
    "#### Make [this test](/edit/code-ch10/network.py) pass: `network.py:VersionMessageTest:test_serialize`"
   ]
  },
  {
   "cell_type": "code",
   "execution_count": 39,
   "metadata": {},
   "outputs": [
    {
     "name": "stderr",
     "output_type": "stream",
     "text": [
      ".\n",
      "----------------------------------------------------------------------\n",
      "Ran 1 test in 0.002s\n",
      "\n",
      "OK\n"
     ]
    }
   ],
   "source": [
    "# Exercise 4\n",
    "\n",
    "reload(network)\n",
    "run(network.VersionMessageTest(\"test_serialize\"))"
   ]
  },
  {
   "cell_type": "markdown",
   "metadata": {},
   "source": [
    "### Exercise 5\n",
    "\n",
    "Write the `handshake` method for `SimpleNode`\n",
    "\n",
    "#### Make [this test](/edit/code-ch10/network.py) pass: `network.py:SimpleNodeTest:test_handshake`"
   ]
  },
  {
   "cell_type": "code",
   "execution_count": 40,
   "metadata": {},
   "outputs": [
    {
     "name": "stderr",
     "output_type": "stream",
     "text": [
      "E\n",
      "======================================================================\n",
      "ERROR: test_handshake (network.SimpleNodeTest.test_handshake)\n",
      "----------------------------------------------------------------------\n",
      "Traceback (most recent call last):\n",
      "  File \"/home/ch0k1/Dev/git/programming-bitcoin/code-ch10/network.py\", line 366, in test_handshake\n",
      "    node = SimpleNode('testnet.programmingbitcoin.com', testnet=True)\n",
      "           ^^^^^^^^^^^^^^^^^^^^^^^^^^^^^^^^^^^^^^^^^^^^^^^^^^^^^^^^^^\n",
      "  File \"/home/ch0k1/Dev/git/programming-bitcoin/code-ch10/network.py\", line 317, in __init__\n",
      "    self.socket.connect((host, port))\n",
      "OSError: [Errno 113] No route to host\n",
      "\n",
      "----------------------------------------------------------------------\n",
      "Ran 1 test in 3.321s\n",
      "\n",
      "FAILED (errors=1)\n"
     ]
    }
   ],
   "source": [
    "# Exercise 5\n",
    "\n",
    "reload(network)\n",
    "run(network.SimpleNodeTest(\"test_handshake\"))"
   ]
  },
  {
   "cell_type": "markdown",
   "metadata": {},
   "source": [
    "### Exercise 6\n",
    "\n",
    "Write the `serialize` method for `GetHeadersMessage`.\n",
    "\n",
    "#### Make [this test](/edit/code-ch10/network.py) pass: `network.py:GetHeadersMessageTest:test_serialize`"
   ]
  },
  {
   "cell_type": "code",
   "execution_count": 41,
   "metadata": {},
   "outputs": [
    {
     "name": "stderr",
     "output_type": "stream",
     "text": [
      ".\n",
      "----------------------------------------------------------------------\n",
      "Ran 1 test in 0.003s\n",
      "\n",
      "OK\n"
     ]
    }
   ],
   "source": [
    "# Exercise 6\n",
    "\n",
    "reload(network)\n",
    "run(network.GetHeadersMessageTest(\"test_serialize\"))"
   ]
  },
  {
   "cell_type": "code",
   "execution_count": 42,
   "metadata": {},
   "outputs": [
    {
     "ename": "OSError",
     "evalue": "[Errno 113] No route to host",
     "output_type": "error",
     "traceback": [
      "\u001b[0;31m---------------------------------------------------------------------------\u001b[0m",
      "\u001b[0;31mOSError\u001b[0m                                   Traceback (most recent call last)",
      "Cell \u001b[0;32mIn[42], line 9\u001b[0m\n\u001b[1;32m      7\u001b[0m expected_bits \u001b[38;5;241m=\u001b[39m LOWEST_BITS\n\u001b[1;32m      8\u001b[0m count \u001b[38;5;241m=\u001b[39m \u001b[38;5;241m1\u001b[39m\n\u001b[0;32m----> 9\u001b[0m node \u001b[38;5;241m=\u001b[39m \u001b[43mSimpleNode\u001b[49m\u001b[43m(\u001b[49m\u001b[38;5;124;43m'\u001b[39;49m\u001b[38;5;124;43mmainnet.programmingbitcoin.com\u001b[39;49m\u001b[38;5;124;43m'\u001b[39;49m\u001b[43m,\u001b[49m\u001b[43m \u001b[49m\u001b[43mtestnet\u001b[49m\u001b[38;5;241;43m=\u001b[39;49m\u001b[38;5;28;43;01mFalse\u001b[39;49;00m\u001b[43m)\u001b[49m\n\u001b[1;32m     10\u001b[0m node\u001b[38;5;241m.\u001b[39mhandshake()\n\u001b[1;32m     11\u001b[0m \u001b[38;5;28;01mfor\u001b[39;00m _ \u001b[38;5;129;01min\u001b[39;00m \u001b[38;5;28mrange\u001b[39m(\u001b[38;5;241m19\u001b[39m):\n",
      "File \u001b[0;32m~/Dev/git/programming-bitcoin/code-ch10/network.py:317\u001b[0m, in \u001b[0;36mSimpleNode.__init__\u001b[0;34m(self, host, port, testnet, logging)\u001b[0m\n\u001b[1;32m    315\u001b[0m \u001b[38;5;28mself\u001b[39m\u001b[38;5;241m.\u001b[39mlogging \u001b[38;5;241m=\u001b[39m logging\n\u001b[1;32m    316\u001b[0m \u001b[38;5;28mself\u001b[39m\u001b[38;5;241m.\u001b[39msocket \u001b[38;5;241m=\u001b[39m socket\u001b[38;5;241m.\u001b[39msocket(socket\u001b[38;5;241m.\u001b[39mAF_INET, socket\u001b[38;5;241m.\u001b[39mSOCK_STREAM)\n\u001b[0;32m--> 317\u001b[0m \u001b[38;5;28;43mself\u001b[39;49m\u001b[38;5;241;43m.\u001b[39;49m\u001b[43msocket\u001b[49m\u001b[38;5;241;43m.\u001b[39;49m\u001b[43mconnect\u001b[49m\u001b[43m(\u001b[49m\u001b[43m(\u001b[49m\u001b[43mhost\u001b[49m\u001b[43m,\u001b[49m\u001b[43m \u001b[49m\u001b[43mport\u001b[49m\u001b[43m)\u001b[49m\u001b[43m)\u001b[49m\n\u001b[1;32m    318\u001b[0m \u001b[38;5;28mself\u001b[39m\u001b[38;5;241m.\u001b[39mstream \u001b[38;5;241m=\u001b[39m \u001b[38;5;28mself\u001b[39m\u001b[38;5;241m.\u001b[39msocket\u001b[38;5;241m.\u001b[39mmakefile(\u001b[38;5;124m'\u001b[39m\u001b[38;5;124mrb\u001b[39m\u001b[38;5;124m'\u001b[39m, \u001b[38;5;28;01mNone\u001b[39;00m)\n",
      "\u001b[0;31mOSError\u001b[0m: [Errno 113] No route to host"
     ]
    }
   ],
   "source": [
    "from io import BytesIO\n",
    "from network import SimpleNode, GetHeadersMessage, HeadersMessage\n",
    "from block import Block, GENESIS_BLOCK, LOWEST_BITS\n",
    "from helper import calculate_new_bits\n",
    "previous = Block.parse(BytesIO(GENESIS_BLOCK))\n",
    "first_epoch_timestamp = previous.timestamp\n",
    "expected_bits = LOWEST_BITS\n",
    "count = 1\n",
    "node = SimpleNode('mainnet.programmingbitcoin.com', testnet=False)\n",
    "node.handshake()\n",
    "for _ in range(19):\n",
    "    getheaders = GetHeadersMessage(start_block=previous.hash())\n",
    "    node.send(getheaders)\n",
    "    headers = node.wait_for(HeadersMessage)\n",
    "    for header in headers.blocks:\n",
    "        if not header.check_pow():\n",
    "            raise RuntimeError('bad PoW at block {}'.format(count))\n",
    "        if header.prev_block != previous.hash():\n",
    "            raise RuntimeError('discontinuous block at {}'.format(count))\n",
    "        if count % 2016 == 0:\n",
    "            time_diff = previous.timestamp - first_epoch_timestamp\n",
    "            expected_bits = calculate_new_bits(previous.bits, time_diff)\n",
    "            print(expected_bits.hex())\n",
    "            first_epoch_timestamp = header.timestamp\n",
    "        if header.bits != expected_bits:\n",
    "            raise RuntimeError('bad bits at block {}'.format(count))\n",
    "        previous = header\n",
    "        count += 1"
   ]
  }
 ],
 "metadata": {
  "kernelspec": {
   "display_name": "Python 3 (ipykernel)",
   "language": "python",
   "name": "python3"
  },
  "language_info": {
   "codemirror_mode": {
    "name": "ipython",
    "version": 3
   },
   "file_extension": ".py",
   "mimetype": "text/x-python",
   "name": "python",
   "nbconvert_exporter": "python",
   "pygments_lexer": "ipython3",
   "version": "3.11.6"
  }
 },
 "nbformat": 4,
 "nbformat_minor": 4
}
