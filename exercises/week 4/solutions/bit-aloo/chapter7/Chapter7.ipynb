{
 "cells": [
  {
   "cell_type": "code",
   "execution_count": 26,
   "metadata": {},
   "outputs": [],
   "source": [
    "############## PLEASE RUN THIS CELL FIRST! ###################\n",
    "\n",
    "# import everything and define a test runner function\n",
    "from importlib import reload\n",
    "from helper import run\n",
    "import ecc\n",
    "import helper\n",
    "import tx\n",
    "import script"
   ]
  },
  {
   "cell_type": "code",
   "execution_count": 27,
   "metadata": {},
   "outputs": [
    {
     "name": "stdout",
     "output_type": "stream",
     "text": [
      "True\n"
     ]
    }
   ],
   "source": [
    "from tx import Tx\n",
    "from io import BytesIO\n",
    "raw_tx = ('0100000001813f79011acb80925dfe69b3def355fe914bd1d96a3f5f71bf8303c6a989c7d1000000006b483045022100ed81ff192e75a3fd2304004dcadb746fa5e24c5031ccfcf21320b0277457c98f02207a986d955c6e0cb35d446a89d3f56100f4d7f67801c31967743a9c8e10615bed01210349fc4e631e3624a545de3f89f5d8684c7b8138bd94bdd531d2e213bf016b278afeffffff02a135ef01000000001976a914bc3b654dca7e56b04dca18f2566cdaf02e8d9ada88ac99c39800000000001976a9141c4bc762dd5423e332166702cb75f40df79fea1288ac19430600')\n",
    "stream = BytesIO(bytes.fromhex(raw_tx))\n",
    "transaction = Tx.parse(stream)\n",
    "print(transaction.fee() >= 0)"
   ]
  },
  {
   "cell_type": "code",
   "execution_count": 28,
   "metadata": {},
   "outputs": [
    {
     "name": "stdout",
     "output_type": "stream",
     "text": [
      "True\n"
     ]
    }
   ],
   "source": [
    "from ecc import S256Point, Signature\n",
    "sec = bytes.fromhex('0349fc4e631e3624a545de3f89f5d8684c7b8138bd94bdd531d2e213bf016b278a')\n",
    "der = bytes.fromhex('3045022100ed81ff192e75a3fd2304004dcadb746fa5e24c5031ccfcf21320b0277457c98f02207a986d955c6e0cb35d446a89d3f56100f4d7f67801c31967743a9c8e10615bed')\n",
    "z = 0x27e0c5994dec7824e56dec6b2fcb342eb7cdb0d0957c2fce9882f715e85d81a6\n",
    "point = S256Point.parse(sec)\n",
    "signature = Signature.parse(der)\n",
    "print(point.verify(z, signature))"
   ]
  },
  {
   "cell_type": "code",
   "execution_count": 29,
   "metadata": {},
   "outputs": [
    {
     "name": "stdout",
     "output_type": "stream",
     "text": [
      "0x27e0c5994dec7824e56dec6b2fcb342eb7cdb0d0957c2fce9882f715e85d81a6\n"
     ]
    }
   ],
   "source": [
    "from helper import hash256\n",
    "modified_tx = bytes.fromhex('0100000001813f79011acb80925dfe69b3def355fe914bd1d96a3f5f71bf8303c6a989c7d1000000001976a914a802fc56c704ce87c42d7c92eb75e7896bdc41ae88acfeffffff02a135ef01000000001976a914bc3b654dca7e56b04dca18f2566cdaf02e8d9ada88ac99c39800000000001976a9141c4bc762dd5423e332166702cb75f40df79fea1288ac1943060001000000')\n",
    "h256 = hash256(modified_tx)\n",
    "z = int.from_bytes(h256, 'big')\n",
    "print(hex(z))"
   ]
  },
  {
   "cell_type": "code",
   "execution_count": 30,
   "metadata": {},
   "outputs": [
    {
     "data": {
      "text/plain": [
       "True"
      ]
     },
     "execution_count": 30,
     "metadata": {},
     "output_type": "execute_result"
    }
   ],
   "source": [
    "from ecc import S256Point, Signature\n",
    "sec = bytes.fromhex('0349fc4e631e3624a545de3f89f5d8684c7b8138bd94bdd531d2e213bf016b278a')\n",
    "der = bytes.fromhex('3045022100ed81ff192e75a3fd2304004dcadb746fa5e24c5031ccfcf21320b0277457c98f02207a986d955c6e0cb35d446a89d3f56100f4d7f67801c31967743a9c8e10615bed')\n",
    "z = 0x27e0c5994dec7824e56dec6b2fcb342eb7cdb0d0957c2fce9882f715e85d81a6\n",
    "point = S256Point.parse(sec)\n",
    "signature = Signature.parse(der)\n",
    "point.verify(z, signature)"
   ]
  },
  {
   "cell_type": "markdown",
   "metadata": {},
   "source": [
    "### Exercise 1\n",
    "\n",
    "Write the `sig_hash` method for the `Tx` class.\n",
    "\n",
    "#### Make [this test](/edit/code-ch07/tx.py) pass: `tx.py:TxTest:test_sig_hash`"
   ]
  },
  {
   "cell_type": "code",
   "execution_count": 31,
   "metadata": {},
   "outputs": [
    {
     "name": "stderr",
     "output_type": "stream",
     "text": [
      ".\n",
      "----------------------------------------------------------------------\n",
      "Ran 1 test in 0.001s\n",
      "\n",
      "OK\n"
     ]
    }
   ],
   "source": [
    "# Exercise 1\n",
    "\n",
    "reload(tx)\n",
    "run(tx.TxTest(\"test_sig_hash\"))"
   ]
  },
  {
   "cell_type": "markdown",
   "metadata": {},
   "source": [
    "### Exercise 2\n",
    "\n",
    "Write the `verify_input` method for the `Tx` class. You will want to use the `TxIn.script_pubkey()`, `Tx.sig_hash()` and `Script.evaluate()` methods.\n",
    "\n",
    "#### Make [this test](/edit/code-ch07/tx.py) pass: `tx.py:TxTest:test_verify_p2pkh`"
   ]
  },
  {
   "cell_type": "code",
   "execution_count": 32,
   "metadata": {},
   "outputs": [
    {
     "name": "stderr",
     "output_type": "stream",
     "text": [
      ".\n",
      "----------------------------------------------------------------------\n",
      "Ran 1 test in 0.230s\n",
      "\n",
      "OK\n"
     ]
    }
   ],
   "source": [
    "# Exercise 2\n",
    "\n",
    "reload(tx)\n",
    "run(tx.TxTest(\"test_verify_p2pkh\"))"
   ]
  },
  {
   "cell_type": "code",
   "execution_count": 33,
   "metadata": {},
   "outputs": [
    {
     "name": "stdout",
     "output_type": "stream",
     "text": [
      "tx: cd30a8da777d28ef0e61efe68a9f7c559c1d3e5bcd7b265c850ccb4068598d11\n",
      "version: 1\n",
      "tx_ins:\n",
      "0d6fe5213c0b3291f208cba8bfb59b7476dffacc4e5cb66f6eb20a080843a299:13\n",
      "tx_outs:\n",
      "33000000:OP_DUP OP_HASH160 d52ad7ca9b3d096a38e752c2018e6fbc40cdf26f OP_EQUALVERIFY OP_CHECKSIG\n",
      "10000000:OP_DUP OP_HASH160 507b27411ccf7f16f10297de6cef3f291623eddf OP_EQUALVERIFY OP_CHECKSIG\n",
      "locktime: 0\n"
     ]
    }
   ],
   "source": [
    "from helper import decode_base58, SIGHASH_ALL\n",
    "from script import p2pkh_script, Script\n",
    "from tx import TxIn, TxOut, Tx\n",
    "prev_tx = bytes.fromhex('0d6fe5213c0b3291f208cba8bfb59b7476dffacc4e5cb66f6eb20a080843a299')\n",
    "prev_index = 13\n",
    "tx_in = TxIn(prev_tx, prev_index)\n",
    "tx_outs = []\n",
    "change_amount = int(0.33*100000000)\n",
    "change_h160 = decode_base58('mzx5YhAH9kNHtcN481u6WkjeHjYtVeKVh2')\n",
    "change_script = p2pkh_script(change_h160)\n",
    "change_output = TxOut(amount=change_amount, script_pubkey=change_script)\n",
    "target_amount = int(0.1*100000000)\n",
    "target_h160 = decode_base58('mnrVtF8DWjMu839VW3rBfgYaAfKk8983Xf')\n",
    "target_script = p2pkh_script(target_h160)\n",
    "target_output = TxOut(amount=target_amount, script_pubkey=target_script)\n",
    "tx_obj = Tx(1, [tx_in], [change_output, target_output], 0, True)\n",
    "print(tx_obj)"
   ]
  },
  {
   "cell_type": "code",
   "execution_count": 34,
   "metadata": {},
   "outputs": [
    {
     "name": "stdout",
     "output_type": "stream",
     "text": [
      "0100000001813f79011acb80925dfe69b3def355fe914bd1d96a3f5f71bf8303c6a989c7d1000000006a47304402207db2402a3311a3b845b038885e3dd889c08126a8570f26a844e3e4049c482a11022010178cdca4129eacbeab7c44648bf5ac1f9cac217cd609d216ec2ebc8d242c0a012103935581e52c354cd2f484fe8ed83af7a3097005b2f9c60bff71d35bd795f54b67feffffff02a135ef01000000001976a914bc3b654dca7e56b04dca18f2566cdaf02e8d9ada88ac99c39800000000001976a9141c4bc762dd5423e332166702cb75f40df79fea1288ac19430600\n"
     ]
    }
   ],
   "source": [
    "from ecc import PrivateKey\n",
    "from helper import SIGHASH_ALL\n",
    "z = transaction.sig_hash(0)\n",
    "private_key = PrivateKey(secret=8675309)\n",
    "der = private_key.sign(z).der()\n",
    "sig = der + SIGHASH_ALL.to_bytes(1, 'big')\n",
    "sec = private_key.point.sec()\n",
    "script_sig = Script([sig, sec])\n",
    "transaction.tx_ins[0].script_sig = script_sig \n",
    "print(transaction.serialize().hex())"
   ]
  },
  {
   "cell_type": "code",
   "execution_count": 35,
   "metadata": {},
   "outputs": [
    {
     "name": "stdout",
     "output_type": "stream",
     "text": [
      "mn81594PzKZa9K3Jyy1ushpuEzrnTnxhVg\n"
     ]
    }
   ],
   "source": [
    "from ecc import PrivateKey\n",
    "from helper import hash256, little_endian_to_int\n",
    "secret = little_endian_to_int(hash256(b'Jimmy Song secret'))\n",
    "private_key = PrivateKey(secret)\n",
    "print(private_key.point.address(testnet=True))"
   ]
  },
  {
   "cell_type": "markdown",
   "metadata": {},
   "source": [
    "### Exercise 3\n",
    "\n",
    "Write the `sign_input` method for the `Tx` class.\n",
    "\n",
    "#### Make [this test](/edit/code-ch07/tx.py) pass: `tx.py:TxTest:test_sign_input`"
   ]
  },
  {
   "cell_type": "code",
   "execution_count": 36,
   "metadata": {},
   "outputs": [
    {
     "name": "stderr",
     "output_type": "stream",
     "text": [
      ".\n",
      "----------------------------------------------------------------------\n",
      "Ran 1 test in 0.185s\n",
      "\n",
      "OK\n"
     ]
    }
   ],
   "source": [
    "# Exercise 3\n",
    "\n",
    "reload(tx)\n",
    "run(tx.TxTest(\"test_sign_input\"))"
   ]
  },
  {
   "cell_type": "markdown",
   "metadata": {},
   "source": [
    "### Exercise 4\n",
    "\n",
    "Create a testnet transaction that sends 60% of a single UTXO to `mwJn1YPMq7y5F8J3LkC5Hxg9PHyZ5K4cFv`. The remaining amount minus fees should go back to your own change address. This should be a 1 input, 2 output transaction.\n",
    "\n",
    "You can broadcast the transaction at https://testnet.blockchain.info/pushtx"
   ]
  },
  {
   "cell_type": "code",
   "execution_count": 39,
   "metadata": {},
   "outputs": [
    {
     "name": "stdout",
     "output_type": "stream",
     "text": [
      "True\n",
      "01000000011c5fb4a35c40647bcacfeffcb8686f1e9925774c07a1dd26f6551f67bcc4a175010000006b483045022100911db8140f93f2a9c7fbef27c18829e428fae3a03ecfddc9699db1ccafd7b6b6022035dad7071c1b28f72e677dc0bcfd92b083d0c3a2e6e1d0191a73f67abd81f0b7012103935581e52c354cd2f484fe8ed83af7a3097005b2f9c60bff71d35bd795f54b67ffffffff0240420f00000000001976a914ad346f8eb57dee9a37981716e498120ae80e44f788ac9fbb0d00000000001976a914d52ad7ca9b3d096a38e752c2018e6fbc40cdf26f88ac00000000\n"
     ]
    }
   ],
   "source": [
    "# Exercise 4\n",
    "\n",
    "from ecc import PrivateKey\n",
    "from helper import decode_base58, SIGHASH_ALL\n",
    "from script import p2pkh_script, Script\n",
    "from tx import TxIn, TxOut, Tx\n",
    "\n",
    "# create 1 TxIn and 2 TxOuts\n",
    "# 1 of the TxOuts should be back to your address\n",
    "# the other TxOut should be to this address\n",
    "target_address = 'mwJn1YPMq7y5F8J3LkC5Hxg9PHyZ5K4cFv'\n",
    "\n",
    "# get the private key from the exercise in Chapter 4\n",
    "secret = 8675309\n",
    "priv = PrivateKey(secret=secret)\n",
    "# change address should be the address generated from Chapter 4\n",
    "change_address = \"mzx5YhAH9kNHtcN481u6WkjeHjYtVeKVh2\"\n",
    "\n",
    "\n",
    "# get the prev_tx and prev_index from the transaction where you got\n",
    "# some testnet coins\n",
    "prev_tx = bytes.fromhex('75a1c4bc671f55f626dda1074c7725991e6f68b8fcefcfca7\\\n",
    "b64405ca3b45f1c')\n",
    "prev_index = 1\n",
    "# create a transaction input for the previous transaction with\n",
    "tx_ins = []\n",
    "tx_ins.append(TxIn(prev_tx,prev_index))\n",
    "# the default ScriptSig and sequence\n",
    "\n",
    "\n",
    "# target amount should be 60% of the output amount\n",
    "target_amount = 0.01\n",
    "# set the fee to some reasonable amount\n",
    "# change amount = amount from the prev tx - target amount - fee\n",
    "change_amount = 0.009\n",
    "\n",
    "tx_outs = []\n",
    "# create a transaction output for the target amount and address\n",
    "h160 = decode_base58(target_address)\n",
    "script_pubkey = p2pkh_script(h160)\n",
    "target_satoshis = int(target_amount*100000000)\n",
    "tx_outs.append(TxOut(target_satoshis,script_pubkey))\n",
    "# create a transaction output for the change amount and address\n",
    "h160 = decode_base58(change_address)\n",
    "script_pubkey = p2pkh_script(h160)\n",
    "change_satoshi = int(change_amount*100000000)\n",
    "tx_outs.append(TxOut(change_satoshi,script_pubkey))\n",
    "# create the transaction object\n",
    "tx = Tx(1,tx_ins,tx_outs,0,testnet=True)\n",
    "\n",
    "# sign the one input in the transaction object using the private key\n",
    "print(tx.sign_input(0,priv))\n",
    "# print the transaction's serialization in hex\n",
    "print(tx.serialize().hex())\n",
    "# broadcast at http://testnet.blockchain.info/pushtx"
   ]
  },
  {
   "cell_type": "markdown",
   "metadata": {},
   "source": [
    "### Exercise 5\n",
    "\n",
    "Advanced: get some more testnet coins from a testnet faucet and create a 2 input, 1 output transaction. 1 input should be from the faucet, the other should be from the previous exercise, the output can be your own address.\n",
    "\n",
    "You can broadcast the transaction at https://testnet.blockchain.info/pushtx"
   ]
  },
  {
   "cell_type": "code",
   "execution_count": 40,
   "metadata": {},
   "outputs": [
    {
     "name": "stdout",
     "output_type": "stream",
     "text": [
      "True\n",
      "True\n",
      "01000000022f2afe57bde0822c793604baae834f2cd26155bf1c0d37480212c107e75cd011010000006a47304402204ca3ddd6ee3bbb3cc90b062afd699f68c90583e1256d384d5cc7a0c6a2509f1a02202ea7581e927e96fe5fad5924bed8cdfc3e2a6e0576bab947a732a3017f533a3e012103935581e52c354cd2f484fe8ed83af7a3097005b2f9c60bff71d35bd795f54b67ffffffff153db0202de27e7944c7fd651ec1d0fab1f1aaed4b0da60d9a1b06bd771ff651010000006b483045022100d67bc50a42476e2455bfc6b424125d8117538a3763d3939e0af13c843a79081a0220306e7e515027c440b1bb34f8bdf5186091245c36df21bda9642a06493dc29e0b012103935581e52c354cd2f484fe8ed83af7a3097005b2f9c60bff71d35bd795f54b67ffffffff0340420f00000000001976a914ad346f8eb57dee9a37981716e498120ae80e44f788ac9fbb0d00000000001976a914d52ad7ca9b3d096a38e752c2018e6fbc40cdf26f88acd0754100000000001976a914ad346f8eb57dee9a37981716e498120ae80e44f788ac00000000\n"
     ]
    }
   ],
   "source": [
    "# Exercise 5\n",
    "\n",
    "from ecc import PrivateKey\n",
    "from helper import decode_base58, SIGHASH_ALL\n",
    "from script import p2pkh_script, Script\n",
    "from tx import TxIn, TxOut, Tx\n",
    "\n",
    "# Create 2 TxIns, 1 from the Exercise 4 and 1 from a testnet faucet\n",
    "# Creat 1 TxOut to the address above\n",
    "target_address = 'mwJn1YPMq7y5F8J3LkC5Hxg9PHyZ5K4cFv'\n",
    "target_amount = 0.0429\n",
    "\n",
    "# get the private key from the exercise in Chapter 4\n",
    "secret = 8675309\n",
    "priv = PrivateKey(secret=secret)\n",
    "\n",
    "tx_ins=[]\n",
    "# get the prev_tx and prev_index from the transaction where you got\n",
    "# some testnet coins\n",
    "prev_tx = bytes.fromhex('11d05ce707c1120248370d1cbf5561d22c4f83aeba04367\\\n",
    "92c82e0bd57fe2a2f')\n",
    "prev_index = 1\n",
    "# create the first transaction input with the default ScriptSig and\n",
    "# sequence\n",
    "tx_ins.append(TxIn(prev_tx, prev_index))\n",
    "# get the prev_tx and prev_index from the transaction in Exercise 4\n",
    "prev_tx = bytes.fromhex('51f61f77bd061b9a0da60d4bedaaf1b1fad0c11e65fdc74\\\n",
    "4797ee22d20b03d15')\n",
    "prev_index = 1\n",
    "# create the second transaction input with the default ScriptSig and\n",
    "# sequence\n",
    "tx_ins.append(TxIn(prev_tx, prev_index))\n",
    "\n",
    "# set the fee to some reasonable amount\n",
    "# target amount should be the sum of the inputs - fee\n",
    "target_satoshis = int(target_amount*100000000)\n",
    "\n",
    "# create a transaction output for the amount and address\n",
    "h160 = decode_base58(target_address)\n",
    "script_pubkey = p2pkh_script(h160)\n",
    "target_satoshis = int(target_amount*100000000)\n",
    "tx_outs.append(TxOut(target_satoshis, script_pubkey))\n",
    "tx = Tx(1, tx_ins, tx_outs, 0, testnet=True)\n",
    "# sign the first input using the private key\n",
    "print(tx.sign_input(0, priv))\n",
    "# sign the second input using the private key\n",
    "print(tx.sign_input(1, priv)) \n",
    "# print the transaction's serialization in hex\n",
    "print(tx.serialize().hex())\n",
    "# broadcast at http://testnet.blockchain.info/pushtx"
   ]
  }
 ],
 "metadata": {
  "kernelspec": {
   "display_name": "Python 3",
   "language": "python",
   "name": "python3"
  },
  "language_info": {
   "codemirror_mode": {
    "name": "ipython",
    "version": 3
   },
   "file_extension": ".py",
   "mimetype": "text/x-python",
   "name": "python",
   "nbconvert_exporter": "python",
   "pygments_lexer": "ipython3",
   "version": "3.11.5"
  }
 },
 "nbformat": 4,
 "nbformat_minor": 2
}
