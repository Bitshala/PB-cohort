{
 "cells": [
  {
   "cell_type": "code",
   "execution_count": 1,
   "metadata": {},
   "outputs": [],
   "source": [
    "############## PLEASE RUN THIS CELL FIRST! ###################\n",
    "\n",
    "# import everything and define a test runner function\n",
    "from importlib import reload\n",
    "from helper import run\n",
    "import ecc\n",
    "import helper\n",
    "import tx\n",
    "import script"
   ]
  },
  {
   "cell_type": "code",
   "execution_count": 2,
   "metadata": {},
   "outputs": [
    {
     "name": "stdout",
     "output_type": "stream",
     "text": [
      "True\n"
     ]
    }
   ],
   "source": [
    "from tx import Tx\n",
    "from io import BytesIO\n",
    "raw_tx = ('0100000001813f79011acb80925dfe69b3def355fe914bd1d96a3f5f71bf8303c6a989c7d1000000006b483045022100ed81ff192e75a3fd2304004dcadb746fa5e24c5031ccfcf21320b0277457c98f02207a986d955c6e0cb35d446a89d3f56100f4d7f67801c31967743a9c8e10615bed01210349fc4e631e3624a545de3f89f5d8684c7b8138bd94bdd531d2e213bf016b278afeffffff02a135ef01000000001976a914bc3b654dca7e56b04dca18f2566cdaf02e8d9ada88ac99c39800000000001976a9141c4bc762dd5423e332166702cb75f40df79fea1288ac19430600')\n",
    "stream = BytesIO(bytes.fromhex(raw_tx))\n",
    "transaction = Tx.parse(stream)\n",
    "print(transaction.fee() >= 0)"
   ]
  },
  {
   "cell_type": "code",
   "execution_count": 3,
   "metadata": {},
   "outputs": [
    {
     "name": "stdout",
     "output_type": "stream",
     "text": [
      "True\n"
     ]
    }
   ],
   "source": [
    "from ecc import S256Point, Signature\n",
    "sec = bytes.fromhex('0349fc4e631e3624a545de3f89f5d8684c7b8138bd94bdd531d2e213bf016b278a')\n",
    "der = bytes.fromhex('3045022100ed81ff192e75a3fd2304004dcadb746fa5e24c5031ccfcf21320b0277457c98f02207a986d955c6e0cb35d446a89d3f56100f4d7f67801c31967743a9c8e10615bed')\n",
    "z = 0x27e0c5994dec7824e56dec6b2fcb342eb7cdb0d0957c2fce9882f715e85d81a6\n",
    "point = S256Point.parse(sec)\n",
    "signature = Signature.parse(der)\n",
    "print(point.verify(z, signature))"
   ]
  },
  {
   "cell_type": "code",
   "execution_count": 4,
   "metadata": {},
   "outputs": [
    {
     "name": "stdout",
     "output_type": "stream",
     "text": [
      "0x27e0c5994dec7824e56dec6b2fcb342eb7cdb0d0957c2fce9882f715e85d81a6\n"
     ]
    }
   ],
   "source": [
    "from helper import hash256\n",
    "modified_tx = bytes.fromhex('0100000001813f79011acb80925dfe69b3def355fe914bd1d96a3f5f71bf8303c6a989c7d1000000001976a914a802fc56c704ce87c42d7c92eb75e7896bdc41ae88acfeffffff02a135ef01000000001976a914bc3b654dca7e56b04dca18f2566cdaf02e8d9ada88ac99c39800000000001976a9141c4bc762dd5423e332166702cb75f40df79fea1288ac1943060001000000')\n",
    "h256 = hash256(modified_tx)\n",
    "z = int.from_bytes(h256, 'big')\n",
    "print(hex(z))"
   ]
  },
  {
   "cell_type": "code",
   "execution_count": 5,
   "metadata": {},
   "outputs": [
    {
     "data": {
      "text/plain": [
       "True"
      ]
     },
     "execution_count": 5,
     "metadata": {},
     "output_type": "execute_result"
    }
   ],
   "source": [
    "from ecc import S256Point, Signature\n",
    "sec = bytes.fromhex('0349fc4e631e3624a545de3f89f5d8684c7b8138bd94bdd531d2e213bf016b278a')\n",
    "der = bytes.fromhex('3045022100ed81ff192e75a3fd2304004dcadb746fa5e24c5031ccfcf21320b0277457c98f02207a986d955c6e0cb35d446a89d3f56100f4d7f67801c31967743a9c8e10615bed')\n",
    "z = 0x27e0c5994dec7824e56dec6b2fcb342eb7cdb0d0957c2fce9882f715e85d81a6\n",
    "point = S256Point.parse(sec)\n",
    "signature = Signature.parse(der)\n",
    "point.verify(z, signature)"
   ]
  },
  {
   "cell_type": "markdown",
   "metadata": {},
   "source": [
    "### Exercise 1\n",
    "\n",
    "Write the `sig_hash` method for the `Tx` class.\n",
    "\n",
    "#### Make [this test](/edit/code-ch07/tx.py) pass: `tx.py:TxTest:test_sig_hash`"
   ]
  },
  {
   "cell_type": "code",
   "execution_count": 6,
   "metadata": {},
   "outputs": [
    {
     "name": "stderr",
     "output_type": "stream",
     "text": [
      ".\n",
      "----------------------------------------------------------------------\n",
      "Ran 1 test in 0.007s\n",
      "\n",
      "OK\n"
     ]
    }
   ],
   "source": [
    "# Exercise 1\n",
    "\n",
    "reload(tx)\n",
    "run(tx.TxTest(\"test_sig_hash\"))"
   ]
  },
  {
   "cell_type": "markdown",
   "metadata": {},
   "source": [
    "### Exercise 2\n",
    "\n",
    "Write the `verify_input` method for the `Tx` class. You will want to use the `TxIn.script_pubkey()`, `Tx.sig_hash()` and `Script.evaluate()` methods.\n",
    "\n",
    "#### Make [this test](/edit/code-ch07/tx.py) pass: `tx.py:TxTest:test_verify_p2pkh`"
   ]
  },
  {
   "cell_type": "code",
   "execution_count": 7,
   "metadata": {},
   "outputs": [
    {
     "name": "stderr",
     "output_type": "stream",
     "text": [
      ".\n",
      "----------------------------------------------------------------------\n",
      "Ran 1 test in 0.336s\n",
      "\n",
      "OK\n"
     ]
    }
   ],
   "source": [
    "# Exercise 2\n",
    "\n",
    "reload(tx)\n",
    "run(tx.TxTest(\"test_verify_p2pkh\"))"
   ]
  },
  {
   "cell_type": "code",
   "execution_count": 8,
   "metadata": {},
   "outputs": [
    {
     "name": "stdout",
     "output_type": "stream",
     "text": [
      "tx: cd30a8da777d28ef0e61efe68a9f7c559c1d3e5bcd7b265c850ccb4068598d11\n",
      "version: 1\n",
      "tx_ins:\n",
      "0d6fe5213c0b3291f208cba8bfb59b7476dffacc4e5cb66f6eb20a080843a299:13\n",
      "tx_outs:\n",
      "33000000:OP_DUP OP_HASH160 d52ad7ca9b3d096a38e752c2018e6fbc40cdf26f OP_EQUALVERIFY OP_CHECKSIG\n",
      "10000000:OP_DUP OP_HASH160 507b27411ccf7f16f10297de6cef3f291623eddf OP_EQUALVERIFY OP_CHECKSIG\n",
      "locktime: 0\n"
     ]
    }
   ],
   "source": [
    "from helper import decode_base58, SIGHASH_ALL\n",
    "from script import p2pkh_script, Script\n",
    "from tx import TxIn, TxOut, Tx\n",
    "prev_tx = bytes.fromhex('0d6fe5213c0b3291f208cba8bfb59b7476dffacc4e5cb66f6eb20a080843a299')\n",
    "prev_index = 13\n",
    "tx_in = TxIn(prev_tx, prev_index)\n",
    "tx_outs = []\n",
    "change_amount = int(0.33*100000000)\n",
    "change_h160 = decode_base58('mzx5YhAH9kNHtcN481u6WkjeHjYtVeKVh2')\n",
    "change_script = p2pkh_script(change_h160)\n",
    "change_output = TxOut(amount=change_amount, script_pubkey=change_script)\n",
    "target_amount = int(0.1*100000000)\n",
    "target_h160 = decode_base58('mnrVtF8DWjMu839VW3rBfgYaAfKk8983Xf')\n",
    "target_script = p2pkh_script(target_h160)\n",
    "target_output = TxOut(amount=target_amount, script_pubkey=target_script)\n",
    "tx_obj = Tx(1, [tx_in], [change_output, target_output], 0, True)\n",
    "print(tx_obj)"
   ]
  },
  {
   "cell_type": "code",
   "execution_count": 9,
   "metadata": {},
   "outputs": [
    {
     "name": "stdout",
     "output_type": "stream",
     "text": [
      "0100000001813f79011acb80925dfe69b3def355fe914bd1d96a3f5f71bf8303c6a989c7d1000000006a47304402207db2402a3311a3b845b038885e3dd889c08126a8570f26a844e3e4049c482a11022010178cdca4129eacbeab7c44648bf5ac1f9cac217cd609d216ec2ebc8d242c0a012103935581e52c354cd2f484fe8ed83af7a3097005b2f9c60bff71d35bd795f54b67feffffff02a135ef01000000001976a914bc3b654dca7e56b04dca18f2566cdaf02e8d9ada88ac99c39800000000001976a9141c4bc762dd5423e332166702cb75f40df79fea1288ac19430600\n"
     ]
    }
   ],
   "source": [
    "from ecc import PrivateKey\n",
    "from helper import SIGHASH_ALL\n",
    "z = transaction.sig_hash(0)\n",
    "private_key = PrivateKey(secret=8675309)\n",
    "der = private_key.sign(z).der()\n",
    "sig = der + SIGHASH_ALL.to_bytes(1, 'big')\n",
    "sec = private_key.point.sec()\n",
    "script_sig = Script([sig, sec])\n",
    "transaction.tx_ins[0].script_sig = script_sig \n",
    "print(transaction.serialize().hex())"
   ]
  },
  {
   "cell_type": "code",
   "execution_count": 10,
   "metadata": {},
   "outputs": [
    {
     "name": "stdout",
     "output_type": "stream",
     "text": [
      "mn81594PzKZa9K3Jyy1ushpuEzrnTnxhVg\n"
     ]
    }
   ],
   "source": [
    "from ecc import PrivateKey\n",
    "from helper import hash256, little_endian_to_int\n",
    "secret = little_endian_to_int(hash256(b'Jimmy Song secret'))\n",
    "private_key = PrivateKey(secret)\n",
    "print(private_key.point.address(testnet=True))"
   ]
  },
  {
   "cell_type": "markdown",
   "metadata": {},
   "source": [
    "### Exercise 3\n",
    "\n",
    "Write the `sign_input` method for the `Tx` class.\n",
    "\n",
    "#### Make [this test](/edit/code-ch07/tx.py) pass: `tx.py:TxTest:test_sign_input`"
   ]
  },
  {
   "cell_type": "code",
   "execution_count": 17,
   "metadata": {},
   "outputs": [
    {
     "name": "stderr",
     "output_type": "stream",
     "text": [
      ".\n",
      "----------------------------------------------------------------------\n",
      "Ran 1 test in 0.249s\n",
      "\n",
      "OK\n"
     ]
    }
   ],
   "source": [
    "# Exercise 3\n",
    "\n",
    "reload(tx)\n",
    "run(tx.TxTest(\"test_sign_input\"))"
   ]
  },
  {
   "cell_type": "markdown",
   "metadata": {},
   "source": [
    "### Exercise 4\n",
    "\n",
    "Create a testnet transaction that sends 60% of a single UTXO to `mwJn1YPMq7y5F8J3LkC5Hxg9PHyZ5K4cFv`. The remaining amount minus fees should go back to your own change address. This should be a 1 input, 2 output transaction.\n",
    "\n",
    "You can broadcast the transaction at https://testnet.blockchain.info/pushtx"
   ]
  },
  {
   "cell_type": "code",
   "execution_count": 18,
   "metadata": {},
   "outputs": [
    {
     "name": "stdout",
     "output_type": "stream",
     "text": [
      "True\n",
      "01000000011c5fb4a35c40647bcacfeffcb8686f1e9925774c07a1dd26f6551f67bcc4a175010000006a473044022009de0ab8994ffac750c2e0546cef6ebb4f7dfcf1dba39b32407584274d450d4a0220738829532c25bfa84a2071ed0272a364cf7e386d18fc4de3a666adcdcb5f5c2c012103935581e52c354cd2f484fe8ed83af7a3097005b2f9c60bff71d35bd795f54b67ffffffff0240420f00000000001976a914d52ad7ca9b3d096a38e752c2018e6fbc40cdf26f88ac9fbb0d00000000001976a914d52ad7ca9b3d096a38e752c2018e6fbc40cdf26f88ac00000000\n"
     ]
    }
   ],
   "source": [
    "# Exercise 4\n",
    "\n",
    "from ecc import PrivateKey\n",
    "from helper import decode_base58, SIGHASH_ALL\n",
    "from script import p2pkh_script, Script\n",
    "from tx import TxIn, TxOut, Tx\n",
    "\n",
    "# create 1 TxIn and 2 TxOuts\n",
    "tx_ins = []\n",
    "tx_ins.append(TxIn(prev_tx, prev_index))\n",
    "tx_outs = []\n",
    "# 1 of the TxOuts should be back to your address\n",
    "# the other TxOut should be to this address\n",
    "target_address = 'mwJn1YPMq7y5F8J3LkC5Hxg9PHyZ5K4cFv'\n",
    "target_amount = 0.01\n",
    "\n",
    "# get the private key from the exercise in Chapter 4\n",
    "secret = 8675309\n",
    "priv = PrivateKey(secret=secret)\n",
    "# change address should be the address generated from Chapter 4\n",
    "change_address = 'mzx5YhAH9kNHtcN481u6WkjeHjYtVeKVh2'\n",
    "change_amount = 0.009\n",
    "\n",
    "# get the prev_tx and prev_index from the transaction where you got\n",
    "prev_tx = bytes.fromhex('75a1c4bc671f55f626dda1074c7725991e6f68b8fcefcfca7\\\n",
    "b64405ca3b45f1c')\n",
    "prev_index = 1\n",
    "\n",
    "h160 = decode_base58(target_address)\n",
    "script_pubkey = p2pkh_script(h160)\n",
    "\n",
    "h160 = decode_base58(change_address)\n",
    "script_pubkey = p2pkh_script(h160)\n",
    "\n",
    "# some testnet coins\n",
    "# create a transaction input for the previous transaction with\n",
    "# the default ScriptSig and sequence\n",
    "\n",
    "# target amount should be 60% of the output amount\n",
    "target_satoshis = int(target_amount*100000000)\n",
    "# set the fee to some reasonable amount\n",
    "\n",
    "# change amount = amount from the prev tx - target amount - fee\n",
    "change_satoshis = int(change_amount*100000000)\n",
    "\n",
    "# create a transaction output for the target amount and address\n",
    "tx_outs.append(TxOut(target_satoshis, script_pubkey))\n",
    "# create a transaction output for the change amount and address\n",
    "tx_outs.append(TxOut(change_satoshis, script_pubkey))\n",
    "# create the transaction object\n",
    "tx_obj = Tx(1, tx_ins, tx_outs, 0, testnet=True)\n",
    "\n",
    "# sign the one input in the transaction object using the private key\n",
    "print(tx_obj.sign_input(0, priv))\n",
    "# print the transaction's serialization in hex\n",
    "print(tx_obj.serialize().hex())"
   ]
  },
  {
   "cell_type": "markdown",
   "metadata": {},
   "source": [
    "### Exercise 5\n",
    "\n",
    "Advanced: get some more testnet coins from a testnet faucet and create a 2 input, 1 output transaction. 1 input should be from the faucet, the other should be from the previous exercise, the output can be your own address.\n",
    "\n",
    "You can broadcast the transaction at https://testnet.blockchain.info/pushtx"
   ]
  },
  {
   "cell_type": "code",
   "execution_count": 19,
   "metadata": {},
   "outputs": [
    {
     "name": "stdout",
     "output_type": "stream",
     "text": [
      "True\n",
      "True\n",
      "01000000022f2afe57bde0822c793604baae834f2cd26155bf1c0d37480212c107e75cd011010000006a47304402204cc5fe11b2b025f8fc9f6073b5e3942883bbba266b71751068badeb8f11f0364022070178363f5dea4149581a4b9b9dbad91ec1fd990e3fa14f9de3ccb421fa5b269012103935581e52c354cd2f484fe8ed83af7a3097005b2f9c60bff71d35bd795f54b67ffffffff153db0202de27e7944c7fd651ec1d0fab1f1aaed4b0da60d9a1b06bd771ff651010000006b483045022100b7a938d4679aa7271f0d32d83b61a85eb0180cf1261d44feaad23dfd9799dafb02205ff2f366ddd9555f7146861a8298b7636be8b292090a224c5dc84268480d8be1012103935581e52c354cd2f484fe8ed83af7a3097005b2f9c60bff71d35bd795f54b67ffffffff01d0754100000000001976a914ad346f8eb57dee9a37981716e498120ae80e44f788ac00000000\n"
     ]
    }
   ],
   "source": [
    "# Exercise 5\n",
    "\n",
    "from ecc import PrivateKey\n",
    "from helper import decode_base58, SIGHASH_ALL\n",
    "from script import p2pkh_script, Script\n",
    "from tx import TxIn, TxOut, Tx\n",
    "\n",
    "# Create 2 TxIns, 1 from the Exercise 4 and 1 from a testnet faucet\n",
    "tx_ins = []\n",
    "tx_outs = []\n",
    "prev_tx_1 = bytes.fromhex('11d05ce707c1120248370d1cbf5561d22c4f83aeba04367\\\n",
    "92c82e0bd57fe2a2f')\n",
    "prev_index_1 = 1\n",
    "prev_tx_2 = bytes.fromhex('51f61f77bd061b9a0da60d4bedaaf1b1fad0c11e65fdc74\\\n",
    "4797ee22d20b03d15')\n",
    "prev_index_2 = 1\n",
    "\n",
    "tx_ins.append(TxIn(prev_tx_1, prev_index_1))\n",
    "tx_ins.append(TxIn(prev_tx_2, prev_index_2))\n",
    "\n",
    "# Creat 1 TxOut to the address above\n",
    "target_address = 'mwJn1YPMq7y5F8J3LkC5Hxg9PHyZ5K4cFv'\n",
    "target_amount = 0.0429\n",
    "\n",
    "# get the private key from the exercise in Chapter 4\n",
    "secret = 8675309\n",
    "priv = PrivateKey(secret=secret)\n",
    "\n",
    "# get the prev_tx and prev_index from the transaction where you got\n",
    "h160 = decode_base58(target_address)\n",
    "script_pubkey = p2pkh_script(h160)\n",
    "target_satoshis = int(target_amount*100000000)\n",
    "tx_outs.append(TxOut(target_satoshis, script_pubkey))\n",
    "# some testnet coins\n",
    "# create the first transaction input with the default ScriptSig and\n",
    "# sequence\n",
    "# get the prev_tx and prev_index from the transaction in Exercise 4\n",
    "# create the second transaction input with the default ScriptSig and\n",
    "# sequence\n",
    "\n",
    "# set the fee to some reasonable amount\n",
    "# target amount should be the sum of the inputs - fee\n",
    "\n",
    "# create a transaction output for the amount and address\n",
    "\n",
    "# sign the first input using the private key\n",
    "# sign the second input using the private key \n",
    "# print the transaction's serialization in hex\n",
    "# broadcast at http://testnet.blockchain.info/pushtx\n",
    "\n",
    "\n",
    "\n",
    "tx_obj = Tx(1, tx_ins, tx_outs, 0, testnet=True)\n",
    "print(tx_obj.sign_input(0, priv))\n",
    "\n",
    "print(tx_obj.sign_input(1, priv))\n",
    "\n",
    "print(tx_obj.serialize().hex())"
   ]
  }
 ],
 "metadata": {
  "kernelspec": {
   "display_name": "Python 3 (ipykernel)",
   "language": "python",
   "name": "python3"
  },
  "language_info": {
   "codemirror_mode": {
    "name": "ipython",
    "version": 3
   },
   "file_extension": ".py",
   "mimetype": "text/x-python",
   "name": "python",
   "nbconvert_exporter": "python",
   "pygments_lexer": "ipython3",
   "version": "3.11.6"
  }
 },
 "nbformat": 4,
 "nbformat_minor": 4
}
