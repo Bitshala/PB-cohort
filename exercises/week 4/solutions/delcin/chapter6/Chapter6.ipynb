{
 "cells": [
  {
   "cell_type": "code",
   "execution_count": 6,
   "metadata": {},
   "outputs": [],
   "source": [
    "############## PLEASE RUN THIS CELL FIRST! ###################\n",
    "\n",
    "# import everything and define a test runner function\n",
    "from importlib import reload\n",
    "from helper import run\n",
    "import op\n",
    "import script"
   ]
  },
  {
   "cell_type": "markdown",
   "metadata": {},
   "source": [
    "### Exercise 1\n",
    "\n",
    "Write the `op_hash160` function.\n",
    "\n",
    "#### Make [this test](/edit/code-ch06/op.py) pass: `op.py:OpTest:test_op_hash160`"
   ]
  },
  {
   "cell_type": "code",
   "execution_count": 7,
   "metadata": {},
   "outputs": [
    {
     "name": "stderr",
     "output_type": "stream",
     "text": [
      ".\n",
      "----------------------------------------------------------------------\n",
      "Ran 1 test in 0.001s\n",
      "\n",
      "OK\n"
     ]
    }
   ],
   "source": [
    "# Exercise 1\n",
    "\n",
    "reload(op)\n",
    "run(op.OpTest(\"test_op_hash160\"))"
   ]
  },
  {
   "cell_type": "code",
   "execution_count": 8,
   "metadata": {},
   "outputs": [
    {
     "ename": "NotImplementedError",
     "evalue": "",
     "output_type": "error",
     "traceback": [
      "\u001b[0;31m---------------------------------------------------------------------------\u001b[0m",
      "\u001b[0;31mNotImplementedError\u001b[0m                       Traceback (most recent call last)",
      "\u001b[0;32m/tmp/ipykernel_43792/2963264738.py\u001b[0m in \u001b[0;36m<module>\u001b[0;34m\u001b[0m\n\u001b[1;32m      6\u001b[0m \u001b[0mscript_sig\u001b[0m \u001b[0;34m=\u001b[0m \u001b[0mScript\u001b[0m\u001b[0;34m(\u001b[0m\u001b[0;34m[\u001b[0m\u001b[0msig\u001b[0m\u001b[0;34m]\u001b[0m\u001b[0;34m)\u001b[0m\u001b[0;34m\u001b[0m\u001b[0;34m\u001b[0m\u001b[0m\n\u001b[1;32m      7\u001b[0m \u001b[0mcombined_script\u001b[0m \u001b[0;34m=\u001b[0m \u001b[0mscript_sig\u001b[0m \u001b[0;34m+\u001b[0m \u001b[0mscript_pubkey\u001b[0m\u001b[0;34m\u001b[0m\u001b[0;34m\u001b[0m\u001b[0m\n\u001b[0;32m----> 8\u001b[0;31m \u001b[0mprint\u001b[0m\u001b[0;34m(\u001b[0m\u001b[0mcombined_script\u001b[0m\u001b[0;34m.\u001b[0m\u001b[0mevaluate\u001b[0m\u001b[0;34m(\u001b[0m\u001b[0mz\u001b[0m\u001b[0;34m)\u001b[0m\u001b[0;34m)\u001b[0m\u001b[0;34m\u001b[0m\u001b[0;34m\u001b[0m\u001b[0m\n\u001b[0m",
      "\u001b[0;32m~/assignments/pb-cohort/exercises/week 4/solutions/delcin/chapter6/script.py\u001b[0m in \u001b[0;36mevaluate\u001b[0;34m(self, z)\u001b[0m\n\u001b[1;32m    121\u001b[0m                         \u001b[0;32mreturn\u001b[0m \u001b[0;32mFalse\u001b[0m\u001b[0;34m\u001b[0m\u001b[0;34m\u001b[0m\u001b[0m\n\u001b[1;32m    122\u001b[0m                 \u001b[0;32melif\u001b[0m \u001b[0mcmd\u001b[0m \u001b[0;32min\u001b[0m \u001b[0;34m(\u001b[0m\u001b[0;36m172\u001b[0m\u001b[0;34m,\u001b[0m \u001b[0;36m173\u001b[0m\u001b[0;34m,\u001b[0m \u001b[0;36m174\u001b[0m\u001b[0;34m,\u001b[0m \u001b[0;36m175\u001b[0m\u001b[0;34m)\u001b[0m\u001b[0;34m:\u001b[0m  \u001b[0;31m# <6>\u001b[0m\u001b[0;34m\u001b[0m\u001b[0;34m\u001b[0m\u001b[0m\n\u001b[0;32m--> 123\u001b[0;31m                     \u001b[0;32mif\u001b[0m \u001b[0;32mnot\u001b[0m \u001b[0moperation\u001b[0m\u001b[0;34m(\u001b[0m\u001b[0mstack\u001b[0m\u001b[0;34m,\u001b[0m \u001b[0mz\u001b[0m\u001b[0;34m)\u001b[0m\u001b[0;34m:\u001b[0m\u001b[0;34m\u001b[0m\u001b[0;34m\u001b[0m\u001b[0m\n\u001b[0m\u001b[1;32m    124\u001b[0m                         \u001b[0mLOGGER\u001b[0m\u001b[0;34m.\u001b[0m\u001b[0minfo\u001b[0m\u001b[0;34m(\u001b[0m\u001b[0;34m'bad op: {}'\u001b[0m\u001b[0;34m.\u001b[0m\u001b[0mformat\u001b[0m\u001b[0;34m(\u001b[0m\u001b[0mOP_CODE_NAMES\u001b[0m\u001b[0;34m[\u001b[0m\u001b[0mcmd\u001b[0m\u001b[0;34m]\u001b[0m\u001b[0;34m)\u001b[0m\u001b[0;34m)\u001b[0m\u001b[0;34m\u001b[0m\u001b[0;34m\u001b[0m\u001b[0m\n\u001b[1;32m    125\u001b[0m                         \u001b[0;32mreturn\u001b[0m \u001b[0;32mFalse\u001b[0m\u001b[0;34m\u001b[0m\u001b[0;34m\u001b[0m\u001b[0m\n",
      "\u001b[0;32m~/assignments/pb-cohort/exercises/week 4/solutions/delcin/chapter6/op.py\u001b[0m in \u001b[0;36mop_checksig\u001b[0;34m(stack, z)\u001b[0m\n\u001b[1;32m    673\u001b[0m     \u001b[0;31m# verify the signature using S256Point.verify()\u001b[0m\u001b[0;34m\u001b[0m\u001b[0;34m\u001b[0m\u001b[0m\n\u001b[1;32m    674\u001b[0m     \u001b[0;31m# push an encoded 1 or 0 depending on whether the signature verified\u001b[0m\u001b[0;34m\u001b[0m\u001b[0;34m\u001b[0m\u001b[0m\n\u001b[0;32m--> 675\u001b[0;31m     \u001b[0;32mif\u001b[0m \u001b[0mlen\u001b[0m\u001b[0;34m(\u001b[0m\u001b[0mstack\u001b[0m\u001b[0;34m)\u001b[0m \u001b[0;34m<\u001b[0m \u001b[0;36m2\u001b[0m\u001b[0;34m:\u001b[0m\u001b[0;34m\u001b[0m\u001b[0;34m\u001b[0m\u001b[0m\n\u001b[0m\u001b[1;32m    676\u001b[0m         \u001b[0mstack\u001b[0m\u001b[0;34m.\u001b[0m\u001b[0mpush\u001b[0m\u001b[0;34m(\u001b[0m\u001b[0;36m0\u001b[0m\u001b[0;34m)\u001b[0m\u001b[0;34m\u001b[0m\u001b[0;34m\u001b[0m\u001b[0m\n\u001b[1;32m    677\u001b[0m     \u001b[0msec\u001b[0m \u001b[0;34m=\u001b[0m \u001b[0mstack\u001b[0m\u001b[0;34m.\u001b[0m\u001b[0mpop\u001b[0m\u001b[0;34m(\u001b[0m\u001b[0;34m)\u001b[0m\u001b[0;34m\u001b[0m\u001b[0;34m\u001b[0m\u001b[0m\n",
      "\u001b[0;31mNotImplementedError\u001b[0m: "
     ]
    }
   ],
   "source": [
    "from script import Script\n",
    "z = 0x7c076ff316692a3d7eb3c3bb0f8b1488cf72e1afcd929e29307032997a838a3d\n",
    "sec = bytes.fromhex('04887387e452b8eacc4acfde10d9aaf7f6d9a0f975aabb10d006e4da568744d06c61de6d95231cd89026e286df3b6ae4a894a3378e393e93a0f45b666329a0ae34')\n",
    "sig = bytes.fromhex('3045022000eff69ef2b1bd93a66ed5219add4fb51e11a840f404876325a1e8ffe0529a2c022100c7207fee197d27c618aea621406f6bf5ef6fca38681d82b2f06fddbdce6feab601')\n",
    "script_pubkey = Script([sec, 0xac])\n",
    "script_sig = Script([sig])\n",
    "combined_script = script_sig + script_pubkey\n",
    "print(combined_script.evaluate(z))"
   ]
  },
  {
   "cell_type": "markdown",
   "metadata": {},
   "source": [
    "### Exercise 2\n",
    "\n",
    "Write the `op_checksig` function in `op.py`\n",
    "\n",
    "#### Make [this test](/edit/code-ch06/op.py) pass: `op.py:OpTest:test_op_checksig`"
   ]
  },
  {
   "cell_type": "code",
   "execution_count": 11,
   "metadata": {},
   "outputs": [
    {
     "name": "stderr",
     "output_type": "stream",
     "text": [
      ".\n",
      "----------------------------------------------------------------------\n",
      "Ran 1 test in 0.096s\n",
      "\n",
      "OK\n"
     ]
    }
   ],
   "source": [
    "# Exercise 2\n",
    "\n",
    "reload(op)\n",
    "run(op.OpTest(\"test_op_checksig\"))"
   ]
  },
  {
   "cell_type": "markdown",
   "metadata": {},
   "source": [
    "### Exercise 3\n",
    "\n",
    "Create a ScriptSig that can unlock this ScriptPubKey. Note `OP_MUL` multiplies the top two elements of the stack.\n",
    "\n",
    "`767695935687`\n",
    "\n",
    "* `56 = OP_6`\n",
    "* `76 = OP_DUP`\n",
    "* `87 = OP_EQUAL`\n",
    "* `93 = OP_ADD`\n",
    "* `95 = OP_MUL`"
   ]
  },
  {
   "cell_type": "code",
   "execution_count": 13,
   "metadata": {},
   "outputs": [
    {
     "name": "stdout",
     "output_type": "stream",
     "text": [
      "True\n"
     ]
    }
   ],
   "source": [
    "# Exercise 3\n",
    "\n",
    "from script import Script\n",
    "\n",
    "script_pubkey = Script([0x76, 0x76, 0x95, 0x93, 0x56, 0x87])\n",
    "script_sig = Script([0x52])  # Puts the equivalent of number two in stack\n",
    "# [2,2,2] -> [2, 4] -> [6] -> [6,6] -> [1]\n",
    "combined_script = script_sig + script_pubkey\n",
    "print(combined_script.evaluate(0))"
   ]
  },
  {
   "cell_type": "markdown",
   "metadata": {},
   "source": [
    "### Exercise 4\n",
    "\n",
    "Figure out what this Script is doing:\n",
    "\n",
    "`6e879169a77ca787`\n",
    "\n",
    "* `69 = OP_VERIFY`\n",
    "* `6e = OP_2DUP`\n",
    "* `7c = OP_SWAP`\n",
    "* `87 = OP_EQUAL`\n",
    "* `91 = OP_NOT`\n",
    "* `a7 = OP_SHA1`\n",
    "\n",
    "Use the `Script.parse` method and look up what various opcodes do at https://en.bitcoin.it/wiki/Script"
   ]
  },
  {
   "cell_type": "code",
   "execution_count": 14,
   "metadata": {},
   "outputs": [
    {
     "name": "stdout",
     "output_type": "stream",
     "text": [
      "True\n"
     ]
    }
   ],
   "source": [
    "# Exercise 4\n",
    "\n",
    "from script import Script\n",
    "\n",
    "script_pubkey = Script([0x6e, 0x87, 0x91, 0x69, 0xa7, 0x7c, 0xa7, 0x87])\n",
    "c1 = bytes.fromhex('255044462d312e330a25e2e3cfd30a0a0a312030206f626a0a3c3c2f576964746820\\\n",
    "32203020522f4865696768742033203020522f547970652034203020522f537562747970652035\\\n",
    "203020522f46696c7465722036203020522f436f6c6f7253706163652037203020522f4c656e67\\\n",
    "74682038203020522f42697473506572436f6d706f6e656e7420383e3e0a73747265616d0affd8\\\n",
    "fffe00245348412d3120697320646561642121212121852fec092339759c39b1a1c63c4c97e1ff\\\n",
    "fe017f46dc93a6b67e013b029aaa1db2560b45ca67d688c7f84b8c4c791fe02b3df614f86db169\\\n",
    "0901c56b45c1530afedfb76038e972722fe7ad728f0e4904e046c230570fe9d41398abe12ef5bc\\\n",
    "942be33542a4802d98b5d70f2a332ec37fac3514e74ddc0f2cc1a874cd0c78305a215664613097\\\n",
    "89606bd0bf3f98cda8044629a1')\n",
    "c2 = bytes.fromhex('255044462d312e330a25e2e3cfd30a0a0a312030206f626a0a3c3c2f576964746820\\\n",
    "32203020522f4865696768742033203020522f547970652034203020522f537562747970652035\\\n",
    "203020522f46696c7465722036203020522f436f6c6f7253706163652037203020522f4c656e67\\\n",
    "74682038203020522f42697473506572436f6d706f6e656e7420383e3e0a73747265616d0affd8\\\n",
    "fffe00245348412d3120697320646561642121212121852fec092339759c39b1a1c63c4c97e1ff\\\n",
    "fe017346dc9166b67e118f029ab621b2560ff9ca67cca8c7f85ba84c79030c2b3de218f86db3a9\\\n",
    "0901d5df45c14f26fedfb3dc38e96ac22fe7bd728f0e45bce046d23c570feb141398bb552ef5a0\\\n",
    "a82be331fea48037b8b5d71f0e332edf93ac3500eb4ddc0decc1a864790c782c76215660dd3097\\\n",
    "91d06bd0af3f98cda4bc4629b1')\n",
    "script_sig = Script([c1, c2])  # FILL THIS IN\n",
    "combined_script = script_sig + script_pubkey\n",
    "print(combined_script.evaluate(0))"
   ]
  }
 ],
 "metadata": {
  "kernelspec": {
   "display_name": "Python 3",
   "language": "python",
   "name": "python3"
  },
  "language_info": {
   "codemirror_mode": {
    "name": "ipython",
    "version": 3
   },
   "file_extension": ".py",
   "mimetype": "text/x-python",
   "name": "python",
   "nbconvert_exporter": "python",
   "pygments_lexer": "ipython3",
   "version": "3.10.12"
  }
 },
 "nbformat": 4,
 "nbformat_minor": 2
}
