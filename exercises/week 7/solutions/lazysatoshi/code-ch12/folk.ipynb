{
 "cells": [
  {
   "cell_type": "code",
   "execution_count": 1,
   "metadata": {},
   "outputs": [],
   "source": [
    "############## PLEASE RUN THIS CELL FIRST! ###################\n",
    "\n",
    "# import everything and define a test runner function\n",
    "from importlib import reload\n",
    "from helper import run\n",
    "import bloomfilter\n",
    "import block\n",
    "import ecc\n",
    "import helper\n",
    "import merkleblock\n",
    "import network\n",
    "import script\n",
    "import tx"
   ]
  },
  {
   "cell_type": "code",
   "execution_count": 2,
   "metadata": {},
   "outputs": [
    {
     "name": "stdout",
     "output_type": "stream",
     "text": [
      "[0, 0, 0, 0, 0, 0, 0, 0, 0, 1]\n"
     ]
    }
   ],
   "source": [
    "from helper import hash256\n",
    "bit_field_size = 10\n",
    "bit_field = [0] * bit_field_size\n",
    "h = hash256(b'hello world')\n",
    "bit = int.from_bytes(h, 'big') % bit_field_size\n",
    "bit_field[bit] = 1\n",
    "print(bit_field)"
   ]
  },
  {
   "cell_type": "code",
   "execution_count": 3,
   "metadata": {},
   "outputs": [
    {
     "name": "stdout",
     "output_type": "stream",
     "text": [
      "[0, 0, 1, 0, 0, 0, 0, 0, 0, 1]\n"
     ]
    }
   ],
   "source": [
    "from helper import hash256\n",
    "bit_field_size = 10\n",
    "bit_field = [0] * bit_field_size\n",
    "for item in (b'hello world', b'goodbye'):\n",
    "    h = hash256(item)\n",
    "    bit = int.from_bytes(h, 'big') % bit_field_size\n",
    "    bit_field[bit] = 1\n",
    "print(bit_field)"
   ]
  },
  {
   "cell_type": "markdown",
   "metadata": {},
   "source": [
    "### Exercise 1\n",
    "\n",
    "Calculate the Bloom Filter for 'hello world' and 'goodbye' using the `hash160` hash function over a bit field of 10."
   ]
  },
  {
   "cell_type": "code",
   "execution_count": 4,
   "metadata": {},
   "outputs": [
    {
     "name": "stdout",
     "output_type": "stream",
     "text": [
      "[1, 1, 0, 0, 0, 0, 0, 0, 0, 0]\n"
     ]
    }
   ],
   "source": [
    "# Exercise 1\n",
    "\n",
    "from helper import hash160\n",
    "\n",
    "bit_field_size = 10\n",
    "bit_field = [0] * bit_field_size\n",
    "items = (b'hello world', b'goodbye')\n",
    "# loop through each item\n",
    "for item in items:\n",
    "    # hash160 the item\n",
    "    h = hash160(item)\n",
    "    # interpret hash as a Big-Endian integer and mod by bit_field_size\n",
    "    idx = int.from_bytes(h,'big')%bit_field_size\n",
    "    # set that bit in bit_field to 1\n",
    "    bit_field[idx] = 1\n",
    "# print the bit_field\n",
    "print(bit_field)"
   ]
  },
  {
   "cell_type": "code",
   "execution_count": 5,
   "metadata": {},
   "outputs": [
    {
     "name": "stdout",
     "output_type": "stream",
     "text": [
      "[1, 1, 1, 0, 0, 0, 0, 0, 0, 1]\n"
     ]
    }
   ],
   "source": [
    "from helper import hash256, hash160\n",
    "bit_field_size = 10\n",
    "bit_field = [0] * bit_field_size\n",
    "for item in (b'hello world', b'goodbye'):\n",
    "    for hash_function in (hash256, hash160):\n",
    "        h = hash_function(item)\n",
    "        bit = int.from_bytes(h, 'big') % bit_field_size\n",
    "        bit_field[bit] = 1\n",
    "print(bit_field)"
   ]
  },
  {
   "cell_type": "code",
   "execution_count": 6,
   "metadata": {},
   "outputs": [
    {
     "name": "stdout",
     "output_type": "stream",
     "text": [
      "[0, 0, 0, 0, 0, 1, 1, 0, 0, 1, 1, 0, 0, 0, 0, 0]\n"
     ]
    }
   ],
   "source": [
    "from helper import murmur3\n",
    "from bloomfilter import BIP37_CONSTANT\n",
    "field_size = 2\n",
    "num_functions = 2\n",
    "tweak = 42\n",
    "bit_field_size = field_size * 8\n",
    "bit_field = [0] * bit_field_size\n",
    "for phrase in (b'hello world', b'goodbye'):\n",
    "    for i in range(num_functions):\n",
    "        seed = i * BIP37_CONSTANT + tweak\n",
    "        h = murmur3(phrase, seed=seed)\n",
    "        bit = h % bit_field_size\n",
    "        bit_field[bit] = 1\n",
    "print(bit_field)"
   ]
  },
  {
   "cell_type": "markdown",
   "metadata": {},
   "source": [
    "### Exercise 2\n",
    "\n",
    "Given a Bloom Filter with size=10, function count=5, tweak=99, what are the bytes that are set after adding these items? (use `bit_field_to_bytes` to convert to bytes)\n",
    "\n",
    "* `b'Hello World'`\n",
    "* `b'Goodbye!'`"
   ]
  },
  {
   "cell_type": "code",
   "execution_count": 7,
   "metadata": {},
   "outputs": [
    {
     "name": "stdout",
     "output_type": "stream",
     "text": [
      "4000600a080000010940\n"
     ]
    }
   ],
   "source": [
    "# Exercise 2\n",
    "\n",
    "from bloomfilter import BloomFilter, BIP37_CONSTANT\n",
    "from helper import bit_field_to_bytes, murmur3\n",
    "\n",
    "field_size = 10\n",
    "function_count = 5\n",
    "tweak = 99\n",
    "items = (b'Hello World',  b'Goodbye!')\n",
    "# calculate the bitfield size\n",
    "bit_field_size = field_size * 8\n",
    "# create an empty bit field\n",
    "bit_field = [0]*bit_field_size\n",
    "# loop through items\n",
    "for item in items:\n",
    "    # loop through function count\n",
    "    for i in range(function_count):\n",
    "        # calculate the seed\n",
    "        seed = i*BIP37_CONSTANT+tweak\n",
    "        # get the murmur3 hash of the item using the seed\n",
    "        h = murmur3(item,seed=seed)\n",
    "        # mod by the bitfield size\n",
    "        bit = h%bit_field_size\n",
    "        # set the bit\n",
    "        bit_field[bit] = 1\n",
    "# convert the bit field to bytes\n",
    "print(bit_field_to_bytes(bit_field).hex())\n",
    "# print the bytes in hex"
   ]
  },
  {
   "cell_type": "markdown",
   "metadata": {},
   "source": [
    "### Exercise 3\n",
    "\n",
    "Write the `add` method for `BloomFilter`\n",
    "\n",
    "#### Make [this test](/edit/code-ch12/bloomfilter.py) pass: `bloomfilter.py:BloomFilterTest:test_add`"
   ]
  },
  {
   "cell_type": "code",
   "execution_count": 8,
   "metadata": {},
   "outputs": [
    {
     "name": "stderr",
     "output_type": "stream",
     "text": [
      ".\n",
      "----------------------------------------------------------------------\n",
      "Ran 1 test in 0.001s\n",
      "\n",
      "OK\n"
     ]
    }
   ],
   "source": [
    "# Exercise 3\n",
    "\n",
    "reload(bloomfilter)\n",
    "run(bloomfilter.BloomFilterTest(\"test_add\"))"
   ]
  },
  {
   "cell_type": "markdown",
   "metadata": {},
   "source": [
    "### Exercise 4\n",
    "\n",
    "Write the  `filterload` payload from the `BloomFilter` class.\n",
    "\n",
    "#### Make [this test](/edit/code-ch12/bloomfilter.py) pass: `bloomfilter.py:BloomFilterTest:test_filterload`"
   ]
  },
  {
   "cell_type": "code",
   "execution_count": 9,
   "metadata": {},
   "outputs": [
    {
     "name": "stderr",
     "output_type": "stream",
     "text": [
      ".\n",
      "----------------------------------------------------------------------\n",
      "Ran 1 test in 0.001s\n",
      "\n",
      "OK\n"
     ]
    }
   ],
   "source": [
    "# Exercise 4\n",
    "\n",
    "reload(bloomfilter)\n",
    "run(bloomfilter.BloomFilterTest(\"test_filterload\"))"
   ]
  },
  {
   "cell_type": "markdown",
   "metadata": {},
   "source": [
    "### Exercise 5\n",
    "\n",
    "Write the `serialize` method for the `GetDataMessage` class.\n",
    "\n",
    "#### Make [this test](/edit/code-ch12/network.py) pass: `network.py:GetDataMessageTest:test_serialize`"
   ]
  },
  {
   "cell_type": "code",
   "execution_count": 10,
   "metadata": {},
   "outputs": [
    {
     "name": "stderr",
     "output_type": "stream",
     "text": [
      ".\n",
      "----------------------------------------------------------------------\n",
      "Ran 1 test in 0.000s\n",
      "\n",
      "OK\n"
     ]
    }
   ],
   "source": [
    "# Exercise 5\n",
    "\n",
    "reload(network)\n",
    "run(network.GetDataMessageTest(\"test_serialize\"))"
   ]
  },
  {
   "cell_type": "code",
   "execution_count": 8,
   "metadata": {},
   "outputs": [
    {
     "name": "stdout",
     "output_type": "stream",
     "text": [
      "found: e3930e1e566ca9b75d53b0eb9acb7607f547e1182d1d22bd4b661cfe18dcddf1:0\n"
     ]
    }
   ],
   "source": [
    "from bloomfilter import BloomFilter\n",
    "from helper import decode_base58\n",
    "from merkleblock import MerkleBlock\n",
    "from network import FILTERED_BLOCK_DATA_TYPE, GetHeadersMessage, GetDataMessage, HeadersMessage, SimpleNode\n",
    "from tx import Tx\n",
    "last_block_hex = '00000000000538d5c2246336644f9a4956551afb44ba47278759ec55ea912e19'\n",
    "address = 'mwJn1YPMq7y5F8J3LkC5Hxg9PHyZ5K4cFv'\n",
    "h160 = decode_base58(address)\n",
    "node = SimpleNode('192.168.1.105', testnet=True, logging=False)\n",
    "bf = BloomFilter(size=30, function_count=5, tweak=90210)\n",
    "bf.add(h160)\n",
    "node.handshake()\n",
    "node.send(bf.filterload())\n",
    "start_block = bytes.fromhex(last_block_hex)\n",
    "getheaders = GetHeadersMessage(start_block=start_block)\n",
    "node.send(getheaders)\n",
    "headers = node.wait_for(HeadersMessage)\n",
    "getdata = GetDataMessage()\n",
    "for b in headers.blocks:\n",
    "    if not b.check_pow():\n",
    "        raise RuntimeError('proof of work is invalid')\n",
    "    getdata.add_data(FILTERED_BLOCK_DATA_TYPE, b.hash())\n",
    "node.send(getdata)\n",
    "found = False\n",
    "while not found:\n",
    "    message = node.wait_for(MerkleBlock, Tx)\n",
    "    if message.command == b'merkleblock':\n",
    "        if not message.is_valid():\n",
    "            raise RuntimeError('invalid merkle proof')\n",
    "    else:\n",
    "        for i, tx_out in enumerate(message.tx_outs):\n",
    "            if tx_out.script_pubkey.address(testnet=True) == address:\n",
    "                print('found: {}:{}'.format(message.id(), i))\n",
    "                found = True\n",
    "                break"
   ]
  },
  {
   "cell_type": "markdown",
   "metadata": {},
   "source": [
    "### Exercise 6\n",
    "\n",
    "Get the current testnet block ID, send yourself some testnet coins, find the UTXO corresponding to the testnet coin _without using a block explorer_, create a transaction using that UTXO as an input and broadcast the `tx` message on the  testnet network."
   ]
  },
  {
   "cell_type": "code",
   "execution_count": 13,
   "metadata": {},
   "outputs": [
    {
     "name": "stdout",
     "output_type": "stream",
     "text": [
      "mqRC9L9L1QPrB1vHCZNuKDLLXW88hKNFYn\n",
      "sending: version: 7f11010000000000000000004a407f6500000000000000000000000000000000000000000000ffff00000000208d000000000000000000000000000000000000ffff00000000208d8667debbdb1aa3a9182f70726f6772616d6d696e67626974636f696e3a302e312f0000000000\n",
      "receiving: version: 801101000d040000000000004a407f650000000000000000000000000000000000000000000000000000000000000d04000000000000000000000000000000000000000000000000839109a35f6782bb102f5361746f7368693a32332e302e302f4ece260001\n",
      "sending: verack: \n",
      "receiving: verack: \n",
      "sending: filterload: 1e010000000000000020800000040000001000000000000000000000000000050000008340030001\n",
      "sending: getheaders: 7f110100013b94e80f95cfcef57c6d5f2ce27da4fbfbc934ae8ac0d1450912bcb8000000000000000000000000000000000000000000000000000000000000000000000000\n",
      "receiving: sendheaders: \n",
      "receiving: sendcmpct: 000200000000000000\n",
      "receiving: sendcmpct: 000100000000000000\n",
      "receiving: ping: 85446fd41fe39569\n",
      "sending: pong: 85446fd41fe39569\n",
      "receiving: feefilter: e803000000000000\n",
      "receiving: headers: 07000080203b94e80f95cfcef57c6d5f2ce27da4fbfbc934ae8ac0d1450912bcb80000000039f95fbe23719195606b44cb6f29cc3e5735f6524ae9402f5c562b54e33c151860297f65efdf28193316861c0000000020098862490342f7c6cd529e3c8b3ec6e17e920f445d63f916260000000000000023c5d76f24fbf0741a625727249e050b1c46597874f9a0e40971ff7f3d66616b182e7f65ffff001dc083f43b0000000020d2c6e8c9897cdbe2bbdc733d25c6ca1ea49a06f5081d55b2e683fa490000000054c5fd0197ba983e5acf7bfe6151589e61d9d10ba568f03f2e8ff8bf7fd66bfacf327f65ffff001d548524fb000000002070921795b1f87f29d34bf53664b246e3878e771e56d8b2ff0363000000000000f2625c7c09f2c5d75fb34fc32ea455375cbe64c8f6f2ab5ab30be89b9b4c7b8682377f65ffff001d5ead53c40000004020caa2ae1e8a995c0d3a6728634cf7e8c14e4a9166562edd367366000000000000aca37fdbed21fe8fc11c8c520e64ed7efbbeb13661880647c50ea9de9138e5d52d387f65efdf2819895f052d00008000203fa2e4f8a30acca3a33b8226f34dc5d01959167e556fd03c1f00000000000000125c620f78aef07bff93551e055bbca90104b39b5fcdecd60a45ebfbda739a3f5e3b7f65efdf2819678c456b0000e00020226c96d7d6d75cbe81d44411ef7da13a9356eb7c4284c116020000000000000071301529cdacbb246d7e50dd6dfbf5a93034739f24afe0c3424fa2a970f0561b14407f65ffff001db5eef81800\n",
      "sending: getdata: 0703000000098862490342f7c6cd529e3c8b3ec6e17e920f445d63f916260000000000000003000000d2c6e8c9897cdbe2bbdc733d25c6ca1ea49a06f5081d55b2e683fa49000000000300000070921795b1f87f29d34bf53664b246e3878e771e56d8b2ff036300000000000003000000caa2ae1e8a995c0d3a6728634cf7e8c14e4a9166562edd367366000000000000030000003fa2e4f8a30acca3a33b8226f34dc5d01959167e556fd03c1f0000000000000003000000226c96d7d6d75cbe81d44411ef7da13a9356eb7c4284c116020000000000000003000000ccefef90e055364663d18a88413d13ac15aa9a21ba857d0c3bbe050000000000\n",
      "receiving: merkleblock: 000080203b94e80f95cfcef57c6d5f2ce27da4fbfbc934ae8ac0d1450912bcb80000000039f95fbe23719195606b44cb6f29cc3e5735f6524ae9402f5c562b54e33c151860297f65efdf28193316861c050000000139f95fbe23719195606b44cb6f29cc3e5735f6524ae9402f5c562b54e33c15180100\n",
      "receiving: merkleblock: 00000020098862490342f7c6cd529e3c8b3ec6e17e920f445d63f916260000000000000023c5d76f24fbf0741a625727249e050b1c46597874f9a0e40971ff7f3d66616b182e7f65ffff001dc083f43b3f0000000123c5d76f24fbf0741a625727249e050b1c46597874f9a0e40971ff7f3d66616b0100\n",
      "receiving: merkleblock: 00000020d2c6e8c9897cdbe2bbdc733d25c6ca1ea49a06f5081d55b2e683fa490000000054c5fd0197ba983e5acf7bfe6151589e61d9d10ba568f03f2e8ff8bf7fd66bfacf327f65ffff001d548524fb350000000154c5fd0197ba983e5acf7bfe6151589e61d9d10ba568f03f2e8ff8bf7fd66bfa0100\n",
      "receiving: merkleblock: 0000002070921795b1f87f29d34bf53664b246e3878e771e56d8b2ff0363000000000000f2625c7c09f2c5d75fb34fc32ea455375cbe64c8f6f2ab5ab30be89b9b4c7b8682377f65ffff001d5ead53c44b00000001f2625c7c09f2c5d75fb34fc32ea455375cbe64c8f6f2ab5ab30be89b9b4c7b860100\n",
      "receiving: merkleblock: 00004020caa2ae1e8a995c0d3a6728634cf7e8c14e4a9166562edd367366000000000000aca37fdbed21fe8fc11c8c520e64ed7efbbeb13661880647c50ea9de9138e5d52d387f65efdf2819895f052d0a00000001aca37fdbed21fe8fc11c8c520e64ed7efbbeb13661880647c50ea9de9138e5d50100\n",
      "receiving: merkleblock: 008000203fa2e4f8a30acca3a33b8226f34dc5d01959167e556fd03c1f00000000000000125c620f78aef07bff93551e055bbca90104b39b5fcdecd60a45ebfbda739a3f5e3b7f65efdf2819678c456b3500000001125c620f78aef07bff93551e055bbca90104b39b5fcdecd60a45ebfbda739a3f0100\n",
      "receiving: merkleblock: 00e00020226c96d7d6d75cbe81d44411ef7da13a9356eb7c4284c116020000000000000071301529cdacbb246d7e50dd6dfbf5a93034739f24afe0c3424fa2a970f0561b14407f65ffff001db5eef8185000000006544043e39c15ce3df89d63e45579df3f57a3a7d81bbb029184f7c285e97e57a0ec6e8691bd5415e80f818ee513a19d59dac23b13ad31c8de2108c64b393cce2fb5f85b2932ba966dd4bc3127d1fc4b87457cad2b3ed63105df36ed821aa2c592c0e186c5dba5be10cc8de19829e35fc8a179a23044923001f17433153210d3fed9468584b967a62732d501d738c08787d315762e431b9f0e59fdeb3152b7aa347d0b06fb6219952731f75a2b52994167103dbe038fd3c8b5a8c22dfe4e289441025d0b\n",
      "receiving: tx: 0200000001c21c86fc97df24b28e92640c24e9750b5e49c753b5e39c14f1e6d50cd0124bda0000000000fdffffff02d0070000000000001976a9146c9a52b8c2eb2f2c21b89bd626d357a92ebd910688ac1816000000000000160014b78940ee3071ac515b989c33cf42e22c23ae980d4cce2600\n",
      "found: 34aab75231ebfd590e9f1b432e7615d38787c038d701d53227a667b9848546d9:0\n",
      "True\n",
      "0100000001d9468584b967a62732d501d738c08787d315762e431b9f0e59fdeb3152b7aa34000000006b483045022100a48cf0dc504d100d3aae8c58a79d2eb4dfb8f147c5fde3f2a1b8455aecea4bca0220727737324a7f11e637d58578f89017c61d5d64cc9ccf8c3b2b5eac4a3657ec51012102b47edc9403bb419ab5dafe4444797f0e9e700c97faaa98678fbb8e9db0761688ffffffff0114050000000000001976a914ad346f8eb57dee9a37981716e498120ae80e44f788ac00000000\n",
      "sending: tx: 0100000001d9468584b967a62732d501d738c08787d315762e431b9f0e59fdeb3152b7aa34000000006b483045022100a48cf0dc504d100d3aae8c58a79d2eb4dfb8f147c5fde3f2a1b8455aecea4bca0220727737324a7f11e637d58578f89017c61d5d64cc9ccf8c3b2b5eac4a3657ec51012102b47edc9403bb419ab5dafe4444797f0e9e700c97faaa98678fbb8e9db0761688ffffffff0114050000000000001976a914ad346f8eb57dee9a37981716e498120ae80e44f788ac00000000\n",
      "sending: getdata: 010100000074fa8498b65263e9d6e14aa07b81bfd3b68b7f41207b727e2bdfa70517203e00\n",
      "receiving: notfound: 010100000074fa8498b65263e9d6e14aa07b81bfd3b68b7f41207b727e2bdfa70517203e00\n",
      "receiving: ping: 6ddfd0277696f35a\n",
      "sending: pong: 6ddfd0277696f35a\n",
      "receiving: ping: ee39e7f94c1a27c3\n",
      "sending: pong: ee39e7f94c1a27c3\n",
      "receiving: ping: b1c2942b09e4932f\n",
      "sending: pong: b1c2942b09e4932f\n"
     ]
    },
    {
     "ename": "KeyboardInterrupt",
     "evalue": "",
     "output_type": "error",
     "traceback": [
      "\u001b[0;31m---------------------------------------------------------------------------\u001b[0m",
      "\u001b[0;31mKeyboardInterrupt\u001b[0m                         Traceback (most recent call last)",
      "Cell \u001b[0;32mIn[13], line 124\u001b[0m\n\u001b[1;32m    122\u001b[0m node\u001b[38;5;241m.\u001b[39msend(getdata)\n\u001b[1;32m    123\u001b[0m \u001b[38;5;66;03m# now wait for a Tx response\u001b[39;00m\n\u001b[0;32m--> 124\u001b[0m received_tx \u001b[38;5;241m=\u001b[39m \u001b[43mnode\u001b[49m\u001b[38;5;241;43m.\u001b[39;49m\u001b[43mwait_for\u001b[49m\u001b[43m(\u001b[49m\u001b[43mTx\u001b[49m\u001b[43m)\u001b[49m\n\u001b[1;32m    125\u001b[0m \u001b[38;5;66;03m# if the received tx has the same id as our tx, we are done!\u001b[39;00m\n\u001b[1;32m    126\u001b[0m \u001b[38;5;28;01mif\u001b[39;00m received_tx\u001b[38;5;241m.\u001b[39mid() \u001b[38;5;241m==\u001b[39m tx_obj\u001b[38;5;241m.\u001b[39mid():     \n",
      "File \u001b[0;32m/bigfs/python/programingbitcoin/code-ch12/network.py:398\u001b[0m, in \u001b[0;36mSimpleNode.wait_for\u001b[0;34m(self, *message_classes)\u001b[0m\n\u001b[1;32m    395\u001b[0m \u001b[38;5;66;03m# loop until the command is in the commands we want\u001b[39;00m\n\u001b[1;32m    396\u001b[0m \u001b[38;5;28;01mwhile\u001b[39;00m command \u001b[38;5;129;01mnot\u001b[39;00m \u001b[38;5;129;01min\u001b[39;00m command_to_class\u001b[38;5;241m.\u001b[39mkeys():\n\u001b[1;32m    397\u001b[0m     \u001b[38;5;66;03m# get the next network message\u001b[39;00m\n\u001b[0;32m--> 398\u001b[0m     envelope \u001b[38;5;241m=\u001b[39m \u001b[38;5;28;43mself\u001b[39;49m\u001b[38;5;241;43m.\u001b[39;49m\u001b[43mread\u001b[49m\u001b[43m(\u001b[49m\u001b[43m)\u001b[49m\n\u001b[1;32m    399\u001b[0m     \u001b[38;5;66;03m# set the command to be evaluated\u001b[39;00m\n\u001b[1;32m    400\u001b[0m     command \u001b[38;5;241m=\u001b[39m envelope\u001b[38;5;241m.\u001b[39mcommand\n",
      "File \u001b[0;32m/bigfs/python/programingbitcoin/code-ch12/network.py:385\u001b[0m, in \u001b[0;36mSimpleNode.read\u001b[0;34m(self)\u001b[0m\n\u001b[1;32m    383\u001b[0m \u001b[38;5;28;01mdef\u001b[39;00m \u001b[38;5;21mread\u001b[39m(\u001b[38;5;28mself\u001b[39m):\n\u001b[1;32m    384\u001b[0m \u001b[38;5;250m    \u001b[39m\u001b[38;5;124;03m'''Read a message from the socket'''\u001b[39;00m\n\u001b[0;32m--> 385\u001b[0m     envelope \u001b[38;5;241m=\u001b[39m \u001b[43mNetworkEnvelope\u001b[49m\u001b[38;5;241;43m.\u001b[39;49m\u001b[43mparse\u001b[49m\u001b[43m(\u001b[49m\u001b[38;5;28;43mself\u001b[39;49m\u001b[38;5;241;43m.\u001b[39;49m\u001b[43mstream\u001b[49m\u001b[43m,\u001b[49m\u001b[43m \u001b[49m\u001b[43mtestnet\u001b[49m\u001b[38;5;241;43m=\u001b[39;49m\u001b[38;5;28;43mself\u001b[39;49m\u001b[38;5;241;43m.\u001b[39;49m\u001b[43mtestnet\u001b[49m\u001b[43m)\u001b[49m\n\u001b[1;32m    386\u001b[0m     \u001b[38;5;28;01mif\u001b[39;00m \u001b[38;5;28mself\u001b[39m\u001b[38;5;241m.\u001b[39mlogging:\n\u001b[1;32m    387\u001b[0m         \u001b[38;5;28mprint\u001b[39m(\u001b[38;5;124m'\u001b[39m\u001b[38;5;124mreceiving: \u001b[39m\u001b[38;5;132;01m{}\u001b[39;00m\u001b[38;5;124m'\u001b[39m\u001b[38;5;241m.\u001b[39mformat(envelope))\n",
      "File \u001b[0;32m/bigfs/python/programingbitcoin/code-ch12/network.py:46\u001b[0m, in \u001b[0;36mNetworkEnvelope.parse\u001b[0;34m(cls, s, testnet)\u001b[0m\n\u001b[1;32m     44\u001b[0m \u001b[38;5;250m\u001b[39m\u001b[38;5;124;03m'''Takes a stream and creates a NetworkEnvelope'''\u001b[39;00m\n\u001b[1;32m     45\u001b[0m \u001b[38;5;66;03m# check the network magic\u001b[39;00m\n\u001b[0;32m---> 46\u001b[0m magic \u001b[38;5;241m=\u001b[39m s\u001b[38;5;241m.\u001b[39mread(\u001b[38;5;241m4\u001b[39m)\n\u001b[1;32m     47\u001b[0m \u001b[38;5;28;01mif\u001b[39;00m magic \u001b[38;5;241m==\u001b[39m \u001b[38;5;124mb\u001b[39m\u001b[38;5;124m'\u001b[39m\u001b[38;5;124m'\u001b[39m:\n\u001b[1;32m     48\u001b[0m     \u001b[38;5;28;01mraise\u001b[39;00m \u001b[38;5;167;01mRuntimeError\u001b[39;00m(\u001b[38;5;124m'\u001b[39m\u001b[38;5;124mConnection reset!\u001b[39m\u001b[38;5;124m'\u001b[39m)\n",
      "File \u001b[0;32m/usr/lib/python3.11/socket.py:706\u001b[0m, in \u001b[0;36mSocketIO.readinto\u001b[0;34m(self, b)\u001b[0m\n\u001b[1;32m    704\u001b[0m \u001b[38;5;28;01mwhile\u001b[39;00m \u001b[38;5;28;01mTrue\u001b[39;00m:\n\u001b[1;32m    705\u001b[0m     \u001b[38;5;28;01mtry\u001b[39;00m:\n\u001b[0;32m--> 706\u001b[0m         \u001b[38;5;28;01mreturn\u001b[39;00m \u001b[38;5;28;43mself\u001b[39;49m\u001b[38;5;241;43m.\u001b[39;49m\u001b[43m_sock\u001b[49m\u001b[38;5;241;43m.\u001b[39;49m\u001b[43mrecv_into\u001b[49m\u001b[43m(\u001b[49m\u001b[43mb\u001b[49m\u001b[43m)\u001b[49m\n\u001b[1;32m    707\u001b[0m     \u001b[38;5;28;01mexcept\u001b[39;00m timeout:\n\u001b[1;32m    708\u001b[0m         \u001b[38;5;28mself\u001b[39m\u001b[38;5;241m.\u001b[39m_timeout_occurred \u001b[38;5;241m=\u001b[39m \u001b[38;5;28;01mTrue\u001b[39;00m\n",
      "\u001b[0;31mKeyboardInterrupt\u001b[0m: "
     ]
    }
   ],
   "source": [
    "# Exercise 6\n",
    "\n",
    "import time\n",
    "\n",
    "from block import Block\n",
    "from bloomfilter import BloomFilter\n",
    "from ecc import PrivateKey\n",
    "from helper import hash256, little_endian_to_int, encode_varint, read_varint, decode_base58, SIGHASH_ALL\n",
    "from merkleblock import MerkleBlock\n",
    "from network import (\n",
    "    GetDataMessage,\n",
    "    GetHeadersMessage,\n",
    "    HeadersMessage,\n",
    "    NetworkEnvelope,\n",
    "    SimpleNode,\n",
    "    TX_DATA_TYPE,\n",
    "    FILTERED_BLOCK_DATA_TYPE,\n",
    ")\n",
    "from script import p2pkh_script, Script\n",
    "from tx import Tx, TxIn, TxOut\n",
    "\n",
    "last_block_hex = '00000000b8bc120945d1c08aae34c9fbfba47de22c5f6d7cf5cecf950fe8943b'  # FILL THIS IN\n",
    "\n",
    "secret = little_endian_to_int(hash256(b'donttrustverifynakamoto'))  # FILL THIS IN\n",
    "private_key = PrivateKey(secret=secret)\n",
    "addr = private_key.point.address(testnet=True)\n",
    "h160 = decode_base58(addr)\n",
    "\n",
    "\n",
    "print(addr)\n",
    "\n",
    "\n",
    "target_address = 'mwJn1YPMq7y5F8J3LkC5Hxg9PHyZ5K4cFv'\n",
    "target_h160 = decode_base58(target_address)\n",
    "target_script = p2pkh_script(target_h160)\n",
    "fee = 700  # fee in satoshis\n",
    "\n",
    "\n",
    "# connect to testnet.programmingbitcoin.com in testnet mode\n",
    "node = SimpleNode('192.168.1.105',testnet=True,logging=True)\n",
    "# create a bloom filter of size 30 and 5 functions. Add a tweak.\n",
    "bf = BloomFilter(30,5,213123)\n",
    "# add the h160 to the bloom filter\n",
    "bf.add(h160)\n",
    "# complete the handshake\n",
    "node.handshake()\n",
    "# load the bloom filter with the filterload command\n",
    "node.send(bf.filterload())\n",
    "# set start block to last_block from above\n",
    "start_block = bytes.fromhex(last_block_hex)\n",
    "# send a getheaders message with the starting block\n",
    "getheaders = GetHeadersMessage(start_block=start_block)\n",
    "node.send(getheaders)\n",
    "# wait for the headers message\n",
    "headers = node.wait_for(HeadersMessage)\n",
    "# store the last block as None\n",
    "last_block = None\n",
    "# initialize the GetDataMessage\n",
    "getdata = GetDataMessage()\n",
    "# loop through the blocks in the headers\n",
    "for h in headers.blocks:\n",
    "    # check that the proof of work on the block is valid\n",
    "    if not h.check_pow():\n",
    "        raise RuntimeError(\"Something wrong with proof of work\")\n",
    "    # check that this block's prev_block is the last block\n",
    "    if last_block is not None and h.prev_block != last_block:\n",
    "        raise RuntimeError(\"Some issue with chain\")\n",
    "    # add a new item to the get_data_message\n",
    "    # should be FILTERED_BLOCK_DATA_TYPE and block hash\n",
    "    getdata.add_data(FILTERED_BLOCK_DATA_TYPE,h.hash())\n",
    "    # set the last block to the current hash\n",
    "    last_block = h.hash()\n",
    "# send the getdata message\n",
    "node.send(getdata)\n",
    "# initialize prev_tx and prev_index to None\n",
    "prev_tx,prev_index,prev_amount = None,None,None\n",
    "# loop while prev_tx is None \n",
    "while prev_tx is None:\n",
    "    # wait for the merkleblock or tx commands\n",
    "    message = node.wait_for(MerkleBlock,Tx)\n",
    "    # if we have the merkleblock command\n",
    "    if message.command == b'merkleblock':\n",
    "        # check that the MerkleBlock is valid\n",
    "        if not message.is_valid():\n",
    "            raise RuntimeError('invalide merkel proof')\n",
    "    # else we have the tx command\n",
    "    else:\n",
    "        # set the tx's testnet to be True\n",
    "        message.testnet = True\n",
    "        # loop through the tx outs\n",
    "        for i, tx_out in enumerate(message.tx_outs):\n",
    "            # if our output has the same address as our address we found it\n",
    "            if tx_out.script_pubkey.address(testnet=True) == addr:\n",
    "                # we found our utxo. set prev_tx, prev_index, and tx\n",
    "                prev_tx = message.hash()\n",
    "                prev_index = i\n",
    "                prev_amount = tx_out.amount\n",
    "                print('found: {}:{}'.format(prev_tx.hex(), prev_index))\n",
    "# create the TxIn\n",
    "tx_in = TxIn(prev_tx, prev_index)\n",
    "# calculate the output amount (previous amount minus the fee)\n",
    "output_amount = prev_amount - fee\n",
    "# create a new TxOut to the target script with the output amount\n",
    "tx_out = TxOut(output_amount, target_script)\n",
    "# create a new transaction with the one input and one output\n",
    "tx_obj = Tx(1, [tx_in], [tx_out], 0, testnet=True)\n",
    "# sign the only input of the transaction\n",
    "print(tx_obj.sign_input(0, private_key))\n",
    "# serialize and hex to see what it looks like\n",
    "print(tx_obj.serialize().hex())\n",
    "\n",
    "# send this signed transaction on the network\n",
    "node.send(tx_obj)\n",
    "# wait a sec so this message goes through with time.sleep(1) \n",
    "time.sleep(1)\n",
    "# now ask for this transaction from the other node\n",
    "getdata = GetDataMessage()\n",
    "# create a GetDataMessage\n",
    "# ask for our transaction by adding it to the message\n",
    "getdata.add_data(TX_DATA_TYPE, tx_obj.hash())\n",
    "# send the message\n",
    "node.send(getdata)\n",
    "# now wait for a Tx response\n",
    "received_tx = node.wait_for(Tx)\n",
    "# if the received tx has the same id as our tx, we are done!\n",
    "if received_tx.id() == tx_obj.id():     \n",
    "    print('success!')"
   ]
  },
  {
   "cell_type": "code",
   "execution_count": null,
   "metadata": {},
   "outputs": [],
   "source": []
  },
  {
   "cell_type": "code",
   "execution_count": null,
   "metadata": {},
   "outputs": [],
   "source": []
  }
 ],
 "metadata": {
  "kernelspec": {
   "display_name": "Python 3 (ipykernel)",
   "language": "python",
   "name": "python3"
  },
  "language_info": {
   "codemirror_mode": {
    "name": "ipython",
    "version": 3
   },
   "file_extension": ".py",
   "mimetype": "text/x-python",
   "name": "python",
   "nbconvert_exporter": "python",
   "pygments_lexer": "ipython3",
   "version": "3.11.6"
  }
 },
 "nbformat": 4,
 "nbformat_minor": 4
}
