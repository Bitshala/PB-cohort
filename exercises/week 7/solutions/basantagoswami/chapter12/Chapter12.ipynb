{
 "cells": [
  {
   "cell_type": "code",
   "execution_count": 1,
   "metadata": {},
   "outputs": [],
   "source": [
    "############## PLEASE RUN THIS CELL FIRST! ###################\n",
    "\n",
    "# import everything and define a test runner function\n",
    "from importlib import reload\n",
    "from helper import run\n",
    "import bloomfilter\n",
    "import block\n",
    "import ecc\n",
    "import helper\n",
    "import merkleblock\n",
    "import network\n",
    "import script\n",
    "import tx"
   ]
  },
  {
   "cell_type": "code",
   "execution_count": 2,
   "metadata": {},
   "outputs": [
    {
     "name": "stdout",
     "output_type": "stream",
     "text": [
      "[0, 0, 0, 0, 0, 0, 0, 0, 0, 1]\n"
     ]
    }
   ],
   "source": [
    "from helper import hash256\n",
    "bit_field_size = 10\n",
    "bit_field = [0] * bit_field_size\n",
    "h = hash256(b'hello world')\n",
    "bit = int.from_bytes(h, 'big') % bit_field_size\n",
    "bit_field[bit] = 1\n",
    "print(bit_field)"
   ]
  },
  {
   "cell_type": "code",
   "execution_count": 3,
   "metadata": {},
   "outputs": [
    {
     "name": "stdout",
     "output_type": "stream",
     "text": [
      "[0, 0, 1, 0, 0, 0, 0, 0, 0, 1]\n"
     ]
    }
   ],
   "source": [
    "from helper import hash256\n",
    "bit_field_size = 10\n",
    "bit_field = [0] * bit_field_size\n",
    "for item in (b'hello world', b'goodbye'):\n",
    "    h = hash256(item)\n",
    "    bit = int.from_bytes(h, 'big') % bit_field_size\n",
    "    bit_field[bit] = 1\n",
    "print(bit_field)"
   ]
  },
  {
   "cell_type": "markdown",
   "metadata": {},
   "source": [
    "### Exercise 1\n",
    "\n",
    "Calculate the Bloom Filter for 'hello world' and 'goodbye' using the `hash160` hash function over a bit field of 10."
   ]
  },
  {
   "cell_type": "code",
   "execution_count": 8,
   "metadata": {},
   "outputs": [
    {
     "name": "stdout",
     "output_type": "stream",
     "text": [
      "[1, 1, 0, 0, 0, 0, 0, 0, 0, 0]\n"
     ]
    }
   ],
   "source": [
    "# Exercise 1\n",
    "\n",
    "from helper import hash160\n",
    "\n",
    "bit_field_size = 10\n",
    "bit_field = [0] * bit_field_size\n",
    "items = (b'hello world', b'goodbye')\n",
    "# loop through each item\n",
    "for item in items:\n",
    "    # hash160 the item\n",
    "    hash = hash160(item)\n",
    "    \n",
    "    # interpret hash as a Big-Endian integer and mod by bit_field_size\n",
    "    bit = int.from_bytes(hash, 'big') % bit_field_size\n",
    "    \n",
    "    # set that bit in bit_field to 1\n",
    "    bit_field[bit] = 1\n",
    "# print the bit_field\n",
    "print(bit_field)"
   ]
  },
  {
   "cell_type": "code",
   "execution_count": 5,
   "metadata": {},
   "outputs": [
    {
     "name": "stdout",
     "output_type": "stream",
     "text": [
      "[1, 1, 1, 0, 0, 0, 0, 0, 0, 1]\n"
     ]
    }
   ],
   "source": [
    "from helper import hash256, hash160\n",
    "bit_field_size = 10\n",
    "bit_field = [0] * bit_field_size\n",
    "for item in (b'hello world', b'goodbye'):\n",
    "    for hash_function in (hash256, hash160):\n",
    "        h = hash_function(item)\n",
    "        bit = int.from_bytes(h, 'big') % bit_field_size\n",
    "        bit_field[bit] = 1\n",
    "print(bit_field)"
   ]
  },
  {
   "cell_type": "code",
   "execution_count": 6,
   "metadata": {},
   "outputs": [
    {
     "name": "stdout",
     "output_type": "stream",
     "text": [
      "[0, 0, 0, 0, 0, 1, 1, 0, 0, 1, 1, 0, 0, 0, 0, 0]\n"
     ]
    }
   ],
   "source": [
    "from helper import murmur3\n",
    "from bloomfilter import BIP37_CONSTANT\n",
    "field_size = 2\n",
    "num_functions = 2\n",
    "tweak = 42\n",
    "bit_field_size = field_size * 8\n",
    "bit_field = [0] * bit_field_size\n",
    "for phrase in (b'hello world', b'goodbye'):\n",
    "    for i in range(num_functions):\n",
    "        seed = i * BIP37_CONSTANT + tweak\n",
    "        h = murmur3(phrase, seed=seed)\n",
    "        bit = h % bit_field_size\n",
    "        bit_field[bit] = 1\n",
    "print(bit_field)"
   ]
  },
  {
   "cell_type": "markdown",
   "metadata": {},
   "source": [
    "### Exercise 2\n",
    "\n",
    "Given a Bloom Filter with size=10, function count=5, tweak=99, what are the bytes that are set after adding these items? (use `bit_field_to_bytes` to convert to bytes)\n",
    "\n",
    "* `b'Hello World'`\n",
    "* `b'Goodbye!'`"
   ]
  },
  {
   "cell_type": "code",
   "execution_count": 9,
   "metadata": {},
   "outputs": [
    {
     "name": "stdout",
     "output_type": "stream",
     "text": [
      "4000600a080000010940\n"
     ]
    }
   ],
   "source": [
    "# Exercise 2\n",
    "\n",
    "from bloomfilter import BloomFilter, BIP37_CONSTANT\n",
    "from helper import bit_field_to_bytes, murmur3\n",
    "\n",
    "field_size = 10\n",
    "function_count = 5\n",
    "tweak = 99\n",
    "items = (b'Hello World',  b'Goodbye!')\n",
    "\n",
    "# calculate the bitfield size\n",
    "bit_field_size = field_size * 8\n",
    "\n",
    "# create an empty bit field\n",
    "bit_field = [0] * bit_field_size\n",
    "\n",
    "# loop through items\n",
    "for item in items:\n",
    "    # loop through function count\n",
    "    for i in range(function_count):\n",
    "        \n",
    "        # calculate the seed\n",
    "        seed = i * BIP37_CONSTANT + tweak\n",
    "        \n",
    "        # get the murmur3 hash of the item using the seed\n",
    "        hash = murmur3(item, seed=seed)\n",
    "        \n",
    "        # mod by the bitfield size\n",
    "        bit = hash % bit_field_size\n",
    "        \n",
    "        # set the bit\n",
    "        bit_field[bit] = 1\n",
    "        \n",
    "# convert the bit field to bytes\n",
    "bit_field_bytes = bit_field_to_bytes(bit_field).hex()\n",
    "\n",
    "# print the bytes in hex\n",
    "print(bit_field_bytes)"
   ]
  },
  {
   "cell_type": "markdown",
   "metadata": {},
   "source": [
    "### Exercise 3\n",
    "\n",
    "Write the `add` method for `BloomFilter`\n",
    "\n",
    "#### Make [this test](/edit/code-ch12/bloomfilter.py) pass: `bloomfilter.py:BloomFilterTest:test_add`"
   ]
  },
  {
   "cell_type": "code",
   "execution_count": 11,
   "metadata": {},
   "outputs": [
    {
     "name": "stderr",
     "output_type": "stream",
     "text": [
      ".\n",
      "----------------------------------------------------------------------\n",
      "Ran 1 test in 0.003s\n",
      "\n",
      "OK\n"
     ]
    }
   ],
   "source": [
    "# Exercise 3\n",
    "\n",
    "reload(bloomfilter)\n",
    "run(bloomfilter.BloomFilterTest(\"test_add\"))"
   ]
  },
  {
   "cell_type": "markdown",
   "metadata": {},
   "source": [
    "### Exercise 4\n",
    "\n",
    "Write the  `filterload` payload from the `BloomFilter` class.\n",
    "\n",
    "#### Make [this test](/edit/code-ch12/bloomfilter.py) pass: `bloomfilter.py:BloomFilterTest:test_filterload`"
   ]
  },
  {
   "cell_type": "code",
   "execution_count": 12,
   "metadata": {},
   "outputs": [
    {
     "name": "stderr",
     "output_type": "stream",
     "text": [
      ".\n",
      "----------------------------------------------------------------------\n",
      "Ran 1 test in 0.003s\n",
      "\n",
      "OK\n"
     ]
    }
   ],
   "source": [
    "# Exercise 4\n",
    "\n",
    "reload(bloomfilter)\n",
    "run(bloomfilter.BloomFilterTest(\"test_filterload\"))"
   ]
  },
  {
   "cell_type": "markdown",
   "metadata": {},
   "source": [
    "### Exercise 5\n",
    "\n",
    "Write the `serialize` method for the `GetDataMessage` class.\n",
    "\n",
    "#### Make [this test](/edit/code-ch12/network.py) pass: `network.py:GetDataMessageTest:test_serialize`"
   ]
  },
  {
   "cell_type": "code",
   "execution_count": 15,
   "metadata": {},
   "outputs": [
    {
     "name": "stderr",
     "output_type": "stream",
     "text": [
      ".\n",
      "----------------------------------------------------------------------\n",
      "Ran 1 test in 0.037s\n",
      "\n",
      "OK\n"
     ]
    }
   ],
   "source": [
    "# Exercise 5\n",
    "\n",
    "reload(network)\n",
    "run(network.GetDataMessageTest(\"test_serialize\"))"
   ]
  },
  {
   "cell_type": "code",
   "execution_count": 21,
   "metadata": {},
   "outputs": [
    {
     "ename": "RuntimeError",
     "evalue": "Connection reset!",
     "output_type": "error",
     "traceback": [
      "\u001b[0;31m---------------------------------------------------------------------------\u001b[0m",
      "\u001b[0;31mRuntimeError\u001b[0m                              Traceback (most recent call last)",
      "Cell \u001b[0;32mIn[21], line 17\u001b[0m\n\u001b[1;32m     15\u001b[0m getheaders \u001b[38;5;241m=\u001b[39m GetHeadersMessage(start_block\u001b[38;5;241m=\u001b[39mstart_block)\n\u001b[1;32m     16\u001b[0m node\u001b[38;5;241m.\u001b[39msend(getheaders)\n\u001b[0;32m---> 17\u001b[0m headers \u001b[38;5;241m=\u001b[39m \u001b[43mnode\u001b[49m\u001b[38;5;241;43m.\u001b[39;49m\u001b[43mwait_for\u001b[49m\u001b[43m(\u001b[49m\u001b[43mHeadersMessage\u001b[49m\u001b[43m)\u001b[49m\n\u001b[1;32m     18\u001b[0m getdata \u001b[38;5;241m=\u001b[39m GetDataMessage()\n\u001b[1;32m     19\u001b[0m \u001b[38;5;28;01mfor\u001b[39;00m b \u001b[38;5;129;01min\u001b[39;00m headers\u001b[38;5;241m.\u001b[39mblocks:\n",
      "File \u001b[0;32m~/Desktop/Prgramming Bitcoin/programmingbitcoin/code-ch12/network.py:401\u001b[0m, in \u001b[0;36mSimpleNode.wait_for\u001b[0;34m(self, *message_classes)\u001b[0m\n\u001b[1;32m    398\u001b[0m \u001b[38;5;66;03m# loop until the command is in the commands we want\u001b[39;00m\n\u001b[1;32m    399\u001b[0m \u001b[38;5;28;01mwhile\u001b[39;00m command \u001b[38;5;129;01mnot\u001b[39;00m \u001b[38;5;129;01min\u001b[39;00m command_to_class\u001b[38;5;241m.\u001b[39mkeys():\n\u001b[1;32m    400\u001b[0m     \u001b[38;5;66;03m# get the next network message\u001b[39;00m\n\u001b[0;32m--> 401\u001b[0m     envelope \u001b[38;5;241m=\u001b[39m \u001b[38;5;28;43mself\u001b[39;49m\u001b[38;5;241;43m.\u001b[39;49m\u001b[43mread\u001b[49m\u001b[43m(\u001b[49m\u001b[43m)\u001b[49m\n\u001b[1;32m    402\u001b[0m     \u001b[38;5;66;03m# set the command to be evaluated\u001b[39;00m\n\u001b[1;32m    403\u001b[0m     command \u001b[38;5;241m=\u001b[39m envelope\u001b[38;5;241m.\u001b[39mcommand\n",
      "File \u001b[0;32m~/Desktop/Prgramming Bitcoin/programmingbitcoin/code-ch12/network.py:388\u001b[0m, in \u001b[0;36mSimpleNode.read\u001b[0;34m(self)\u001b[0m\n\u001b[1;32m    386\u001b[0m \u001b[38;5;28;01mdef\u001b[39;00m \u001b[38;5;21mread\u001b[39m(\u001b[38;5;28mself\u001b[39m):\n\u001b[1;32m    387\u001b[0m \u001b[38;5;250m    \u001b[39m\u001b[38;5;124;03m'''Read a message from the socket'''\u001b[39;00m\n\u001b[0;32m--> 388\u001b[0m     envelope \u001b[38;5;241m=\u001b[39m \u001b[43mNetworkEnvelope\u001b[49m\u001b[38;5;241;43m.\u001b[39;49m\u001b[43mparse\u001b[49m\u001b[43m(\u001b[49m\u001b[38;5;28;43mself\u001b[39;49m\u001b[38;5;241;43m.\u001b[39;49m\u001b[43mstream\u001b[49m\u001b[43m,\u001b[49m\u001b[43m \u001b[49m\u001b[43mtestnet\u001b[49m\u001b[38;5;241;43m=\u001b[39;49m\u001b[38;5;28;43mself\u001b[39;49m\u001b[38;5;241;43m.\u001b[39;49m\u001b[43mtestnet\u001b[49m\u001b[43m)\u001b[49m\n\u001b[1;32m    389\u001b[0m     \u001b[38;5;28;01mif\u001b[39;00m \u001b[38;5;28mself\u001b[39m\u001b[38;5;241m.\u001b[39mlogging:\n\u001b[1;32m    390\u001b[0m         \u001b[38;5;28mprint\u001b[39m(\u001b[38;5;124m'\u001b[39m\u001b[38;5;124mreceiving: \u001b[39m\u001b[38;5;132;01m{}\u001b[39;00m\u001b[38;5;124m'\u001b[39m\u001b[38;5;241m.\u001b[39mformat(envelope))\n",
      "File \u001b[0;32m~/Desktop/Prgramming Bitcoin/programmingbitcoin/code-ch12/network.py:48\u001b[0m, in \u001b[0;36mNetworkEnvelope.parse\u001b[0;34m(cls, s, testnet)\u001b[0m\n\u001b[1;32m     46\u001b[0m magic \u001b[38;5;241m=\u001b[39m s\u001b[38;5;241m.\u001b[39mread(\u001b[38;5;241m4\u001b[39m)\n\u001b[1;32m     47\u001b[0m \u001b[38;5;28;01mif\u001b[39;00m magic \u001b[38;5;241m==\u001b[39m \u001b[38;5;124mb\u001b[39m\u001b[38;5;124m'\u001b[39m\u001b[38;5;124m'\u001b[39m:\n\u001b[0;32m---> 48\u001b[0m     \u001b[38;5;28;01mraise\u001b[39;00m \u001b[38;5;167;01mRuntimeError\u001b[39;00m(\u001b[38;5;124m'\u001b[39m\u001b[38;5;124mConnection reset!\u001b[39m\u001b[38;5;124m'\u001b[39m)\n\u001b[1;32m     49\u001b[0m \u001b[38;5;28;01mif\u001b[39;00m testnet:\n\u001b[1;32m     50\u001b[0m     expected_magic \u001b[38;5;241m=\u001b[39m TESTNET_NETWORK_MAGIC\n",
      "\u001b[0;31mRuntimeError\u001b[0m: Connection reset!"
     ]
    }
   ],
   "source": [
    "from bloomfilter import BloomFilter\n",
    "from helper import decode_base58\n",
    "from merkleblock import MerkleBlock\n",
    "from network import FILTERED_BLOCK_DATA_TYPE, GetHeadersMessage, GetDataMessage, HeadersMessage, SimpleNode\n",
    "from tx import Tx\n",
    "last_block_hex = '00000000000538d5c2246336644f9a4956551afb44ba47278759ec55ea912e19'\n",
    "address = 'mwJn1YPMq7y5F8J3LkC5Hxg9PHyZ5K4cFv'\n",
    "h160 = decode_base58(address)\n",
    "node = SimpleNode('testnet-seed.bitcoin.jonasschnelli.ch', testnet=True, logging=False)\n",
    "bf = BloomFilter(size=30, function_count=5, tweak=90210)\n",
    "bf.add(h160)\n",
    "node.handshake()\n",
    "node.send(bf.filterload())\n",
    "start_block = bytes.fromhex(last_block_hex)\n",
    "getheaders = GetHeadersMessage(start_block=start_block)\n",
    "node.send(getheaders)\n",
    "headers = node.wait_for(HeadersMessage)\n",
    "getdata = GetDataMessage()\n",
    "for b in headers.blocks:\n",
    "    if not b.check_pow():\n",
    "        raise RuntimeError('proof of work is invalid')\n",
    "    getdata.add_data(FILTERED_BLOCK_DATA_TYPE, b.hash())\n",
    "node.send(getdata)\n",
    "found = False\n",
    "while not found:\n",
    "    message = node.wait_for(MerkleBlock, Tx)\n",
    "    if message.command == b'merkleblock':\n",
    "        if not message.is_valid():\n",
    "            raise RuntimeError('invalid merkle proof')\n",
    "    else:\n",
    "        for i, tx_out in enumerate(message.tx_outs):\n",
    "            if tx_out.script_pubkey.address(testnet=True) == address:\n",
    "                print('found: {}:{}'.format(message.id(), i))\n",
    "                found = True\n",
    "                break"
   ]
  },
  {
   "cell_type": "markdown",
   "metadata": {},
   "source": [
    "### Exercise 6\n",
    "\n",
    "Get the current testnet block ID, send yourself some testnet coins, find the UTXO corresponding to the testnet coin _without using a block explorer_, create a transaction using that UTXO as an input and broadcast the `tx` message on the  testnet network."
   ]
  },
  {
   "cell_type": "code",
   "execution_count": null,
   "metadata": {},
   "outputs": [],
   "source": [
    "# Exercise 6\n",
    "\n",
    "import time\n",
    "\n",
    "from block import Block\n",
    "from bloomfilter import BloomFilter\n",
    "from ecc import PrivateKey\n",
    "from helper import hash256, little_endian_to_int, encode_varint, read_varint, decode_base58, SIGHASH_ALL\n",
    "from merkleblock import MerkleBlock\n",
    "from network import (\n",
    "    GetDataMessage,\n",
    "    GetHeadersMessage,\n",
    "    HeadersMessage,\n",
    "    NetworkEnvelope,\n",
    "    SimpleNode,\n",
    "    TX_DATA_TYPE,\n",
    "    FILTERED_BLOCK_DATA_TYPE,\n",
    ")\n",
    "from script import p2pkh_script, Script\n",
    "from tx import Tx, TxIn, TxOut\n",
    "\n",
    "last_block_hex = ''  # FILL THIS IN\n",
    "\n",
    "secret = little_endian_to_int(hash256(b''))  # FILL THIS IN\n",
    "private_key = PrivateKey(secret=secret)\n",
    "addr = private_key.point.address(testnet=True)\n",
    "h160 = decode_base58(addr)\n",
    "\n",
    "target_address = 'mwJn1YPMq7y5F8J3LkC5Hxg9PHyZ5K4cFv'\n",
    "target_h160 = decode_base58(target_address)\n",
    "target_script = p2pkh_script(target_h160)\n",
    "fee = 5000  # fee in satoshis\n",
    "\n",
    "\n",
    "# connect to testnet.programmingbitcoin.com in testnet mode\n",
    "# create a bloom filter of size 30 and 5 functions. Add a tweak.\n",
    "# add the h160 to the bloom filter\n",
    "# complete the handshake\n",
    "# load the bloom filter with the filterload command\n",
    "\n",
    "# set start block to last_block from above\n",
    "# send a getheaders message with the starting block\n",
    "\n",
    "# wait for the headers message\n",
    "# store the last block as None\n",
    "# initialize the GetDataMessage\n",
    "# loop through the blocks in the headers\n",
    "    # check that the proof of work on the block is valid\n",
    "    # check that this block's prev_block is the last block\n",
    "    # add a new item to the get_data_message\n",
    "    # should be FILTERED_BLOCK_DATA_TYPE and block hash\n",
    "    # set the last block to the current hash\n",
    "# send the getdata message\n",
    "\n",
    "# initialize prev_tx and prev_index to None\n",
    "# loop while prev_tx is None \n",
    "    # wait for the merkleblock or tx commands\n",
    "    # if we have the merkleblock command\n",
    "        # check that the MerkleBlock is valid\n",
    "    # else we have the tx command\n",
    "        # set the tx's testnet to be True\n",
    "        # loop through the tx outs\n",
    "            # if our output has the same address as our address we found it\n",
    "                # we found our utxo. set prev_tx, prev_index, and tx\n",
    "# create the TxIn\n",
    "# calculate the output amount (previous amount minus the fee)\n",
    "# create a new TxOut to the target script with the output amount\n",
    "# create a new transaction with the one input and one output\n",
    "# sign the only input of the transaction\n",
    "# serialize and hex to see what it looks like\n",
    "# send this signed transaction on the network\n",
    "# wait a sec so this message goes through with time.sleep(1) \n",
    "# now ask for this transaction from the other node\n",
    "# create a GetDataMessage\n",
    "# ask for our transaction by adding it to the message\n",
    "# send the message\n",
    "# now wait for a Tx response\n",
    "# if the received tx has the same id as our tx, we are done!"
   ]
  }
 ],
 "metadata": {
  "kernelspec": {
   "display_name": "Python 3 (ipykernel)",
   "language": "python",
   "name": "python3"
  },
  "language_info": {
   "codemirror_mode": {
    "name": "ipython",
    "version": 3
   },
   "file_extension": ".py",
   "mimetype": "text/x-python",
   "name": "python",
   "nbconvert_exporter": "python",
   "pygments_lexer": "ipython3",
   "version": "3.10.12"
  }
 },
 "nbformat": 4,
 "nbformat_minor": 4
}
