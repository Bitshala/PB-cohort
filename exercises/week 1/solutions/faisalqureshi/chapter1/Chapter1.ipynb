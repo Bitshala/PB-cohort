{
 "cells": [
  {
   "cell_type": "code",
   "execution_count": null,
   "id": "83ae650f-ff80-4e00-b224-be370c841345",
   "metadata": {},
   "outputs": [],
   "source": [
    "############## PLEASE RUN THIS CELL FIRST! ###################\n",
    "\n",
    "# import everything and define a test runner function\n",
    "from importlib import reload\n",
    "from helper import run\n",
    "import ecc\n",
    "import helper\n",
    "\n",
    "\n",
    "from ecc import FieldElement"
   ]
  },
  {
   "cell_type": "code",
   "execution_count": null,
   "id": "d298ee43-a571-428f-9bc7-eebf4874dcfe",
   "metadata": {},
   "outputs": [],
   "source": [
    "\n",
    "from ecc import FieldElement\n",
    "a = FieldElement(7, 13)\n",
    "b = FieldElement(6, 13)\n",
    "print(a == b)\n",
    "print(a == a)\n",
    "     "
   ]
  },
  {
   "cell_type": "markdown",
   "id": "17999080-8ce0-4eaa-9745-45474ebe1e38",
   "metadata": {},
   "source": [
    "Exercise 1\n",
    "\n",
    "Write the corresponding method __ne__ which checks if two FieldElement objects are not equal to each other.\n",
    "\n",
    "Make this test pass: ecc.py:FieldElementTest:test_ne"
   ]
  },
  {
   "cell_type": "code",
   "execution_count": null,
   "id": "d102bb49-3358-4125-b64a-5cf22bebc003",
   "metadata": {},
   "outputs": [],
   "source": [
    "\n",
    "# Exercise 1\n",
    "\n",
    "\n",
    "reload(ecc)\n",
    "run(ecc.FieldElementTest(\"test_ne\"))"
   ]
  },
  {
   "cell_type": "markdown",
   "id": "0de15d54-6df6-491c-ab28-1baceca3a644",
   "metadata": {},
   "source": [
    "Exercise 2\n",
    "\n",
    "Solve these problems in  (assume all +'s here are  and -`s here )\n",
    "\n",
    "44+33\n",
    "9-29\n",
    "17+42+49\n",
    "52-30-38"
   ]
  },
  {
   "cell_type": "code",
   "execution_count": null,
   "id": "14e57b3f-59f2-46f5-aaf0-0eaef9f886fa",
   "metadata": {},
   "outputs": [],
   "source": [
    "\n",
    "# Exercise 2\n",
    "\n",
    "# remember that % is the modulo operator\n",
    "prime = 57\n",
    "print((44+33)%prime)\n",
    "print((9-29)%prime)\n",
    "print((17+42+49)%prime)\n",
    "print((52-30-38)%prime)\n",
    "\n"
   ]
  },
  {
   "cell_type": "markdown",
   "id": "65b117a6-b055-4a32-9db9-d5740858ada0",
   "metadata": {},
   "source": [
    "Exercise 3\n",
    "\n",
    "Write the corresponding __sub__ method which defines the subtraction of two FieldElement objects.\n",
    "\n",
    "Make this test pass: ecc.py:FieldElementTest:test_sub"
   ]
  },
  {
   "cell_type": "code",
   "execution_count": null,
   "id": "baaab056-4f72-4591-8f54-7a13110f251c",
   "metadata": {},
   "outputs": [],
   "source": [
    "# Exercise 3\n",
    "\n",
    "reload(ecc)\n",
    "run(ecc.FieldElementTest(\"test_sub\"))"
   ]
  },
  {
   "cell_type": "markdown",
   "id": "939f6e34-c485-40e9-bba2-cba36c39d527",
   "metadata": {},
   "source": [
    "Exercise 4\n",
    "\n",
    "Solve the following equations in F₉₇ (again, assume ⋅ and exponentiation are field versions):\n",
    "\n",
    "95⋅45⋅31\n",
    "17⋅13⋅19⋅44\n",
    "12⁷⋅77⁴⁹"
   ]
  },
  {
   "cell_type": "code",
   "execution_count": null,
   "id": "bf151892-41b1-43b7-a233-136ba4c28989",
   "metadata": {},
   "outputs": [],
   "source": [
    "print(95*45*31 % prime)\n",
    "print(17*13*19*44 % prime)\n",
    "print(12**7*77**49 % prime)"
   ]
  },
  {
   "cell_type": "markdown",
   "id": "07e4d491-c905-4b8d-9759-e6e2df86d683",
   "metadata": {},
   "source": [
    "Exercise 5\n",
    "\n",
    "For k = 1, 3, 7, 13, 18, what is this set in F₁₉?\n",
    "\n",
    "{k⋅0, k⋅1, k⋅2, k⋅3, ... k⋅18}\n",
    "\n",
    "Do you notice anything about these sets?\n",
    "\n"
   ]
  },
  {
   "cell_type": "code",
   "execution_count": null,
   "id": "413f6ee2-9ddb-4e50-a424-17a7fa7f0ad6",
   "metadata": {},
   "outputs": [],
   "source": [
    "prime = 19\n",
    "for k in (1,3,7,13,18):\n",
    "    print([k*i % prime for i in range(prime)])\n",
    "[0, 1, 2, 3, 4, 5, 6, 7, 8, 9, 10, 11, 12, 13, 14, 15, 16, 17, 18]\n",
    "[0, 3, 6, 9, 12, 15, 18, 2, 5, 8, 11, 14, 17, 1, 4, 7, 10, 13, 16]\n",
    "[0, 7, 14, 2, 9, 16, 4, 11, 18, 6, 13, 1, 8, 15, 3, 10, 17, 5, 12]\n",
    "[0, 13, 7, 1, 14, 8, 2, 15, 9, 3, 16, 10, 4, 17, 11, 5, 18, 12, 6]\n",
    "[0, 18, 17, 16, 15, 14, 13, 12, 11, 10, 9, 8, 7, 6, 5, 4, 3, 2, 1]\n",
    "for k in (1,3,7,13,18):\n",
    "  print(sorted([k*i % prime for i in range(prime)]))\n",
    "[0, 1, 2, 3, 4, 5, 6, 7, 8, 9, 10, 11, 12, 13, 14, 15, 16, 17, 18]\n",
    "[0, 1, 2, 3, 4, 5, 6, 7, 8, 9, 10, 11, 12, 13, 14, 15, 16, 17, 18]\n",
    "[0, 1, 2, 3, 4, 5, 6, 7, 8, 9, 10, 11, 12, 13, 14, 15, 16, 17, 18]\n",
    "[0, 1, 2, 3, 4, 5, 6, 7, 8, 9, 10, 11, 12, 13, 14, 15, 16, 17, 18]\n",
    "[0, 1, 2, 3, 4, 5, 6, 7, 8, 9, 10, 11, 12, 13, 14, 15, 16, 17, 18]"
   ]
  },
  {
   "cell_type": "markdown",
   "id": "432b5abd-f5a5-4870-a345-05b1bd24690f",
   "metadata": {},
   "source": [
    "Inference deduced from Excersice 4: It demonstrate some of the key properties of finite fields, \n",
    "including their cyclic nature, the existence of subgroups, and the behavior of elements under multiplication and modulo operations.\n",
    "The code helps illustrate the arithmetic properties of finite fields and how elements within them interact."
   ]
  },
  {
   "cell_type": "markdown",
   "id": "659fa2ef-41af-4f3f-ba0c-e3e7e59573d2",
   "metadata": {},
   "source": [
    "Exercise 6\n",
    "\n",
    "Write the corresponding __mul__ method which defines the multiplication of two Finite Field elements.\n",
    "\n",
    "Make this test pass: ecc.py:FieldElementTest:test_mul"
   ]
  },
  {
   "cell_type": "code",
   "execution_count": null,
   "id": "9b871b26-a0cb-4bbf-8cdf-c0a399004f3a",
   "metadata": {},
   "outputs": [],
   "source": [
    "\n",
    "# Exercise 6\n",
    "\n",
    "reload(ecc)\n",
    "run(ecc.FieldElementTest(\"test_mul\"))"
   ]
  },
  {
   "cell_type": "markdown",
   "id": "658e2fd8-5ca5-4ca4-af88-95d444e91301",
   "metadata": {},
   "source": [
    "Exercise 7\n",
    "\n",
    "For p = 7, 11, 17, 31, what is this set in Fₚ?\n",
    "{1⁽ᵖ⁻¹⁾,2⁽ᵖ⁻¹⁾,3⁽ᵖ⁻¹⁾,4⁽ᵖ⁻¹⁾,.....(p-1)⁽ᵖ⁻¹⁾}"
   ]
  },
  {
   "cell_type": "code",
   "execution_count": null,
   "id": "47cded3d-b36f-45fa-b8e3-22e21b657671",
   "metadata": {},
   "outputs": [],
   "source": [
    "for prime in (7, 11, 17, 31):\n",
    "   print([pow(i, prime-1, prime) for i in range(1, prime)])\n"
   ]
  },
  {
   "cell_type": "markdown",
   "id": "51122d1b-4e74-4462-8e2a-75be670345dc",
   "metadata": {},
   "source": [
    "Exercise 8\n",
    "\n",
    "Solve the following equations in F₃₁:\n",
    "3/24\n",
    "17⁻³\n",
    "4⁻⁴ ⋅11"
   ]
  },
  {
   "cell_type": "code",
   "execution_count": null,
   "id": "b85efdd8-939d-4d0a-af26-c040b3411243",
   "metadata": {},
   "outputs": [],
   "source": [
    "prime = 31\n",
    "print(3*pow(24, prime-2, prime) % prime)\n",
    "print(pow(17, prime-4, prime))\n",
    "print(pow(4, prime-5, prime)*11 % prime)"
   ]
  },
  {
   "cell_type": "markdown",
   "id": "8395f8f2-71f6-4548-9870-257a1bf04ed0",
   "metadata": {},
   "source": [
    "Exercise 9\n",
    "\n",
    "Write the corresponding __truediv__ method which defines the division of two field elements.\n",
    "\n",
    "Note that in Python3, division is separated into __truediv__ and __floordiv__. The first does normal division, the second does integer division.\n",
    "\n",
    "Make this test pass: ecc.py:FieldElementTest:test_div"
   ]
  },
  {
   "cell_type": "code",
   "execution_count": null,
   "id": "b3759c59-de50-4fba-85b8-654dc816f7af",
   "metadata": {},
   "outputs": [],
   "source": [
    "# Exercise 9\n",
    "\n",
    "reload(ecc)\n",
    "run(ecc.FieldElementTest(\"test_div\"))"
   ]
  }
 ],
 "metadata": {
  "kernelspec": {
   "display_name": "Python 3 (ipykernel)",
   "language": "python",
   "name": "python3"
  },
  "language_info": {
   "codemirror_mode": {
    "name": "ipython",
    "version": 3
   },
   "file_extension": ".py",
   "mimetype": "text/x-python",
   "name": "python",
   "nbconvert_exporter": "python",
   "pygments_lexer": "ipython3",
   "version": "3.12.0"
  }
 },
 "nbformat": 4,
 "nbformat_minor": 5
}
