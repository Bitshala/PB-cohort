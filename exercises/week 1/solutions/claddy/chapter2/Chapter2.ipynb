{
 "cells": [
  {
   "cell_type": "code",
   "execution_count": 24,
   "id": "4f514c6e-1e19-42ee-a15a-8a361b6d6cb0",
   "metadata": {},
   "outputs": [],
   "source": [
    "\n",
    "############## PLEASE RUN THIS CELL FIRST! ###################\n",
    "\n",
    "# import everything and define a test runner function\n",
    "from importlib import reload\n",
    "from helper import run\n",
    "import ecc\n",
    "import helper\n",
    "\n",
    "from ecc import Point"
   ]
  },
  {
   "cell_type": "markdown",
   "id": "5ffa27b3-5fcc-4cb1-a0d5-546c2258e331",
   "metadata": {},
   "source": [
    "Exercise 1\n",
    "\n",
    "Determine which of these points are on the curve y^2 = x^3+5x+7:\n",
    "\n",
    "(2,4), (-1,-1), (18,77), (5,7)"
   ]
  },
  {
   "cell_type": "code",
   "execution_count": 25,
   "id": "479cfc51-16fc-4782-84bf-ea91f8ac6f44",
   "metadata": {},
   "outputs": [
    {
     "name": "stdout",
     "output_type": "stream",
     "text": [
      "False\n",
      "True\n",
      "True\n",
      "False\n"
     ]
    }
   ],
   "source": [
    "def on_curve(x, y):\n",
    "     return y**2 == x**3 + 5*x + 7\n",
    "print(on_curve(2,4))\n",
    "print(on_curve(-1,-1))\n",
    "print(on_curve(18,77))\n",
    "print(on_curve(5,7))\n"
   ]
  },
  {
   "cell_type": "markdown",
   "id": "7bb48d22-4f27-42e9-8044-4d0faa456498",
   "metadata": {},
   "source": [
    "Exercise 2\n",
    "\n",
    "Write the __ne__ method for Point.\n",
    "\n",
    "Make this test pass: ecc.py:PointTest:test_ne"
   ]
  },
  {
   "cell_type": "code",
   "execution_count": 26,
   "id": "3249f191-47c9-4a6d-8053-1874489d11e3",
   "metadata": {},
   "outputs": [
    {
     "name": "stderr",
     "output_type": "stream",
     "text": [
      ".\n",
      "----------------------------------------------------------------------\n",
      "Ran 1 test in 0.000s\n",
      "\n",
      "OK\n"
     ]
    }
   ],
   "source": [
    "# Exercise 2\n",
    "\n",
    "reload(ecc)\n",
    "run(ecc.PointTest(\"test_ne\"))"
   ]
  },
  {
   "cell_type": "markdown",
   "id": "75e7cb40-1dc7-47a7-990f-e0e4ccc84038",
   "metadata": {},
   "source": [
    "Exercise 3\n",
    "\n",
    "Handle the case where the two points are additive inverses. That is, they have the same x, but a different y, causing a vertical line. This should return the point at infinity.\n",
    "\n",
    "Make this test pass: ecc.py:PointTest:test_add0"
   ]
  },
  {
   "cell_type": "code",
   "execution_count": 27,
   "id": "352ce198-00e1-4c53-984f-cfbae0c810bd",
   "metadata": {},
   "outputs": [
    {
     "name": "stderr",
     "output_type": "stream",
     "text": [
      ".\n",
      "----------------------------------------------------------------------\n",
      "Ran 1 test in 0.000s\n",
      "\n",
      "OK\n"
     ]
    }
   ],
   "source": [
    "\n",
    "# Exercise 3\n",
    "\n",
    "reload(ecc)\n",
    "run(ecc.PointTest(\"test_add0\"))"
   ]
  },
  {
   "cell_type": "markdown",
   "id": "43a48406-7762-4d68-9139-e23bb6b0bba2",
   "metadata": {},
   "source": [
    "Exercise 4\n",
    "\n",
    "For the curve y^2=x^3+5x+7, what is (2,5) + (-1,-1)?"
   ]
  },
  {
   "cell_type": "code",
   "execution_count": 28,
   "id": "854182d1-c090-47a1-b6f3-e92537587989",
   "metadata": {},
   "outputs": [
    {
     "name": "stdout",
     "output_type": "stream",
     "text": [
      "3.0 -7.0\n"
     ]
    }
   ],
   "source": [
    "x1, y1 = 2, 5\n",
    "x2, y2 = -1, -1\n",
    "s = (y2 - y1) / (x2 - x1)\n",
    "x3 = s**2 - x1 - x2\n",
    "y3 = s * (x1 - x3) - y1\n",
    "print(x3, y3)"
   ]
  },
  {
   "cell_type": "markdown",
   "id": "0295f906-7378-4e5e-b358-6a97a01a7aaf",
   "metadata": {},
   "source": [
    "Exercise 5\n",
    "\n",
    "Write the __add__ method where P1 ≠ P2\n",
    "\n",
    "Make this test pass: ecc.py:PointTest:test_add1"
   ]
  },
  {
   "cell_type": "code",
   "execution_count": 29,
   "id": "e565ccaf-143e-4006-8429-6bab0e256e9f",
   "metadata": {},
   "outputs": [
    {
     "name": "stderr",
     "output_type": "stream",
     "text": [
      ".\n",
      "----------------------------------------------------------------------\n",
      "Ran 1 test in 0.000s\n",
      "\n",
      "OK\n"
     ]
    }
   ],
   "source": [
    "\n",
    "# Exercise 5\n",
    "\n",
    "reload(ecc)\n",
    "run(ecc.PointTest(\"test_add1\"))"
   ]
  },
  {
   "cell_type": "markdown",
   "id": "a82aa093-639f-45b4-a0c7-765a368646a7",
   "metadata": {},
   "source": [
    "Exercise 6\n",
    "\n",
    "For the curve y^2=x^3+5x+7, what is (-1,-1) + (-1,-1)?"
   ]
  },
  {
   "cell_type": "code",
   "execution_count": 30,
   "id": "975a3cef-7cad-4bdc-9dec-bbdd9364763f",
   "metadata": {},
   "outputs": [
    {
     "name": "stdout",
     "output_type": "stream",
     "text": [
      "18.0 77.0\n"
     ]
    }
   ],
   "source": [
    "a, x1, y1 = 5, -1, -1\n",
    "s = (3 * x1**2 + a) / (2 * y1)\n",
    "x3 = s**2 - 2*x1\n",
    "y3 = s*(x1-x3)-y1\n",
    "print(x3,y3)"
   ]
  }
 ],
 "metadata": {
  "kernelspec": {
   "display_name": "Python 3 (ipykernel)",
   "language": "python",
   "name": "python3"
  },
  "language_info": {
   "codemirror_mode": {
    "name": "ipython",
    "version": 3
   },
   "file_extension": ".py",
   "mimetype": "text/x-python",
   "name": "python",
   "nbconvert_exporter": "python",
   "pygments_lexer": "ipython3",
   "version": "3.11.2"
  }
 },
 "nbformat": 4,
 "nbformat_minor": 5
}
