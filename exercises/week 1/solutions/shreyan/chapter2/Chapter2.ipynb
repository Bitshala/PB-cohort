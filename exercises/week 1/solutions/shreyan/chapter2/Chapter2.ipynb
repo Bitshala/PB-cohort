{
 "cells": [
  {
   "cell_type": "code",
   "execution_count": 2,
   "metadata": {},
   "outputs": [],
   "source": [
    "############## PLEASE RUN THIS CELL FIRST! ###################\n",
    "\n",
    "# import everything and define a test runner function\n",
    "from importlib import reload\n",
    "from helper import run\n",
    "import ecc\n",
    "import helper\n",
    "\n",
    "from ecc import Point"
   ]
  },
  {
   "cell_type": "code",
   "execution_count": 4,
   "metadata": {},
   "outputs": [
    {
     "ename": "ValueError",
     "evalue": "(-1, -2) is not on the curve",
     "output_type": "error",
     "traceback": [
      "\u001b[0;31m---------------------------------------------------------------------------\u001b[0m",
      "\u001b[0;31mValueError\u001b[0m                                Traceback (most recent call last)",
      "\u001b[1;32m/home/shreyan/pb-cohort/exercises/week 1/solutions/shreyan/chapter2/Chapter2.ipynb Cell 2\u001b[0m line \u001b[0;36m3\n\u001b[1;32m      <a href='vscode-notebook-cell:/home/shreyan/pb-cohort/exercises/week%201/solutions/shreyan/chapter2/Chapter2.ipynb#W1sZmlsZQ%3D%3D?line=0'>1</a>\u001b[0m \u001b[39mfrom\u001b[39;00m \u001b[39mecc\u001b[39;00m \u001b[39mimport\u001b[39;00m Point\n\u001b[1;32m      <a href='vscode-notebook-cell:/home/shreyan/pb-cohort/exercises/week%201/solutions/shreyan/chapter2/Chapter2.ipynb#W1sZmlsZQ%3D%3D?line=1'>2</a>\u001b[0m p1 \u001b[39m=\u001b[39m Point(\u001b[39m-\u001b[39m\u001b[39m1\u001b[39m, \u001b[39m-\u001b[39m\u001b[39m1\u001b[39m, \u001b[39m5\u001b[39m, \u001b[39m7\u001b[39m)\n\u001b[0;32m----> <a href='vscode-notebook-cell:/home/shreyan/pb-cohort/exercises/week%201/solutions/shreyan/chapter2/Chapter2.ipynb#W1sZmlsZQ%3D%3D?line=2'>3</a>\u001b[0m p2 \u001b[39m=\u001b[39m Point(\u001b[39m-\u001b[39;49m\u001b[39m1\u001b[39;49m, \u001b[39m-\u001b[39;49m\u001b[39m2\u001b[39;49m, \u001b[39m5\u001b[39;49m, \u001b[39m7\u001b[39;49m)\n",
      "File \u001b[0;32m~/pb-cohort/exercises/week 1/solutions/shreyan/chapter2/ecc.py:136\u001b[0m, in \u001b[0;36mPoint.__init__\u001b[0;34m(self, x, y, a, b)\u001b[0m\n\u001b[1;32m    133\u001b[0m \u001b[39m# end::source2[]\u001b[39;00m\n\u001b[1;32m    134\u001b[0m \u001b[39m# tag::source1[]\u001b[39;00m\n\u001b[1;32m    135\u001b[0m \u001b[39mif\u001b[39;00m \u001b[39mself\u001b[39m\u001b[39m.\u001b[39my\u001b[39m*\u001b[39m\u001b[39m*\u001b[39m\u001b[39m2\u001b[39m \u001b[39m!=\u001b[39m \u001b[39mself\u001b[39m\u001b[39m.\u001b[39mx\u001b[39m*\u001b[39m\u001b[39m*\u001b[39m\u001b[39m3\u001b[39m \u001b[39m+\u001b[39m a \u001b[39m*\u001b[39m x \u001b[39m+\u001b[39m b:  \u001b[39m# <1>\u001b[39;00m\n\u001b[0;32m--> 136\u001b[0m     \u001b[39mraise\u001b[39;00m \u001b[39mValueError\u001b[39;00m(\u001b[39m'\u001b[39m\u001b[39m(\u001b[39m\u001b[39m{}\u001b[39;00m\u001b[39m, \u001b[39m\u001b[39m{}\u001b[39;00m\u001b[39m) is not on the curve\u001b[39m\u001b[39m'\u001b[39m\u001b[39m.\u001b[39mformat(x, y))\n",
      "\u001b[0;31mValueError\u001b[0m: (-1, -2) is not on the curve"
     ]
    }
   ],
   "source": [
    "from ecc import Point\n",
    "p1 = Point(-1, -1, 5, 7)\n",
    "p2 = Point(-1, -2, 5, 7)"
   ]
  },
  {
   "cell_type": "markdown",
   "metadata": {},
   "source": [
    "### Exercise 1\n",
    "\n",
    "Determine which of these points are on the curve \\\\(y^{2}\\\\)=\\\\(x^{3}\\\\)+5x+7:\n",
    "\n",
    "(2,4), (-1,-1), (18,77), (5,7)"
   ]
  },
  {
   "cell_type": "code",
   "execution_count": 5,
   "metadata": {},
   "outputs": [
    {
     "name": "stdout",
     "output_type": "stream",
     "text": [
      "False\n",
      "True\n",
      "True\n",
      "False\n"
     ]
    }
   ],
   "source": [
    "# Exercise 1\n",
    "\n",
    "# (2,4), (-1,-1), (18,77), (5,7)\n",
    "# equation in python is: y**2 == x**3 + 5*x + 7\n",
    "# ANSWER - p1 and p2 are on the curve, p3 and p4 are not\n",
    "def on_curve(x, y):\n",
    "    return y**2 == x**3 + 5*x + 7\n",
    "\n",
    "print(on_curve(2,4))\n",
    "print(on_curve(-1,-1))\n",
    "print(on_curve(18,77))\n",
    "print(on_curve(5,7))\n"
   ]
  },
  {
   "cell_type": "markdown",
   "metadata": {},
   "source": [
    "### Exercise 2\n",
    "\n",
    "Write the `__ne__` method for `Point`.\n",
    "\n",
    "#### Make [this test](/edit/code-ch02/ecc.py) pass: `ecc.py:PointTest:test_ne`"
   ]
  },
  {
   "cell_type": "code",
   "execution_count": 8,
   "metadata": {},
   "outputs": [
    {
     "name": "stderr",
     "output_type": "stream",
     "text": [
      ".\n",
      "----------------------------------------------------------------------\n",
      "Ran 1 test in 0.002s\n",
      "\n",
      "OK\n"
     ]
    }
   ],
   "source": [
    "# Exercise 2\n",
    "\n",
    "reload(ecc)\n",
    "run(ecc.PointTest(\"test_ne\"))"
   ]
  },
  {
   "cell_type": "code",
   "execution_count": 9,
   "metadata": {},
   "outputs": [
    {
     "name": "stdout",
     "output_type": "stream",
     "text": [
      "Point(-1,-1)_5_7\n",
      "Point(-1,1)_5_7\n",
      "Point(infinity)\n"
     ]
    }
   ],
   "source": [
    "from ecc import Point\n",
    "p1 = Point(-1, -1, 5, 7)\n",
    "p2 = Point(-1, 1, 5, 7)\n",
    "inf = Point(None, None, 5, 7)\n",
    "print(p1 + inf)\n",
    "print(inf + p2)\n",
    "print(p1 + p2)"
   ]
  },
  {
   "cell_type": "markdown",
   "metadata": {},
   "source": [
    "### Exercise 3\n",
    "\n",
    "Handle the case where the two points are additive inverses. That is, they have the same `x`, but a different `y`, causing a vertical line. This should return the point at infinity.\n",
    "\n",
    "#### Make [this test](/edit/code-ch02/ecc.py) pass: `ecc.py:PointTest:test_add0`"
   ]
  },
  {
   "cell_type": "code",
   "execution_count": 10,
   "metadata": {},
   "outputs": [
    {
     "name": "stderr",
     "output_type": "stream",
     "text": [
      ".\n",
      "----------------------------------------------------------------------\n",
      "Ran 1 test in 0.002s\n",
      "\n",
      "OK\n"
     ]
    }
   ],
   "source": [
    "# Exercise 3\n",
    "\n",
    "reload(ecc)\n",
    "run(ecc.PointTest(\"test_add0\"))"
   ]
  },
  {
   "cell_type": "markdown",
   "metadata": {},
   "source": [
    "### Exercise 4\n",
    "\n",
    "For the curve \\\\(y^{2}\\\\)=\\\\(x^{3}\\\\)+5x+7, what is (2,5) + (-1,-1)?"
   ]
  },
  {
   "cell_type": "code",
   "execution_count": 11,
   "metadata": {},
   "outputs": [
    {
     "name": "stdout",
     "output_type": "stream",
     "text": [
      "3.0 -7.0\n"
     ]
    }
   ],
   "source": [
    "# Exercise 4\n",
    "\n",
    "from ecc import Point\n",
    "\n",
    "x1, y1 = 2, 5\n",
    "x2, y2 = -1, -1\n",
    "s = (y2 - y1) / (x2 - x1)\n",
    "x3 = s**2 - x1 - x2\n",
    "y3 = s * (x1 - x3) - y1\n",
    "print(x3, y3)\n"
   ]
  },
  {
   "cell_type": "markdown",
   "metadata": {},
   "source": [
    "### Exercise 5\n",
    "\n",
    "Write the `__add__` method where \\\\(x_{1}\\\\)≠\\\\(x_{2}\\\\)\n",
    "\n",
    "#### Make [this test](/edit/code-ch02/ecc.py) pass: `ecc.py:PointTest:test_add1`"
   ]
  },
  {
   "cell_type": "code",
   "execution_count": 12,
   "metadata": {},
   "outputs": [
    {
     "name": "stderr",
     "output_type": "stream",
     "text": [
      ".\n",
      "----------------------------------------------------------------------\n",
      "Ran 1 test in 0.002s\n",
      "\n",
      "OK\n"
     ]
    }
   ],
   "source": [
    "# Exercise 5\n",
    "\n",
    "reload(ecc)\n",
    "run(ecc.PointTest(\"test_add1\"))"
   ]
  },
  {
   "cell_type": "markdown",
   "metadata": {},
   "source": [
    "### Exercise 6\n",
    "\n",
    "For the curve \\\\(y^{2}\\\\)=\\\\(x^{3}\\\\)+5x+7, what is (-1,-1) + (-1,-1)?"
   ]
  },
  {
   "cell_type": "code",
   "execution_count": 13,
   "metadata": {},
   "outputs": [
    {
     "name": "stdout",
     "output_type": "stream",
     "text": [
      "18.0 77.0\n"
     ]
    }
   ],
   "source": [
    "# Exercise 6\n",
    "\n",
    "from ecc import Point\n",
    "\n",
    "a, x1, y1 = 5, -1, -1\n",
    "s = (3 * x1**2 + a) / (2 * y1)\n",
    "x3 = s**2 - 2*x1\n",
    "y3 = s*(x1-x3)-y1\n",
    "print(x3,y3)"
   ]
  },
  {
   "cell_type": "markdown",
   "metadata": {},
   "source": [
    "### Exercise 7\n",
    "\n",
    "Write the `__add__` method when \\\\(P_{1}\\\\)=\\\\(P_{2}\\\\).\n",
    "\n",
    "#### Make [this test](/edit/code-ch02/ecc.py) pass: `ecc.py:PointTest:test_add2`"
   ]
  },
  {
   "cell_type": "code",
   "execution_count": 14,
   "metadata": {},
   "outputs": [
    {
     "name": "stderr",
     "output_type": "stream",
     "text": [
      ".\n",
      "----------------------------------------------------------------------\n",
      "Ran 1 test in 0.001s\n",
      "\n",
      "OK\n"
     ]
    }
   ],
   "source": [
    "# Exercise 7\n",
    "\n",
    "reload(ecc)\n",
    "run(ecc.PointTest(\"test_add2\"))"
   ]
  }
 ],
 "metadata": {
  "kernelspec": {
   "display_name": "Python 3",
   "language": "python",
   "name": "python3"
  },
  "language_info": {
   "codemirror_mode": {
    "name": "ipython",
    "version": 3
   },
   "file_extension": ".py",
   "mimetype": "text/x-python",
   "name": "python",
   "nbconvert_exporter": "python",
   "pygments_lexer": "ipython3",
   "version": "3.8.10"
  }
 },
 "nbformat": 4,
 "nbformat_minor": 2
}
