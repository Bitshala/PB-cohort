{
 "cells": [
  {
   "cell_type": "code",
   "execution_count": 1,
   "metadata": {},
   "outputs": [],
   "source": [
    "############## PLEASE RUN THIS CELL FIRST! ###################\n",
    "\n",
    "# import everything and define a test runner function\n",
    "from importlib import reload\n",
    "from helper import run\n",
    "import ecc\n",
    "import helper\n",
    "\n",
    "from ecc import FieldElement"
   ]
  },
  {
   "cell_type": "code",
   "execution_count": 4,
   "metadata": {},
   "outputs": [
    {
     "name": "stdout",
     "output_type": "stream",
     "text": [
      "False\n",
      "True\n"
     ]
    }
   ],
   "source": [
    "from ecc import FieldElement\n",
    "a = FieldElement(7, 13)\n",
    "b = FieldElement(6, 13)\n",
    "print(a == b)\n",
    "print(a == a)"
   ]
  },
  {
   "cell_type": "markdown",
   "metadata": {},
   "source": [
    "### Exercise 1\n",
    "\n",
    "Write the corresponding method `__ne__` which checks if two `FieldElement` objects are _not equal_ to each other.\n",
    "\n",
    "#### Make [this test](/edit/code-ch01/ecc.py) pass: `ecc.py:FieldElementTest:test_ne`"
   ]
  },
  {
   "cell_type": "code",
   "execution_count": 5,
   "metadata": {},
   "outputs": [
    {
     "name": "stderr",
     "output_type": "stream",
     "text": [
      ".\n",
      "----------------------------------------------------------------------\n",
      "Ran 1 test in 0.001s\n",
      "\n",
      "OK\n"
     ]
    }
   ],
   "source": [
    "# Exercise 1\n",
    "\n",
    "reload(ecc)\n",
    "run(ecc.FieldElementTest(\"test_ne\"))"
   ]
  },
  {
   "cell_type": "code",
   "execution_count": 6,
   "metadata": {},
   "outputs": [
    {
     "name": "stdout",
     "output_type": "stream",
     "text": [
      "1\n"
     ]
    }
   ],
   "source": [
    "print(7 % 3)"
   ]
  },
  {
   "cell_type": "code",
   "execution_count": 7,
   "metadata": {},
   "outputs": [
    {
     "name": "stdout",
     "output_type": "stream",
     "text": [
      "12\n"
     ]
    }
   ],
   "source": [
    "print(-27 % 13)"
   ]
  },
  {
   "cell_type": "markdown",
   "metadata": {},
   "source": [
    "### Exercise 2\n",
    "\n",
    "Solve these problems in \\\\(F_{57}\\\\) (assume all +'s here are \\\\(+_{f}\\\\) and -`s here \\\\(-_{f}\\\\))\n",
    "\n",
    "* 44+33\n",
    "* 9-29\n",
    "* 17+42+49\n",
    "* 52-30-38"
   ]
  },
  {
   "cell_type": "code",
   "execution_count": 13,
   "metadata": {},
   "outputs": [
    {
     "name": "stdout",
     "output_type": "stream",
     "text": [
      "FieldElement_57(20)\n",
      "FieldElement_57(51)\n",
      "FieldElement_57(6)\n"
     ]
    }
   ],
   "source": [
    "# Exercise 2\n",
    "# remember that % is the modulo operator\n",
    "prime = 57\n",
    "from ecc import FieldElement\n",
    "# 44+33\n",
    "print(FieldElement(44,prime)+FieldElement(33,prime))\n",
    "# 9-29\n",
    "# print(FieldElement(9,prime)-FieldElement(29,prime))\n",
    "# 17+42+49\n",
    "print(FieldElement(17,prime)+FieldElement(42,prime)+FieldElement(49,prime))\n",
    "# 52-30-38\n",
    "print(FieldElement(52,prime)+FieldElement(30,prime)+FieldElement(38,prime))"
   ]
  },
  {
   "cell_type": "code",
   "execution_count": 14,
   "metadata": {},
   "outputs": [
    {
     "name": "stdout",
     "output_type": "stream",
     "text": [
      "True\n"
     ]
    }
   ],
   "source": [
    "from ecc import FieldElement\n",
    "a = FieldElement(7, 13)\n",
    "b = FieldElement(12, 13)\n",
    "c = FieldElement(6, 13)\n",
    "print(a+b==c)"
   ]
  },
  {
   "cell_type": "markdown",
   "metadata": {
    "jp-MarkdownHeadingCollapsed": true
   },
   "source": [
    "### Exercise 3\n",
    "\n",
    "Write the corresponding `__sub__` method which defines the subtraction of two `FieldElement` objects.\n",
    "\n",
    "#### Make [this test](/edit/code-ch01/ecc.py) pass: `ecc.py:FieldElementTest:test_sub`"
   ]
  },
  {
   "cell_type": "code",
   "execution_count": 15,
   "metadata": {},
   "outputs": [
    {
     "name": "stderr",
     "output_type": "stream",
     "text": [
      ".\n",
      "----------------------------------------------------------------------\n",
      "Ran 1 test in 0.001s\n",
      "\n",
      "OK\n"
     ]
    }
   ],
   "source": [
    "# Exercise 3\n",
    "\n",
    "reload(ecc)\n",
    "run(ecc.FieldElementTest(\"test_sub\"))"
   ]
  },
  {
   "cell_type": "markdown",
   "metadata": {
    "jp-MarkdownHeadingCollapsed": true
   },
   "source": [
    "### Exercise 4\n",
    "\n",
    "Solve the following equations in \\\\(F_{97}\\\\) (again, assume ⋅ and exponentiation are field versions):\n",
    "\n",
    "* 95⋅45⋅31\n",
    "* 17⋅13⋅19⋅44\n",
    "* \\\\(12^{7}\\\\)⋅\\\\(77^{49}\\\\)"
   ]
  },
  {
   "cell_type": "code",
   "execution_count": 24,
   "metadata": {},
   "outputs": [
    {
     "name": "stdout",
     "output_type": "stream",
     "text": [
      "FieldElement_97(23)\n",
      "FieldElement_97(68)\n",
      "FieldElement_97(63)\n"
     ]
    }
   ],
   "source": [
    "# Exercise 4\n",
    "\n",
    "prime = 97\n",
    "reload(ecc)\n",
    "from ecc import FieldElement\n",
    "# 95*45*31\n",
    "print(FieldElement(95,prime)*FieldElement(45,prime)*FieldElement(31,prime))\n",
    "# 17*13*19*44\n",
    "print(FieldElement(17,prime)*FieldElement(13,prime)*FieldElement(19,prime)*FieldElement(44,prime))\n",
    "# 12**7*77**49\n",
    "print((FieldElement(12,prime)**7)*(FieldElement(77,prime)**49))"
   ]
  },
  {
   "cell_type": "markdown",
   "metadata": {
    "jp-MarkdownHeadingCollapsed": true
   },
   "source": [
    "### Exercise 5\n",
    "\n",
    "For k = 1, 3, 7, 13, 18, what is this set in \\\\(F_{19}\\\\)?\n",
    "\n",
    "{k⋅0, k⋅1, k⋅2, k⋅3, ... k⋅18}\n",
    "\n",
    "Do you notice anything about these sets?"
   ]
  },
  {
   "cell_type": "code",
   "execution_count": 44,
   "metadata": {},
   "outputs": [
    {
     "name": "stdout",
     "output_type": "stream",
     "text": [
      "The set is \n",
      " [FieldElement_19(0), FieldElement_19(1), FieldElement_19(2), FieldElement_19(3), FieldElement_19(4), FieldElement_19(5), FieldElement_19(6), FieldElement_19(7), FieldElement_19(8), FieldElement_19(9), FieldElement_19(10), FieldElement_19(11), FieldElement_19(12), FieldElement_19(13), FieldElement_19(14), FieldElement_19(15), FieldElement_19(16), FieldElement_19(17), FieldElement_19(18)]\n",
      "\n",
      " The result is \n",
      "\n",
      "[FieldElement_19(0), FieldElement_19(1), FieldElement_19(2), FieldElement_19(3), FieldElement_19(4), FieldElement_19(5), FieldElement_19(6), FieldElement_19(7), FieldElement_19(8), FieldElement_19(9), FieldElement_19(10), FieldElement_19(11), FieldElement_19(12), FieldElement_19(13), FieldElement_19(14), FieldElement_19(15), FieldElement_19(16), FieldElement_19(17), FieldElement_19(18)]\n",
      " \n",
      "The set is \n",
      " [FieldElement_19(0), FieldElement_19(1), FieldElement_19(2), FieldElement_19(3), FieldElement_19(4), FieldElement_19(5), FieldElement_19(6), FieldElement_19(7), FieldElement_19(8), FieldElement_19(9), FieldElement_19(10), FieldElement_19(11), FieldElement_19(12), FieldElement_19(13), FieldElement_19(14), FieldElement_19(15), FieldElement_19(16), FieldElement_19(17), FieldElement_19(18)]\n",
      "\n",
      " The result is \n",
      "\n",
      "[FieldElement_19(0), FieldElement_19(1), FieldElement_19(2), FieldElement_19(3), FieldElement_19(4), FieldElement_19(5), FieldElement_19(6), FieldElement_19(7), FieldElement_19(8), FieldElement_19(9), FieldElement_19(10), FieldElement_19(11), FieldElement_19(12), FieldElement_19(13), FieldElement_19(14), FieldElement_19(15), FieldElement_19(16), FieldElement_19(17), FieldElement_19(18)]\n",
      " \n",
      "The set is \n",
      " [FieldElement_19(0), FieldElement_19(1), FieldElement_19(2), FieldElement_19(3), FieldElement_19(4), FieldElement_19(5), FieldElement_19(6), FieldElement_19(7), FieldElement_19(8), FieldElement_19(9), FieldElement_19(10), FieldElement_19(11), FieldElement_19(12), FieldElement_19(13), FieldElement_19(14), FieldElement_19(15), FieldElement_19(16), FieldElement_19(17), FieldElement_19(18)]\n",
      "\n",
      " The result is \n",
      "\n",
      "[FieldElement_19(0), FieldElement_19(1), FieldElement_19(2), FieldElement_19(3), FieldElement_19(4), FieldElement_19(5), FieldElement_19(6), FieldElement_19(7), FieldElement_19(8), FieldElement_19(9), FieldElement_19(10), FieldElement_19(11), FieldElement_19(12), FieldElement_19(13), FieldElement_19(14), FieldElement_19(15), FieldElement_19(16), FieldElement_19(17), FieldElement_19(18)]\n",
      " \n",
      "The set is \n",
      " [FieldElement_19(0), FieldElement_19(1), FieldElement_19(2), FieldElement_19(3), FieldElement_19(4), FieldElement_19(5), FieldElement_19(6), FieldElement_19(7), FieldElement_19(8), FieldElement_19(9), FieldElement_19(10), FieldElement_19(11), FieldElement_19(12), FieldElement_19(13), FieldElement_19(14), FieldElement_19(15), FieldElement_19(16), FieldElement_19(17), FieldElement_19(18)]\n",
      "\n",
      " The result is \n",
      "\n",
      "[FieldElement_19(0), FieldElement_19(1), FieldElement_19(2), FieldElement_19(3), FieldElement_19(4), FieldElement_19(5), FieldElement_19(6), FieldElement_19(7), FieldElement_19(8), FieldElement_19(9), FieldElement_19(10), FieldElement_19(11), FieldElement_19(12), FieldElement_19(13), FieldElement_19(14), FieldElement_19(15), FieldElement_19(16), FieldElement_19(17), FieldElement_19(18)]\n",
      " \n",
      "The set is \n",
      " [FieldElement_19(0), FieldElement_19(1), FieldElement_19(2), FieldElement_19(3), FieldElement_19(4), FieldElement_19(5), FieldElement_19(6), FieldElement_19(7), FieldElement_19(8), FieldElement_19(9), FieldElement_19(10), FieldElement_19(11), FieldElement_19(12), FieldElement_19(13), FieldElement_19(14), FieldElement_19(15), FieldElement_19(16), FieldElement_19(17), FieldElement_19(18)]\n",
      "\n",
      " The result is \n",
      "\n",
      "[FieldElement_19(0), FieldElement_19(1), FieldElement_19(2), FieldElement_19(3), FieldElement_19(4), FieldElement_19(5), FieldElement_19(6), FieldElement_19(7), FieldElement_19(8), FieldElement_19(9), FieldElement_19(10), FieldElement_19(11), FieldElement_19(12), FieldElement_19(13), FieldElement_19(14), FieldElement_19(15), FieldElement_19(16), FieldElement_19(17), FieldElement_19(18)]\n",
      " \n",
      "\n",
      " Inference: No matter the value of \"k\", scalar multiple k.set{} is the same \n",
      "\n"
     ]
    }
   ],
   "source": [
    "# Exercise 5\n",
    "\n",
    "prime = 19\n",
    " # are the other possibilities\n",
    "reload (ecc)\n",
    "from ecc import FieldElement\n",
    "k = [FieldElement(1,prime),FieldElement(3,prime),FieldElement(7,prime),FieldElement(13,prime),FieldElement(18,prime)]\n",
    "for i in k:\n",
    "    result = []\n",
    "    finiteset = []\n",
    "    for j in range(prime):\n",
    "        finiteset.append(FieldElement(j, prime))\n",
    "        result.append(i*finiteset[j])\n",
    "    result_sorted=sorted(result, key=lambda x: x.num)\n",
    "    print ('The set is \\n',finiteset)\n",
    "    print ('\\n The result is \\n')\n",
    "    print (result_sorted , end='\\n \\n')\n",
    "print ('\\n Inference: No matter the value of \"k\", scalar multiple k.set{} is the same \\n')\n",
    "# loop through all possible k's 0 up to prime-1\n",
    "# calculate k*iterator % prime\n",
    "# Hint - sort!"
   ]
  },
  {
   "cell_type": "code",
   "execution_count": 45,
   "metadata": {},
   "outputs": [
    {
     "name": "stdout",
     "output_type": "stream",
     "text": [
      "True\n"
     ]
    }
   ],
   "source": [
    "from ecc import FieldElement\n",
    "a = FieldElement(3, 13)\n",
    "b = FieldElement(12, 13)\n",
    "c = FieldElement(10, 13)\n",
    "print(a*b==c)"
   ]
  },
  {
   "cell_type": "markdown",
   "metadata": {},
   "source": [
    "### Exercise 6\n",
    "\n",
    "Write the corresponding `__mul__` method which defines the multiplication of two Finite Field elements.\n",
    "\n",
    "#### Make [this test](/edit/code-ch01/ecc.py) pass: `ecc.py:FieldElementTest:test_mul`"
   ]
  },
  {
   "cell_type": "code",
   "execution_count": 46,
   "metadata": {},
   "outputs": [
    {
     "name": "stderr",
     "output_type": "stream",
     "text": [
      ".\n",
      "----------------------------------------------------------------------\n",
      "Ran 1 test in 0.001s\n",
      "\n",
      "OK\n"
     ]
    }
   ],
   "source": [
    "# Exercise 6\n",
    "\n",
    "reload(ecc)\n",
    "run(ecc.FieldElementTest(\"test_mul\"))"
   ]
  },
  {
   "cell_type": "code",
   "execution_count": 47,
   "metadata": {},
   "outputs": [
    {
     "name": "stdout",
     "output_type": "stream",
     "text": [
      "True\n"
     ]
    }
   ],
   "source": [
    "from ecc import FieldElement\n",
    "a = FieldElement(3, 13)\n",
    "b = FieldElement(1, 13)\n",
    "print(a**3==b)"
   ]
  },
  {
   "cell_type": "markdown",
   "metadata": {},
   "source": [
    "### Exercise 7\n",
    "\n",
    "For p = 7, 11, 17, 31, what is this set in \\\\(F_{p}\\\\)?\n",
    "\n",
    "{\\\\(1^{(p-1)}\\\\), \\\\(2^{(p-1)}\\\\), \\\\(3^{(p-1)}\\\\), \\\\(4^{(p-1)}\\\\), ... \\\\((p-1)^{(p-1)}\\\\)}"
   ]
  },
  {
   "cell_type": "code",
   "execution_count": 54,
   "metadata": {},
   "outputs": [
    {
     "name": "stdout",
     "output_type": "stream",
     "text": [
      "For Prime = 7 the set is [0, 1, 64, 729, 4096, 15625, 46656]\n",
      "\n",
      "\n",
      "For Prime = 11 the set is [0, 1, 1024, 59049, 1048576, 9765625, 60466176, 282475249, 1073741824, 3486784401, 10000000000]\n",
      "\n",
      "\n",
      "For Prime = 17 the set is [0, 1, 65536, 43046721, 4294967296, 152587890625, 2821109907456, 33232930569601, 281474976710656, 1853020188851841, 10000000000000000, 45949729863572161, 184884258895036416, 665416609183179841, 2177953337809371136, 6568408355712890625, 18446744073709551616]\n",
      "\n",
      "\n",
      "For Prime = 31 the set is [0, 1, 1073741824, 205891132094649, 1152921504606846976, 931322574615478515625, 221073919720733357899776, 22539340290692258087863249, 1237940039285380274899124224, 42391158275216203514294433201, 1000000000000000000000000000000, 17449402268886407318558803753801, 237376313799769806328950291431424, 2619995643649944960380551432833049, 24201432355484595421941037243826176, 191751059232884086668491363525390625, 1329227995784915872903807060280344576, 8193465725814765556554001028792218849, 45517159607903340355793714778287898624, 230466617897195215045509519405933293401, 1073741824000000000000000000000000000000, 4640650289117164100520051333566036654601, 18736153019903829443036278993864332673024, 71094348791151363024389554286420996798449, 254880876153761202627773829926908776677376, 867361737988403547205962240695953369140625, 2813198901284745919258621029615971520741376, 8727963568087712425891397479476727340041449, 25986090120790645892257018950637850957185024, 74462898441675122902293018227199467668020601, 205891132094649000000000000000000000000000000]\n",
      "\n",
      "\n",
      "For Prime = 43 the set is [0, 1, 4398046511104, 109418989131512359209, 19342813113834066795298816, 227373675443232059478759765625, 481229803398374426442198455156736, 311973482284542371301330321821976049, 85070591730234615865843651857942052864, 11972515182562019788602740026717047105681, 1000000000000000000000000000000000000000000, 54763699237492901685126120802225273763666521, 2116471057875484488839167999221661362284396544, 61040881526285814362156628321386486455989674569, 1372073885318497127491074758162987278899500548096, 24878997722115027320114677422679960727691650390625, 374144419156711147060143317175368453031918731001856, 4773695331839566234818968439734627784374274207965089, 52655678627806560751363688397557640770141543227981824, 510095203738582479622335815880298130716653502143703561, 4398046511104000000000000000000000000000000000000000000, 34135823067412405261341512451566463326809746506282585241, 240853296366604441364234217964444502875744809722979549184, 1558005952997140033806173725098810522409738596181909282129, 9308338151941866618592771645958951941937449991757235224576, 51698788284564229679463043254372678347863256931304931640625, 268460636031393932323010374318061912785738337881638804914176, 1310020508637620352391208095712502073964245732475093456566329, 6034444764301926099398767225037966746150282982201748550057984, 26346074268992142099064516382762907506814419719803282255713641, 109418989131512359209000000000000000000000000000000000000000000, 433701716541192355457229753999917360820651622584523552060436161, 1645504557321206042154969182557350504982735865633579863348609024, 5992188611668647482797702362673386216879593110712943882639341889, 20994934099270455805310285751415166210683338288073072603882848256, 70934557307860443711736098025989133248003781773149967193603515625, 231582123678838102672736490567111386503858361810075859110326173696, 731934824502651514621160916115101341995441470527191525223322819769, 2243422431133356731777555210583406512289750870293578431297270841344, 6679031552302601070267770324571910145999065489497518192513340255921, 19342813113834066795298816000000000000000000000000000000000000000000, 54565982855941191947249368879497196495421462536627690767330656099281, 150130937545296572356771972164254457814047970568738777235893533016064]\n",
      "\n",
      "\n"
     ]
    }
   ],
   "source": [
    "# Exercise 7\n",
    "\n",
    "primes = [7, 11, 17, 31, 43]\n",
    "reload (ecc) \n",
    "from ecc import FieldElement \n",
    "for i in primes:\n",
    "    j = 1\n",
    "    finiteset = []\n",
    "    for j in range(i):\n",
    "        finiteset.append(pow(j, i-1))\n",
    "    print (\"For Prime = \" + str(i) + \" the set is \" + str(finiteset) + \"\\n\\n\") \n",
    "        "
   ]
  },
  {
   "cell_type": "markdown",
   "metadata": {},
   "source": [
    "### Exercise 8\n",
    "\n",
    "Solve the following equations in \\\\(F_{31}\\\\):\n",
    "\n",
    "* 3 / 24\n",
    "* \\\\(17^{-3}\\\\)\n",
    "* \\\\(4^{-4}\\\\)⋅11"
   ]
  },
  {
   "cell_type": "code",
   "execution_count": 57,
   "metadata": {},
   "outputs": [
    {
     "name": "stdout",
     "output_type": "stream",
     "text": [
      "FieldElement_31(4)\n",
      "FieldElement_31(29)\n",
      "FieldElement_31(13)\n"
     ]
    }
   ],
   "source": [
    "# Exercise 8\n",
    "reload (ecc)\n",
    "from ecc import FieldElement\n",
    "\n",
    "# 3/24\n",
    "print (FieldElement(3, 31)/FieldElement(24,31))\n",
    "\n",
    "# 17**-3\n",
    "print (FieldElement(17,31)**-3)\n",
    "\n",
    "# 4**-4*11\n",
    "\n",
    "print ((FieldElement(4,31)**-4)*FieldElement(11,31))\n"
   ]
  },
  {
   "cell_type": "markdown",
   "metadata": {},
   "source": [
    "### Exercise 9\n",
    "\n",
    "Write the corresponding `__truediv__` method which defines the division of two field elements.\n",
    "\n",
    "Note that in Python3, division is separated into `__truediv__` and `__floordiv__`. The first does normal division, the second does integer division.\n",
    "\n",
    "#### Make [this test](/edit/code-ch01/ecc.py) pass: `ecc.py:FieldElementTest:test_div`"
   ]
  },
  {
   "cell_type": "code",
   "execution_count": 58,
   "metadata": {},
   "outputs": [
    {
     "name": "stderr",
     "output_type": "stream",
     "text": [
      ".\n",
      "----------------------------------------------------------------------\n",
      "Ran 1 test in 0.001s\n",
      "\n",
      "OK\n"
     ]
    }
   ],
   "source": [
    "# Exercise 9\n",
    "\n",
    "reload(ecc)\n",
    "run(ecc.FieldElementTest(\"test_div\"))"
   ]
  },
  {
   "cell_type": "code",
   "execution_count": 59,
   "metadata": {},
   "outputs": [
    {
     "name": "stdout",
     "output_type": "stream",
     "text": [
      "True\n"
     ]
    }
   ],
   "source": [
    "from ecc import FieldElement\n",
    "a = FieldElement(7, 13)\n",
    "b = FieldElement(8, 13)\n",
    "print(a**-3==b)"
   ]
  },
  {
   "cell_type": "code",
   "execution_count": null,
   "metadata": {},
   "outputs": [],
   "source": []
  }
 ],
 "metadata": {
  "kernelspec": {
   "display_name": "Python 3 (ipykernel)",
   "language": "python",
   "name": "python3"
  },
  "language_info": {
   "codemirror_mode": {
    "name": "ipython",
    "version": 3
   },
   "file_extension": ".py",
   "mimetype": "text/x-python",
   "name": "python",
   "nbconvert_exporter": "python",
   "pygments_lexer": "ipython3",
   "version": "3.9.6"
  }
 },
 "nbformat": 4,
 "nbformat_minor": 4
}
