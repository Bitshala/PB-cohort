{
 "cells": [
  {
   "cell_type": "code",
   "execution_count": 68,
   "metadata": {},
   "outputs": [],
   "source": [
    "############## PLEASE RUN THIS CELL FIRST! ###################\n",
    "\n",
    "# import everything and define a test runner function\n",
    "from importlib import reload\n",
    "from helper import run\n",
    "import ecc\n",
    "import helper"
   ]
  },
  {
   "cell_type": "markdown",
   "metadata": {},
   "source": [
    "### Exercise 1\n",
    "\n",
    "Find the uncompressed SEC format for the Public Key where the Private Key secrets are:\n",
    "\n",
    "* 5000\n",
    "* \\\\(2018^{5}\\\\)\n",
    "* 0xdeadbeef12345"
   ]
  },
  {
   "cell_type": "code",
   "execution_count": 29,
   "metadata": {},
   "outputs": [
    {
     "name": "stdout",
     "output_type": "stream",
     "text": [
      "The uncompressed SEC format Pub keys for the private key \"5000\" is: \n",
      "04ffe558e388852f0120e46af2d1b370f85854a8eb0841811ece0e3e03d282d57c315dc72890a4f10a1481c031b03b351b0dc79901ca18a00cf009dbdb157a1d10\n",
      "The uncompressed SEC format Pub keys for the private key \"2018^5\" is: \n",
      "04027f3da1918455e03c46f659266a1bb5204e959db7364d2f473bdf8f0a13cc9dff87647fd023c13b4a4994f17691895806e1b40b57f4fd22581a4f46851f3b06\n",
      "The uncompressed SEC format Pub keys for the private key \"deadbeef12345\" is: \n",
      "04d90cd625ee87dd38656dd95cf79f65f60f7273b67d3096e68bd81e4f5342691f842efa762fd59961d0e99803c61edba8b3e3f7dc3a341836f97733aebf987121\n"
     ]
    }
   ],
   "source": [
    "# Exercise 1\n",
    "\n",
    "from ecc import PrivateKey\n",
    "\n",
    "# 5000\n",
    "p = PrivateKey(5000)\n",
    "print('The uncompressed SEC format Pub keys for the private key \"5000\" is: ')\n",
    "print ('04'+str(p.point.x)+str(p.point.y))\n",
    "\n",
    "# 2018**5\n",
    "p = PrivateKey(2018**5)\n",
    "print('The uncompressed SEC format Pub keys for the private key \"2018^5\" is: ')\n",
    "print ('04'+str(p.point.x)+str(p.point.y))\n",
    "\n",
    "# # 0xdeadbeef12345\n",
    "p = PrivateKey(0xdeadbeef12345)\n",
    "print('The uncompressed SEC format Pub keys for the private key \"deadbeef12345\" is: ')\n",
    "print ('04'+str(p.point.x)+str(p.point.y))\n"
   ]
  },
  {
   "cell_type": "markdown",
   "metadata": {},
   "source": [
    "### Exercise 2\n",
    "\n",
    "Find the Compressed SEC format for the Public Key where the Private Key secrets are:\n",
    "\n",
    "* 5001\n",
    "* \\\\(2019^{5}\\\\)\n",
    "* 0xdeadbeef54321"
   ]
  },
  {
   "cell_type": "code",
   "execution_count": 39,
   "metadata": {},
   "outputs": [
    {
     "name": "stdout",
     "output_type": "stream",
     "text": [
      "The compressed SEC format Pub keys for the private key \"5001\" is: b'\\x03W\\xa4\\xf3h\\x86\\x8a\\x8amW)\\x91\\xe4\\x84\\xe6d\\x81\\x0f\\xf1L\\x05\\xc0\\xfa\\x022u%\\x11Q\\xfe\\x0eS\\xd1'\n",
      "The compressed SEC format Pub keys for the private key \"2019^5\" is: b\"\\x02\\x93>\\xc2\\xd2\\xb1\\x11\\xb9'7\\xec\\x12\\xf1\\xc5\\xd2\\x0f23\\xa0\\xad!\\xcd\\x8b6\\xd0\\xbc\\xa7\\xa0\\xcf\\xa5\\xcb\\x87\\x01\"\n",
      "The compressed SEC format Pub keys for the private key \"deadbeef54321\" is: b'\\x02\\x96\\xbe[\\x12\\x92\\xf6\\xc8V\\xb3\\xc5eN\\x88o\\xc15\\x11F Y\\x08\\x9c\\xdf\\x9cG\\x96#\\xbf\\xcb\\xe7v\\x90'\n"
     ]
    }
   ],
   "source": [
    "# Exercise 2\n",
    "\n",
    "from ecc import PrivateKey\n",
    "from ecc import S256Point\n",
    "\n",
    "# 5001\n",
    "p = PrivateKey(5001)\n",
    "pp=S256Point(p.point.x, p.point.y)\n",
    "ppp=pp.sec(compressed=True)\n",
    "print('The compressed SEC format Pub keys for the private key \"5001\" is: '+str(ppp))\n",
    "\n",
    "# 2019**5\n",
    "p = PrivateKey(2019**5)\n",
    "pp=S256Point(p.point.x, p.point.y)\n",
    "ppp=pp.sec(compressed=True)\n",
    "print('The compressed SEC format Pub keys for the private key \"2019^5\" is: '+str(ppp))\n",
    "\n",
    "# 0xdeadbeef54321\n",
    "p = PrivateKey(0xdeadbeef54321)\n",
    "pp=S256Point(p.point.x, p.point.y)\n",
    "ppp=pp.sec(compressed=True)\n",
    "print('The compressed SEC format Pub keys for the private key \"deadbeef54321\" is: '+str(ppp))"
   ]
  },
  {
   "cell_type": "markdown",
   "metadata": {},
   "source": [
    "### Exercise 3\n",
    "\n",
    "Find the DER format for a signature whose `r` and `s` values are:\n",
    "\n",
    "* r =\n",
    "\n",
    "`0x37206a0610995c58074999cb9767b87af4c4978db68c06e8e6e81d282047a7c6`\n",
    "\n",
    "* s =\n",
    "\n",
    "`0x8ca63759c1157ebeaec0d03cecca119fc9a75bf8e6d0fa65c841c8e2738cdaec`"
   ]
  },
  {
   "cell_type": "code",
   "execution_count": 45,
   "metadata": {},
   "outputs": [
    {
     "name": "stdout",
     "output_type": "stream",
     "text": [
      "The DER form of the signature Signature(37206a0610995c58074999cb9767b87af4c4978db68c06e8e6e81d282047a7c6,8ca63759c1157ebeaec0d03cecca119fc9a75bf8e6d0fa65c841c8e2738cdaec)is: \n",
      "b'0E\\x02 7 j\\x06\\x10\\x99\\\\X\\x07I\\x99\\xcb\\x97g\\xb8z\\xf4\\xc4\\x97\\x8d\\xb6\\x8c\\x06\\xe8\\xe6\\xe8\\x1d( G\\xa7\\xc6\\x02!\\x00\\x8c\\xa67Y\\xc1\\x15~\\xbe\\xae\\xc0\\xd0<\\xec\\xca\\x11\\x9f\\xc9\\xa7[\\xf8\\xe6\\xd0\\xfae\\xc8A\\xc8\\xe2s\\x8c\\xda\\xec'\n"
     ]
    }
   ],
   "source": [
    "# Exercise 3\n",
    "\n",
    "from ecc import Signature\n",
    "\n",
    "r = 0x37206a0610995c58074999cb9767b87af4c4978db68c06e8e6e81d282047a7c6\n",
    "s = 0x8ca63759c1157ebeaec0d03cecca119fc9a75bf8e6d0fa65c841c8e2738cdaec\n",
    "sign=Signature(r,s)\n",
    "print ('The DER form of the signature ' + str(sign) + 'is: ')\n",
    "print(sign.der())"
   ]
  },
  {
   "cell_type": "markdown",
   "metadata": {},
   "source": [
    "### Exercise 4\n",
    "\n",
    "Convert the following hex to binary and then to Base58:\n",
    "\n",
    "* `7c076ff316692a3d7eb3c3bb0f8b1488cf72e1afcd929e29307032997a838a3d`\n",
    "* `eff69ef2b1bd93a66ed5219add4fb51e11a840f404876325a1e8ffe0529a2c`\n",
    "* `c7207fee197d27c618aea621406f6bf5ef6fca38681d82b2f06fddbdce6feab6`"
   ]
  },
  {
   "cell_type": "code",
   "execution_count": 25,
   "metadata": {},
   "outputs": [
    {
     "name": "stdout",
     "output_type": "stream",
     "text": [
      "The base 58 representation is: 9MA8fRQrT4u8Zj8ZRd6MAiiyaxb2Y1CMpvVkHQu5hVM6\n",
      "The base 58 representation is: 4fE3H2E6XMp4SsxtwinF7w9a34ooUrwWe4WsW1458Pd\n",
      "The base 58 representation is: EQJsjkd6JaGwxrjEhfeqPenqHwrBmPQZjJGNSCHBkcF7\n"
     ]
    }
   ],
   "source": [
    "# Exercise 4\n",
    "\n",
    "from helper import encode_base58\n",
    "\n",
    "# 7c076ff316692a3d7eb3c3bb0f8b1488cf72e1afcd929e29307032997a838a3d\n",
    "hexval=0x7c076ff316692a3d7eb3c3bb0f8b1488cf72e1afcd929e29307032997a838a3d\n",
    "s=bin(hexval)[2:]\n",
    "binhexbyte=int(s,2).to_bytes(((len(s)+7)//8), 'big')\n",
    "print('The base 58 representation is: ' + str(encode_base58(binhexbyte)))\n",
    "\n",
    "# eff69ef2b1bd93a66ed5219add4fb51e11a840f404876325a1e8ffe0529a2c\n",
    "hexval=0xeff69ef2b1bd93a66ed5219add4fb51e11a840f404876325a1e8ffe0529a2c\n",
    "s=bin(hexval)[2:]\n",
    "binhexbyte=int(s,2).to_bytes(((len(s)+7)//8), 'big')\n",
    "print('The base 58 representation is: ' + str(encode_base58(binhexbyte)))\n",
    "\n",
    "# c7207fee197d27c618aea621406f6bf5ef6fca38681d82b2f06fddbdce6feab6\n",
    "hexval=0xc7207fee197d27c618aea621406f6bf5ef6fca38681d82b2f06fddbdce6feab6\n",
    "s=bin(hexval)[2:]\n",
    "binhexbyte=int(s,2).to_bytes(((len(s)+7)//8), 'big')\n",
    "print('The base 58 representation is: ' + str(encode_base58(binhexbyte)))\n"
   ]
  },
  {
   "cell_type": "markdown",
   "metadata": {},
   "source": [
    "### Exercise 5\n",
    "\n",
    "Find the address corresponding to Public Keys whose Private Key secrets are:\n",
    "\n",
    "* 5002 (use uncompressed SEC, on testnet)\n",
    "* \\\\(2020^{5}\\\\) (use compressed SEC, on testnet)\n",
    "* 0x12345deadbeef (use compressed SEC on mainnet)"
   ]
  },
  {
   "cell_type": "code",
   "execution_count": 48,
   "metadata": {},
   "outputs": [
    {
     "name": "stdout",
     "output_type": "stream",
     "text": [
      "The address (uncompressed SEC on testnet) is: 1muB6zbbDUdNQUimNcpeMd4SA4S8iy8W16Q\n",
      "The address (compressed SEC on testnet) is: 1mkAeD8JmrYzyFGQhycecuBQj7pvAzcnrAd\n",
      "The address (compressed SEC on mainnet) is: 11F1Pn2y6pDb68E5nYJJeba4TLg2U5G2r93\n"
     ]
    }
   ],
   "source": [
    "# Exercise 5\n",
    "\n",
    "from ecc import PrivateKey\n",
    "from ecc import S256Point\n",
    "from helper import hash160\n",
    "from helper import hash256\n",
    "\n",
    "# 5002 (use uncompressed SEC, on testnet)\n",
    "p = PrivateKey(5002)\n",
    "s='04'+str(p.point.x)+str(p.point.y)\n",
    "h160=hash160(int(s,16).to_bytes((len(s)+7//8), 'big')) # Converting \n",
    "jj=int('6f',16).to_bytes(2,'big') # Converting the testnet prefix '0x6f' into bytes\n",
    "checksum=hash256(jj+h160)[:4]\n",
    "print('The address (uncompressed SEC on testnet) is: '+str(encode_base58(jj+h160+checksum)))\n",
    "\n",
    "# 2020**5 (use compressed SEC, on testnet)\n",
    "p = PrivateKey(2019**5)\n",
    "pp=S256Point(p.point.x, p.point.y)\n",
    "ppp=pp.sec(compressed=True)\n",
    "h160=hash160(ppp) \n",
    "jj=int('6f',16).to_bytes(2,'big') # Converting the testnet prefix '0x6f' into bytes\n",
    "checksum=hash256(jj+h160)[:4]\n",
    "print('The address (compressed SEC on testnet) is: '+str(encode_base58(jj+h160+checksum)))\n",
    "\n",
    "# 0x12345deadbeef (use compressed SEC on mainnet)\n",
    "p = PrivateKey(0x12345deadbeef)\n",
    "pp=S256Point(p.point.x, p.point.y)\n",
    "ppp=pp.sec(compressed=True)\n",
    "h160=hash160(ppp) \n",
    "jj=int('00',16).to_bytes(2,'big') # Converting the mainnet prefix '0x00' into bytes\n",
    "checksum=hash256(jj+h160)[:4]\n",
    "print('The address (compressed SEC on mainnet) is: '+str(encode_base58(jj+h160+checksum)))\n"
   ]
  },
  {
   "cell_type": "markdown",
   "metadata": {},
   "source": [
    "### Exercise 6\n",
    "\n",
    "Find the WIF for Private Key whose secrets are:\n",
    "\n",
    "* 5003 (compressed, testnet)\n",
    "* \\\\(2021^{5}\\\\) (uncompressed, testnet)\n",
    "* 0x54321deadbeef (compressed, mainnet)"
   ]
  },
  {
   "cell_type": "code",
   "execution_count": 51,
   "metadata": {},
   "outputs": [
    {
     "name": "stdout",
     "output_type": "stream",
     "text": [
      "cMahea7zqjxrtgAbB7LSGbcQUr1uX1ojuat9jZodMN8rFTv2sfUK\n",
      "91avARGdfge8E4tZfYLoxeJ5sGBdNJQH4kvjpWAxgzczjbCwxic\n",
      "KwDiBf89QgGbjEhKnhXJuH7LrciVrZi3qYjgiuQJv1h8Ytr2S53a\n"
     ]
    }
   ],
   "source": [
    "# Exercise 6\n",
    "\n",
    "from ecc import PrivateKey\n",
    "\n",
    "# 5003 (compressed, testnet)\n",
    "p = PrivateKey(5003)\n",
    "print (p.wif(compressed=True, testnet=True))\n",
    "\n",
    "# 2021**5 (uncompressed, testnet)\n",
    "p = PrivateKey(2021**5)\n",
    "print (p.wif(compressed=False, testnet=True))\n",
    "\n",
    "# 0x54321deadbeef (compressed, Mainnet)\n",
    "p = PrivateKey(0x54321deadbeef)\n",
    "print (p.wif(compressed=True, testnet=False))"
   ]
  },
  {
   "cell_type": "markdown",
   "metadata": {},
   "source": [
    "### Exercise 7\n",
    "\n",
    "Write a function `little_endian_to_int` which takes Python bytes, interprets those bytes in Little-Endian and returns the number.\n",
    "\n",
    "#### Make [this test](/edit/code-ch04/helper.py) pass: `helper.py:HelperTest:test_little_endian_to_int`"
   ]
  },
  {
   "cell_type": "code",
   "execution_count": 60,
   "metadata": {},
   "outputs": [
    {
     "name": "stderr",
     "output_type": "stream",
     "text": [
      ".\n",
      "----------------------------------------------------------------------\n",
      "Ran 1 test in 0.001s\n",
      "\n",
      "OK\n"
     ]
    }
   ],
   "source": [
    "# Exercise 7\n",
    "reload(helper)\n",
    "run(helper.HelperTest(\"test_little_endian_to_int\"))"
   ]
  },
  {
   "cell_type": "markdown",
   "metadata": {},
   "source": [
    "### Exercise 8\n",
    "\n",
    "Write a function `int_to_little_endian` which does the reverse of the last exercise.\n",
    "\n",
    "#### Make [this test](/edit/code-ch04/helper.py) pass: `helper.py:HelperTest:test_int_to_little_endian`"
   ]
  },
  {
   "cell_type": "code",
   "execution_count": 62,
   "metadata": {},
   "outputs": [
    {
     "name": "stderr",
     "output_type": "stream",
     "text": [
      ".\n",
      "----------------------------------------------------------------------\n",
      "Ran 1 test in 0.001s\n",
      "\n",
      "OK\n"
     ]
    }
   ],
   "source": [
    "# Exercise 8\n",
    "\n",
    "reload(helper)\n",
    "run(helper.HelperTest(\"test_int_to_little_endian\"))"
   ]
  },
  {
   "cell_type": "markdown",
   "metadata": {},
   "source": [
    "### Exercise 9\n",
    "\n",
    "Create a testnet address for yourself using a long secret that only you know. This is important as there are bots on testnet trying to steal testnet coins. Make sure you write this secret down somewhere! You will be using the secret later to sign Transactions."
   ]
  },
  {
   "cell_type": "code",
   "execution_count": 76,
   "metadata": {},
   "outputs": [
    {
     "name": "stdout",
     "output_type": "stream",
     "text": [
      "The testnet address is : moEDTLBijAQ79KJiC94XGWYdtdJkMvbTND\n",
      "The balance in the above address is: 9633 sats\n"
     ]
    }
   ],
   "source": [
    "# Exercise 9\n",
    "\n",
    "from ecc import PrivateKey\n",
    "from helper import hash256, little_endian_to_int\n",
    "from blockcypher import get_total_balance\n",
    "# select a passphrase here, add your email address into the passphrase for security\n",
    "# passphrase = b'your@email.address some secret only you know'\n",
    "# secret = little_endian_to_int(hash256(passphrase))\n",
    "# create a private key using your secret\n",
    "# print an address from the public point of the private key with testnet=True\n",
    "\n",
    "passphrase=b'learnbtc.rcytr@slmails.comhello1234$#@!'\n",
    "secret=little_endian_to_int(hash256(passphrase))\n",
    "p=PrivateKey(secret)\n",
    "pp=S256Point(p.point.x, p.point.y)\n",
    "tnaddr=pp.address(compressed=True, testnet=True)\n",
    "print ('The testnet address is : ' + tnaddr)\n",
    "print('The balance in the above address is: '+ str(get_total_balance(tnaddr, coin_symbol='btc-testnet')) + ' sats')"
   ]
  }
 ],
 "metadata": {
  "kernelspec": {
   "display_name": "Python 3 (ipykernel)",
   "language": "python",
   "name": "python3"
  },
  "language_info": {
   "codemirror_mode": {
    "name": "ipython",
    "version": 3
   },
   "file_extension": ".py",
   "mimetype": "text/x-python",
   "name": "python",
   "nbconvert_exporter": "python",
   "pygments_lexer": "ipython3",
   "version": "3.9.6"
  }
 },
 "nbformat": 4,
 "nbformat_minor": 4
}
