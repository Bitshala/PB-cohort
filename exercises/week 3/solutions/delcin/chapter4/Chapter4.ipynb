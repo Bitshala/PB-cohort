{
 "cells": [
  {
   "cell_type": "code",
   "execution_count": 1,
   "metadata": {},
   "outputs": [],
   "source": [
    "############## PLEASE RUN THIS CELL FIRST! ###################\n",
    "\n",
    "# import everything and define a test runner function\n",
    "from importlib import reload\n",
    "from helper import run\n",
    "import ecc\n",
    "import helper"
   ]
  },
  {
   "cell_type": "markdown",
   "metadata": {},
   "source": [
    "### Exercise 1\n",
    "\n",
    "Find the uncompressed SEC format for the Public Key where the Private Key secrets are:\n",
    "\n",
    "* 5000\n",
    "* \\\\(2018^{5}\\\\)\n",
    "* 0xdeadbeef12345"
   ]
  },
  {
   "cell_type": "code",
   "execution_count": 2,
   "metadata": {},
   "outputs": [
    {
     "name": "stdout",
     "output_type": "stream",
     "text": [
      "b'\\x04\\xff\\xe5X\\xe3\\x88\\x85/\\x01 \\xe4j\\xf2\\xd1\\xb3p\\xf8XT\\xa8\\xeb\\x08A\\x81\\x1e\\xce\\x0e>\\x03\\xd2\\x82\\xd5|1]\\xc7(\\x90\\xa4\\xf1\\n\\x14\\x81\\xc01\\xb0;5\\x1b\\r\\xc7\\x99\\x01\\xca\\x18\\xa0\\x0c\\xf0\\t\\xdb\\xdb\\x15z\\x1d\\x10'\n",
      "b'\\x04\\x02\\x7f=\\xa1\\x91\\x84U\\xe0<F\\xf6Y&j\\x1b\\xb5 N\\x95\\x9d\\xb76M/G;\\xdf\\x8f\\n\\x13\\xcc\\x9d\\xff\\x87d\\x7f\\xd0#\\xc1;JI\\x94\\xf1v\\x91\\x89X\\x06\\xe1\\xb4\\x0bW\\xf4\\xfd\"X\\x1aOF\\x85\\x1f;\\x06'\n",
      "b'\\x04l\\t\\x1f\\xd3\\x13$\\xe75\\xc1}e\\x9f\\x9ay\\xe3\\x03tA\\xba\\xbb\"\\xf2j\\xb1\\xed\\xe6!\\xcf\\x01\\xce$\\xf4qB?\\x86\\xb9\\xc3\\xf5!u/_\\xa5\\xf6\\xd6\\x1dRO\\x85\\x88\\xcc\"@\\xf0l\\x19\\x03L\\x04mh\\xdc\\''\n"
     ]
    }
   ],
   "source": [
    "# Exercise 1\n",
    "\n",
    "from ecc import PrivateKey\n",
    "\n",
    "# 5000\n",
    "# 2018**5\n",
    "# 0xdeadbeef12345\n",
    "# privatekey.point is the public key for a private key\n",
    "secrets = [5000, 2018**5, 0xdeabeef12345]\n",
    "\n",
    "for p in secrets:\n",
    "    pk = PrivateKey(p)\n",
    "    print(pk.point.sec(compressed = False))"
   ]
  },
  {
   "cell_type": "markdown",
   "metadata": {},
   "source": [
    "### Exercise 2\n",
    "\n",
    "Find the Compressed SEC format for the Public Key where the Private Key secrets are:\n",
    "\n",
    "* 5001\n",
    "* \\\\(2019^{5}\\\\)\n",
    "* 0xdeadbeef54321"
   ]
  },
  {
   "cell_type": "code",
   "execution_count": 3,
   "metadata": {},
   "outputs": [
    {
     "name": "stdout",
     "output_type": "stream",
     "text": [
      "b'\\x03W\\xa4\\xf3h\\x86\\x8a\\x8amW)\\x91\\xe4\\x84\\xe6d\\x81\\x0f\\xf1L\\x05\\xc0\\xfa\\x022u%\\x11Q\\xfe\\x0eS\\xd1'\n",
      "b\"\\x02\\x93>\\xc2\\xd2\\xb1\\x11\\xb9'7\\xec\\x12\\xf1\\xc5\\xd2\\x0f23\\xa0\\xad!\\xcd\\x8b6\\xd0\\xbc\\xa7\\xa0\\xcf\\xa5\\xcb\\x87\\x01\"\n",
      "b'\\x03p\\xba\\xc7\\xb3\\xcd\\x07O\\xbdHL\\x16:\\xc7\\x00{\\xfa;\\xf0:~\\x124h\\xfbf\\xd7P\\xeb\\x8b$3\\x90'\n"
     ]
    }
   ],
   "source": [
    "# Exercise 2\n",
    "\n",
    "from ecc import PrivateKey\n",
    "\n",
    "# 5001\n",
    "# 2019**5\n",
    "# 0xdeadbeef54321\n",
    "secrets = [5001, 2019**5, 0xdeabeef54321]\n",
    "for p in secrets:\n",
    "    pk = PrivateKey(p)\n",
    "    print(pk.point.sec(compressed=True))"
   ]
  },
  {
   "cell_type": "markdown",
   "metadata": {},
   "source": [
    "### Exercise 3\n",
    "\n",
    "Find the DER format for a signature whose `r` and `s` values are:\n",
    "\n",
    "* r =\n",
    "\n",
    "`0x37206a0610995c58074999cb9767b87af4c4978db68c06e8e6e81d282047a7c6`\n",
    "\n",
    "* s =\n",
    "\n",
    "`0x8ca63759c1157ebeaec0d03cecca119fc9a75bf8e6d0fa65c841c8e2738cdaec`"
   ]
  },
  {
   "cell_type": "code",
   "execution_count": 4,
   "metadata": {},
   "outputs": [
    {
     "name": "stdout",
     "output_type": "stream",
     "text": [
      "b'0E\\x02 7 j\\x06\\x10\\x99\\\\X\\x07I\\x99\\xcb\\x97g\\xb8z\\xf4\\xc4\\x97\\x8d\\xb6\\x8c\\x06\\xe8\\xe6\\xe8\\x1d( G\\xa7\\xc6\\x02!\\x00\\x8c\\xa67Y\\xc1\\x15~\\xbe\\xae\\xc0\\xd0<\\xec\\xca\\x11\\x9f\\xc9\\xa7[\\xf8\\xe6\\xd0\\xfae\\xc8A\\xc8\\xe2s\\x8c\\xda\\xec'\n"
     ]
    }
   ],
   "source": [
    "# Exercise 3\n",
    "\n",
    "from ecc import Signature\n",
    "\n",
    "r = 0x37206a0610995c58074999cb9767b87af4c4978db68c06e8e6e81d282047a7c6\n",
    "s = 0x8ca63759c1157ebeaec0d03cecca119fc9a75bf8e6d0fa65c841c8e2738cdaec\n",
    "\n",
    "sign = Signature(r, s)\n",
    "print(sign.der())"
   ]
  },
  {
   "cell_type": "markdown",
   "metadata": {},
   "source": [
    "### Exercise 4\n",
    "\n",
    "Convert the following hex to binary and then to Base58:\n",
    "\n",
    "* `7c076ff316692a3d7eb3c3bb0f8b1488cf72e1afcd929e29307032997a838a3d`\n",
    "* `eff69ef2b1bd93a66ed5219add4fb51e11a840f404876325a1e8ffe0529a2c`\n",
    "* `c7207fee197d27c618aea621406f6bf5ef6fca38681d82b2f06fddbdce6feab6`"
   ]
  },
  {
   "cell_type": "code",
   "execution_count": 5,
   "metadata": {},
   "outputs": [
    {
     "name": "stdout",
     "output_type": "stream",
     "text": [
      "9MA8fRQrT4u8Zj8ZRd6MAiiyaxb2Y1CMpvVkHQu5hVM6\n",
      "4fE3H2E6XMp4SsxtwinF7w9a34ooUrwWe4WsW1458Pd\n",
      "EQJsjkd6JaGwxrjEhfeqPenqHwrBmPQZjJGNSCHBkcF7\n"
     ]
    }
   ],
   "source": [
    "# Exercise 4\n",
    "\n",
    "from helper import encode_base58\n",
    "\n",
    "nums = ['7c076ff316692a3d7eb3c3bb0f8b1488cf72e1afcd929e29307032997a838a3d', \n",
    "        'eff69ef2b1bd93a66ed5219add4fb51e11a840f404876325a1e8ffe0529a2c',\n",
    "        'c7207fee197d27c618aea621406f6bf5ef6fca38681d82b2f06fddbdce6feab6']\n",
    "\n",
    "for n in nums:\n",
    "    print(encode_base58(bytes.fromhex(n)))\n",
    "\n"
   ]
  },
  {
   "cell_type": "markdown",
   "metadata": {},
   "source": [
    "### Exercise 5\n",
    "\n",
    "Find the address corresponding to Public Keys whose Private Key secrets are:\n",
    "\n",
    "* 5002 (use uncompressed SEC, on testnet)\n",
    "* \\\\(2020^{5}\\\\) (use compressed SEC, on testnet)\n",
    "* 0x12345deadbeef (use compressed SEC on mainnet)"
   ]
  },
  {
   "cell_type": "code",
   "execution_count": 6,
   "metadata": {},
   "outputs": [
    {
     "name": "stdout",
     "output_type": "stream",
     "text": [
      "mmTPbXQFxboEtNRkwfh6K51jvdtHLxGeMA\n",
      "mopVkxp8UhXqRYbCYJsbeE1h1fiF64jcoH\n",
      "1F1Pn2y6pDb68E5nYJJeba4TLg2U7B6KF1\n"
     ]
    }
   ],
   "source": [
    "# Exercise 5\n",
    "\n",
    "from ecc import PrivateKey\n",
    "\n",
    "# 5002 (use uncompressed SEC, on testnet)\n",
    "# 2020**5 (use compressed SEC, on testnet)\n",
    "# 0x12345deadbeef (use compressed SEC on mainnet)\n",
    "p = 5002\n",
    "pk = PrivateKey(p)\n",
    "print(pk.point.address(compressed=False, testnet=True))\n",
    "p = 2020**5\n",
    "pk = PrivateKey(p)\n",
    "print(pk.point.address(compressed=True, testnet=True))\n",
    "p = 0x12345deadbeef\n",
    "pk = PrivateKey(p)\n",
    "print(pk.point.address(compressed=True, testnet=False))"
   ]
  },
  {
   "cell_type": "markdown",
   "metadata": {},
   "source": [
    "### Exercise 6\n",
    "\n",
    "Find the WIF for Private Key whose secrets are:\n",
    "\n",
    "* 5003 (compressed, testnet)\n",
    "* \\\\(2021^{5}\\\\) (uncompressed, testnet)\n",
    "* 0x54321deadbeef (compressed, mainnet)"
   ]
  },
  {
   "cell_type": "code",
   "execution_count": 7,
   "metadata": {},
   "outputs": [
    {
     "name": "stdout",
     "output_type": "stream",
     "text": [
      "cMahea7zqjxrtgAbB7LSGbcQUr1uX1ojuat9jZodMN8rFTv2sfUK\n",
      "91avARGdfge8E4tZfYLoxeJ5sGBdNJQH4kvjpWAxgzczjbCwxic\n",
      "KwDiBf89QgGbjEhKnhXJuH7LrciVrZi3qYjgiuQJv1h8Ytr2S53a\n"
     ]
    }
   ],
   "source": [
    "# Exercise 6\n",
    "\n",
    "from ecc import PrivateKey\n",
    "\n",
    "# 5003\n",
    "# 2021**5\n",
    "# 0x54321deadbeef\n",
    "p = 5003\n",
    "pk = PrivateKey(p)\n",
    "print(pk.wif(compressed=True, testnet=True))\n",
    "p = 2021**5\n",
    "pk = PrivateKey(p)\n",
    "print(pk.wif(compressed=False, testnet=True))\n",
    "p = 0x54321deadbeef\n",
    "pk = PrivateKey(p)\n",
    "print(pk.wif(compressed=True, testnet=False))"
   ]
  },
  {
   "cell_type": "markdown",
   "metadata": {},
   "source": [
    "### Exercise 7\n",
    "\n",
    "Write a function `little_endian_to_int` which takes Python bytes, interprets those bytes in Little-Endian and returns the number.\n",
    "\n",
    "#### Make [this test](/edit/code-ch04/helper.py) pass: `helper.py:HelperTest:test_little_endian_to_int`"
   ]
  },
  {
   "cell_type": "code",
   "execution_count": 8,
   "metadata": {},
   "outputs": [
    {
     "name": "stderr",
     "output_type": "stream",
     "text": [
      ".\n",
      "----------------------------------------------------------------------\n",
      "Ran 1 test in 0.001s\n",
      "\n",
      "OK\n"
     ]
    }
   ],
   "source": [
    "# Exercise 7\n",
    "\n",
    "reload(helper)\n",
    "run(helper.HelperTest(\"test_little_endian_to_int\"))"
   ]
  },
  {
   "cell_type": "markdown",
   "metadata": {},
   "source": [
    "### Exercise 8\n",
    "\n",
    "Write a function `int_to_little_endian` which does the reverse of the last exercise.\n",
    "\n",
    "#### Make [this test](/edit/code-ch04/helper.py) pass: `helper.py:HelperTest:test_int_to_little_endian`"
   ]
  },
  {
   "cell_type": "code",
   "execution_count": 9,
   "metadata": {},
   "outputs": [
    {
     "name": "stderr",
     "output_type": "stream",
     "text": [
      ".\n",
      "----------------------------------------------------------------------\n",
      "Ran 1 test in 0.001s\n",
      "\n",
      "OK\n"
     ]
    }
   ],
   "source": [
    "# Exercise 8\n",
    "\n",
    "reload(helper)\n",
    "run(helper.HelperTest(\"test_int_to_little_endian\"))"
   ]
  },
  {
   "cell_type": "markdown",
   "metadata": {},
   "source": [
    "### Exercise 9\n",
    "\n",
    "Create a testnet address for yourself using a long secret that only you know. This is important as there are bots on testnet trying to steal testnet coins. Make sure you write this secret down somewhere! You will be using the secret later to sign Transactions."
   ]
  },
  {
   "cell_type": "code",
   "execution_count": 11,
   "metadata": {},
   "outputs": [
    {
     "data": {
      "text/plain": [
       "'n4nYTEisdsWbv7XqyZ9YJUKs3w2dBPj6fm'"
      ]
     },
     "execution_count": 11,
     "metadata": {},
     "output_type": "execute_result"
    }
   ],
   "source": [
    "# Exercise 9\n",
    "\n",
    "from ecc import PrivateKey\n",
    "from helper import hash256, little_endian_to_int\n",
    "\n",
    "# select a passphrase here, add your email address into the passphrase for security\n",
    "passphrase = b'sowdel5@gmail.com bitshala delcin'\n",
    "secret = little_endian_to_int(hash256(passphrase)) # Hash is used to make the private key look random\n",
    "# create a private key using your secret\n",
    "pk = PrivateKey(secret)\n",
    "# print an address from the public point of the private key with testnet=True\n",
    "pk.point.address(testnet=True)"
   ]
  }
 ],
 "metadata": {
  "kernelspec": {
   "display_name": "Python 3",
   "language": "python",
   "name": "python3"
  },
  "language_info": {
   "codemirror_mode": {
    "name": "ipython",
    "version": 3
   },
   "file_extension": ".py",
   "mimetype": "text/x-python",
   "name": "python",
   "nbconvert_exporter": "python",
   "pygments_lexer": "ipython3",
   "version": "3.10.12"
  }
 },
 "nbformat": 4,
 "nbformat_minor": 2
}
