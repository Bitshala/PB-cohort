{
 "cells": [
  {
   "cell_type": "code",
   "execution_count": 2,
   "metadata": {},
   "outputs": [],
   "source": [
    "############## PLEASE RUN THIS CELL FIRST! ###################\n",
    "\n",
    "# import everything and define a test runner function\n",
    "from importlib import reload\n",
    "from helper import run\n",
    "import ecc\n",
    "import helper"
   ]
  },
  {
   "cell_type": "markdown",
   "metadata": {},
   "source": [
    "### Exercise 1\n",
    "\n",
    "Find the uncompressed SEC format for the Public Key where the Private Key secrets are:\n",
    "\n",
    "* 5000\n",
    "* \\\\(2018^{5}\\\\)\n",
    "* 0xdeadbeef12345"
   ]
  },
  {
   "cell_type": "code",
   "execution_count": 14,
   "metadata": {},
   "outputs": [
    {
     "name": "stdout",
     "output_type": "stream",
     "text": [
      "04ffe558e388852f0120e46af2d1b370f85854a8eb0841811ece0e3e03d282d57c315dc72890a4f10a1481c031b03b351b0dc79901ca18a00cf009dbdb157a1d10\n",
      "04027f3da1918455e03c46f659266a1bb5204e959db7364d2f473bdf8f0a13cc9dff87647fd023c13b4a4994f17691895806e1b40b57f4fd22581a4f46851f3b06\n",
      "04d90cd625ee87dd38656dd95cf79f65f60f7273b67d3096e68bd81e4f5342691f842efa762fd59961d0e99803c61edba8b3e3f7dc3a341836f97733aebf987121\n"
     ]
    }
   ],
   "source": [
    "# Exercise 1\n",
    "\n",
    "from ecc import PrivateKey\n",
    "\n",
    "# Define private key values\n",
    "private_keys = [5000, 2018**5, 0xdeadbeef12345]\n",
    "\n",
    "# Loop through each private key\n",
    "for private_key in private_keys:\n",
    "    # Create a PrivateKey object\n",
    "    priv = PrivateKey(private_key)\n",
    "    # Generate uncompressed SEC format and print the result\n",
    "    print(priv.point.sec(compressed=False).hex())\n"
   ]
  },
  {
   "cell_type": "markdown",
   "metadata": {},
   "source": [
    "### Exercise 2\n",
    "\n",
    "Find the Compressed SEC format for the Public Key where the Private Key secrets are:\n",
    "\n",
    "* 5001\n",
    "* \\\\(2019^{5}\\\\)\n",
    "* 0xdeadbeef54321"
   ]
  },
  {
   "cell_type": "code",
   "execution_count": 18,
   "metadata": {},
   "outputs": [
    {
     "name": "stdout",
     "output_type": "stream",
     "text": [
      "0357a4f368868a8a6d572991e484e664810ff14c05c0fa023275251151fe0e53d1\n",
      "02933ec2d2b111b92737ec12f1c5d20f3233a0ad21cd8b36d0bca7a0cfa5cb8701\n",
      "0296be5b1292f6c856b3c5654e886fc13511462059089cdf9c479623bfcbe77690\n"
     ]
    }
   ],
   "source": [
    "# Exercise 2\n",
    "\n",
    "from ecc import PrivateKey\n",
    "\n",
    "# List of private keys\n",
    "private_keys = [5001, 2019**5, 0xdeadbeef54321]\n",
    "\n",
    "# Loop through each private key\n",
    "for private_key in private_keys:\n",
    "    # Create a PrivateKey object\n",
    "    priv = PrivateKey(private_key)\n",
    "    # Generate compressed SEC format and print the result\n",
    "    print(priv.point.sec(compressed=True).hex())"
   ]
  },
  {
   "cell_type": "markdown",
   "metadata": {},
   "source": [
    "### Exercise 3\n",
    "\n",
    "Find the DER format for a signature whose `r` and `s` values are:\n",
    "\n",
    "* r =\n",
    "\n",
    "`0x37206a0610995c58074999cb9767b87af4c4978db68c06e8e6e81d282047a7c6`\n",
    "\n",
    "* s =\n",
    "\n",
    "`0x8ca63759c1157ebeaec0d03cecca119fc9a75bf8e6d0fa65c841c8e2738cdaec`"
   ]
  },
  {
   "cell_type": "code",
   "execution_count": 19,
   "metadata": {},
   "outputs": [
    {
     "name": "stdout",
     "output_type": "stream",
     "text": [
      "3044022037206a0610995c58074999cb9767b87af4c4978db68c06e8e6e81d282047a7c602208ca63759c1157ebeaec0d03cecca119fc9a75bf8e6d0fa65c841c8e2738cdaec\n"
     ]
    }
   ],
   "source": [
    "# Exercise 3\n",
    "\n",
    "from ecc import Signature\n",
    "\n",
    "# Given r and s values in hexadecimal\n",
    "r_hex = 0x37206a0610995c58074999cb9767b87af4c4978db68c06e8e6e81d282047a7c6\n",
    "s_hex = 0x8ca63759c1157ebeaec0d03cecca119fc9a75bf8e6d0fa65c841c8e2738cdaec\n",
    "\n",
    "# Convert hexadecimal to integers\n",
    "r = int(r_hex)\n",
    "s = int(s_hex)\n",
    "\n",
    "# Convert integers to bytes\n",
    "r_bytes = r.to_bytes((r.bit_length() + 7) // 8, byteorder='big', signed=False)\n",
    "s_bytes = s.to_bytes((s.bit_length() + 7) // 8, byteorder='big', signed=False)\n",
    "\n",
    "# Calculate lengths\n",
    "length_r = len(r_bytes)\n",
    "length_s = len(s_bytes)\n",
    "total_length = length_r + length_s + 4  # 4 bytes for headers and type indicators\n",
    "\n",
    "# Generate DER format\n",
    "der_format = bytes([0x30, total_length, 0x02, length_r]) + r_bytes + bytes([0x02, length_s]) + s_bytes\n",
    "\n",
    "# Print DER format\n",
    "print(der_format.hex())\n"
   ]
  },
  {
   "cell_type": "markdown",
   "metadata": {},
   "source": [
    "### Exercise 4\n",
    "\n",
    "Convert the following hex to binary and then to Base58:\n",
    "\n",
    "* `7c076ff316692a3d7eb3c3bb0f8b1488cf72e1afcd929e29307032997a838a3d`\n",
    "* `eff69ef2b1bd93a66ed5219add4fb51e11a840f404876325a1e8ffe0529a2c`\n",
    "* `c7207fee197d27c618aea621406f6bf5ef6fca38681d82b2f06fddbdce6feab6`"
   ]
  },
  {
   "cell_type": "code",
   "execution_count": 21,
   "metadata": {},
   "outputs": [
    {
     "name": "stdout",
     "output_type": "stream",
     "text": [
      "9MA8fRQrT4u8Zj8ZRd6MAiiyaxb2Y1CMpvVkHQu5hVM6\n",
      "4fE3H2E6XMp4SsxtwinF7w9a34ooUrwWe4WsW1458Pd\n",
      "EQJsjkd6JaGwxrjEhfeqPenqHwrBmPQZjJGNSCHBkcF7\n"
     ]
    }
   ],
   "source": [
    "# Exercise 4\n",
    "\n",
    "from helper import encode_base58\n",
    "\n",
    "# 7c076ff316692a3d7eb3c3bb0f8b1488cf72e1afcd929e29307032997a838a3d\n",
    "# eff69ef2b1bd93a66ed5219add4fb51e11a840f404876325a1e8ffe0529a2c\n",
    "# c7207fee197d27c618aea621406f6bf5ef6fca38681d82b2f06fddbdce6feab6\n",
    "\n",
    "# Hexadecimal strings\n",
    "hex_strings = [ \"7c076ff316692a3d7eb3c3bb0f8b1488cf72e1afcd929e29307032997a838a3d\", \"eff69ef2b1bd93a66ed5219add4fb51e11a840f404876325a1e8ffe0529a2c\"\n",
    ",\"c7207fee197d27c618aea621406f6bf5ef6fca38681d82b2f06fddbdce6feab6\"]\n",
    "\n",
    "for num in mylist:\n",
    "    # Convert hexadecimal to binary\n",
    "    binary_string = bytes.fromhex(num)\n",
    "    # Convert binary to Base58\n",
    "    base58_string = encode_base58(binary_string)\n",
    "    # Print results\n",
    "    print(base58_string)"
   ]
  },
  {
   "cell_type": "markdown",
   "metadata": {},
   "source": [
    "### Exercise 5\n",
    "\n",
    "Find the address corresponding to Public Keys whose Private Key secrets are:\n",
    "\n",
    "* 5002 (use uncompressed SEC, on testnet)\n",
    "* \\\\(2020^{5}\\\\) (use compressed SEC, on testnet)\n",
    "* 0x12345deadbeef (use compressed SEC on mainnet)"
   ]
  },
  {
   "cell_type": "code",
   "execution_count": 26,
   "metadata": {},
   "outputs": [
    {
     "name": "stdout",
     "output_type": "stream",
     "text": [
      "Private Key 5002 (uncompressed, on testnet): mmTPbXQFxboEtNRkwfh6K51jvdtHLxGeMA\n",
      "Private Key 2020^5 (compressed, on testnet): mopVkxp8UhXqRYbCYJsbeE1h1fiF64jcoH\n",
      "Private Key 0x12345deadbeef (compressed, on mainnet): 1F1Pn2y6pDb68E5nYJJeba4TLg2U7B6KF1\n"
     ]
    }
   ],
   "source": [
    "# Exercise 5\n",
    "\n",
    "from ecc import PrivateKey\n",
    "from helper import encode_base58_checksum, hash160\n",
    "\n",
    "def generate_address(private_key, compressed, testnet):\n",
    "    # Create a PrivateKey object\n",
    "    priv = PrivateKey(private_key)\n",
    "    # Get the public key in uncompressed or compressed format\n",
    "    public_key = priv.point.sec(compressed=compressed)\n",
    "    # Get the hash160 of the public key\n",
    "    h160 = hash160(public_key)\n",
    "    # Determine the network prefix (mainnet or testnet)\n",
    "    prefix = b'\\x6f' if testnet else b'\\x00'\n",
    "    # Concatenate the prefix and hash160, then encode in base58 with checksum\n",
    "    address = encode_base58_checksum(prefix + h160)\n",
    "    return address\n",
    "\n",
    "# Private Key: 5002 (uncompressed, on testnet)\n",
    "address_5002_testnet = generate_address(5002, compressed=False, testnet=True)\n",
    "print(\"Private Key 5002 (uncompressed, on testnet):\", address_5002_testnet)\n",
    "\n",
    "# Private Key: 2020^5 (compressed, on testnet)\n",
    "address_2020_5_testnet = generate_address(2020**5, compressed=True, testnet=True)\n",
    "print(\"Private Key 2020^5 (compressed, on testnet):\", address_2020_5_testnet)\n",
    "\n",
    "# Private Key: 0x12345deadbeef (compressed, on mainnet)\n",
    "address_12345deadbeef_mainnet = generate_address(0x12345deadbeef, compressed=True, testnet=False)\n",
    "print(\"Private Key 0x12345deadbeef (compressed, on mainnet):\", address_12345deadbeef_mainnet)\n",
    "\n"
   ]
  },
  {
   "cell_type": "markdown",
   "metadata": {},
   "source": [
    "### Exercise 6\n",
    "\n",
    "Find the WIF for Private Key whose secrets are:\n",
    "\n",
    "* 5003 (compressed, testnet)\n",
    "* \\\\(2021^{5}\\\\) (uncompressed, testnet)\n",
    "* 0x54321deadbeef (compressed, mainnet)"
   ]
  },
  {
   "cell_type": "code",
   "execution_count": 27,
   "metadata": {},
   "outputs": [
    {
     "name": "stdout",
     "output_type": "stream",
     "text": [
      "Private Key 5003 (compressed, testnet): 4zMHD81prP8vV95VyaL31Eja1WUZKXUuAqsn6fB1C5jCxD22PXctEbpCtD\n",
      "Private Key 2021^5 (uncompressed, testnet): uR5aZQJBjdEUfzD18YxHNEiv8atGykUgPQHcu8ADZWiYSwBuRsGER25g\n",
      "Private Key 0x54321deadbeef (compressed, mainnet): 38uMpGARR2BJy5p4dNFKYg9UsWNoBtkpbdrXEPTcMDkSMvFFg75eNhVGir\n"
     ]
    }
   ],
   "source": [
    "# Exercise 6\n",
    "\n",
    "from ecc import PrivateKey\n",
    "from helper import encode_base58_checksum\n",
    "\n",
    "def generate_wif(private_key, compressed, testnet):\n",
    "    # Add prefix for testnet or mainnet\n",
    "    prefix = b'\\xef' if testnet else b'\\x80'\n",
    "    # Add suffix for compressed keys\n",
    "    suffix = b'\\x01' if compressed else b''\n",
    "    # Concatenate the prefix, private key, and suffix\n",
    "    wif_data = prefix + private_key.to_bytes(32, 'big') + suffix\n",
    "    # Compute the checksum\n",
    "    checksum = hash256(wif_data)[:4]\n",
    "    # Concatenate the data and checksum, then encode in base58\n",
    "    wif = encode_base58_checksum(wif_data + checksum)\n",
    "    return wif\n",
    "\n",
    "# Private Key: 5003 (compressed, testnet)\n",
    "wif_5003_testnet = generate_wif(5003, compressed=True, testnet=True)\n",
    "print(\"Private Key 5003 (compressed, testnet):\", wif_5003_testnet)\n",
    "\n",
    "# Private Key: 2021^5 (uncompressed, testnet)\n",
    "wif_2021_5_testnet = generate_wif(2021**5, compressed=False, testnet=True)\n",
    "print(\"Private Key 2021^5 (uncompressed, testnet):\", wif_2021_5_testnet)\n",
    "\n",
    "# Private Key: 0x54321deadbeef (compressed, mainnet)\n",
    "wif_54321deadbeef_mainnet = generate_wif(0x54321deadbeef, compressed=True, testnet=False)\n",
    "print(\"Private Key 0x54321deadbeef (compressed, mainnet):\", wif_54321deadbeef_mainnet)\n"
   ]
  },
  {
   "cell_type": "markdown",
   "metadata": {},
   "source": [
    "### Exercise 7\n",
    "\n",
    "Write a function `little_endian_to_int` which takes Python bytes, interprets those bytes in Little-Endian and returns the number.\n",
    "\n",
    "#### Make [this test](/edit/code-ch04/helper.py) pass: `helper.py:HelperTest:test_little_endian_to_int`"
   ]
  },
  {
   "cell_type": "code",
   "execution_count": 28,
   "metadata": {},
   "outputs": [
    {
     "name": "stderr",
     "output_type": "stream",
     "text": [
      ".\n",
      "----------------------------------------------------------------------\n",
      "Ran 1 test in 0.001s\n",
      "\n",
      "OK\n"
     ]
    }
   ],
   "source": [
    "# Exercise 7\n",
    "\n",
    "reload(helper)\n",
    "run(helper.HelperTest(\"test_little_endian_to_int\"))"
   ]
  },
  {
   "cell_type": "markdown",
   "metadata": {},
   "source": [
    "### Exercise 8\n",
    "\n",
    "Write a function `int_to_little_endian` which does the reverse of the last exercise.\n",
    "\n",
    "#### Make [this test](/edit/code-ch04/helper.py) pass: `helper.py:HelperTest:test_int_to_little_endian`"
   ]
  },
  {
   "cell_type": "code",
   "execution_count": 29,
   "metadata": {},
   "outputs": [
    {
     "name": "stderr",
     "output_type": "stream",
     "text": [
      ".\n",
      "----------------------------------------------------------------------\n",
      "Ran 1 test in 0.001s\n",
      "\n",
      "OK\n"
     ]
    }
   ],
   "source": [
    "# Exercise 8\n",
    "\n",
    "reload(helper)\n",
    "run(helper.HelperTest(\"test_int_to_little_endian\"))"
   ]
  },
  {
   "cell_type": "markdown",
   "metadata": {},
   "source": [
    "### Exercise 9\n",
    "\n",
    "Create a testnet address for yourself using a long secret that only you know. This is important as there are bots on testnet trying to steal testnet coins. Make sure you write this secret down somewhere! You will be using the secret later to sign Transactions."
   ]
  },
  {
   "cell_type": "code",
   "execution_count": 33,
   "metadata": {},
   "outputs": [
    {
     "name": "stdout",
     "output_type": "stream",
     "text": [
      "n2PHmyMmFfJJb7WDQYe9VDnCK5iZQrvVga\n"
     ]
    }
   ],
   "source": [
    "# Exercise 9\n",
    "\n",
    "from ecc import PrivateKey\n",
    "from helper import hash256, little_endian_to_int\n",
    "\n",
    "# Select a passphrase \n",
    "passphrase = b'testing'\n",
    "\n",
    "# Hash the passphrase using SHA-256 and convert to integer\n",
    "secret = little_endian_to_int(hash256(passphrase))\n",
    "\n",
    "# Create a private key using the derived secret\n",
    "private_key = PrivateKey(secret)\n",
    "\n",
    "# Get the public key from the private key\n",
    "public_key = private_key.point\n",
    "\n",
    "# Generate the testnet address from the public key\n",
    "testnet_address = public_key.address(compressed=True, testnet=True)\n",
    "\n",
    "# Print the testnet address\n",
    "print(testnet_address)\n"
   ]
  }
 ],
 "metadata": {
  "kernelspec": {
   "display_name": "Python 3 (ipykernel)",
   "language": "python",
   "name": "python3"
  },
  "language_info": {
   "codemirror_mode": {
    "name": "ipython",
    "version": 3
   },
   "file_extension": ".py",
   "mimetype": "text/x-python",
   "name": "python",
   "nbconvert_exporter": "python",
   "pygments_lexer": "ipython3",
   "version": "3.11.6"
  }
 },
 "nbformat": 4,
 "nbformat_minor": 4
}
