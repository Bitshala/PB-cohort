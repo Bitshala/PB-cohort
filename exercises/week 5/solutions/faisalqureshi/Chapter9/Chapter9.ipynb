{
 "cells": [
  {
   "cell_type": "code",
   "execution_count": null,
   "metadata": {},
   "outputs": [],
   "source": [
    "############## PLEASE RUN THIS CELL FIRST! ###################\n",
    "\n",
    "# import everything and define a test runner function\n",
    "from importlib import reload\n",
    "from helper import run\n",
    "import block\n",
    "import ecc\n",
    "import script\n",
    "import tx\n",
    "import helper \n",
    "\n",
    "from helper import (\n",
    "    hash256,\n",
    "    int_to_little_endian,\n",
    "    little_endian_to_int,\n",
    "    target_to_bits,\n",
    "    TWO_WEEKS,\n",
    ")\n",
    "from tx import Tx\n",
    "from unittest import TestCase\n"
   ]
  },
  {
   "cell_type": "markdown",
   "metadata": {},
   "source": [
    "Exercise 1\n",
    "\n",
    "Write the is_coinbase method of the Tx class.\n",
    "\n",
    "Make this test pass: tx.py:TxTest:test_is_coinbase"
   ]
  },
  {
   "cell_type": "code",
   "execution_count": null,
   "metadata": {},
   "outputs": [],
   "source": [
    "# Exercise 1\n",
    "\n",
    "reload(tx)\n",
    "run(tx.TxTest(\"test_is_coinbase\"))\n",
    "     "
   ]
  },
  {
   "cell_type": "markdown",
   "metadata": {},
   "source": [
    "Exercise 2\n",
    "\n",
    "Write the coinbase_height method for the Tx class.\n",
    "\n",
    "Make this test pass: tx.py:TxTest:test_coinbase_height"
   ]
  },
  {
   "cell_type": "code",
   "execution_count": null,
   "metadata": {},
   "outputs": [],
   "source": [
    "\n",
    "# Exercise 2\n",
    "\n",
    "reload(tx)\n",
    "run(tx.TxTest(\"test_coinbase_height\"))"
   ]
  },
  {
   "cell_type": "markdown",
   "metadata": {},
   "source": [
    "Exercise 3\n",
    "\n",
    "Write the parse for Block.\n",
    "\n",
    "Make this test pass: block.py:BlockTest:test_parse\n"
   ]
  },
  {
   "cell_type": "code",
   "execution_count": null,
   "metadata": {},
   "outputs": [],
   "source": [
    "# Exercise 3\n",
    "\n",
    "reload(block)\n",
    "run(block.BlockTest(\"test_parse\"))"
   ]
  },
  {
   "cell_type": "markdown",
   "metadata": {},
   "source": [
    "Exercise 4\n",
    "\n",
    "Write the serialize for Block.\n",
    "\n",
    "Make this test pass: block.py:BlockTest:test_serialize"
   ]
  },
  {
   "cell_type": "code",
   "execution_count": null,
   "metadata": {},
   "outputs": [],
   "source": [
    "# Exercise 4\n",
    "\n",
    "reload(block)\n",
    "run(block.BlockTest(\"test_serialize\"))"
   ]
  },
  {
   "cell_type": "markdown",
   "metadata": {},
   "source": [
    "Exercise 5\n",
    "\n",
    "Write the hash for Block.\n",
    "\n",
    "Make this test pass: block.py:BlockTest:test_hash"
   ]
  },
  {
   "cell_type": "code",
   "execution_count": null,
   "metadata": {},
   "outputs": [],
   "source": [
    "\n",
    "# Exercise 5\n",
    "\n",
    "reload(block)\n",
    "run(block.BlockTest(\"test_hash\"))"
   ]
  },
  {
   "cell_type": "markdown",
   "metadata": {},
   "source": [
    "Exercise 6\n",
    "\n",
    "Write the bip9 method for the Block class.\n",
    "\n",
    "Make this test pass: block.py:BlockTest:test_bip9\n"
   ]
  },
  {
   "cell_type": "code",
   "execution_count": null,
   "metadata": {},
   "outputs": [],
   "source": [
    "# Exercise 6\n",
    "\n",
    "reload(block)\n",
    "run(block.BlockTest(\"test_bip9\"))\n",
    "     "
   ]
  },
  {
   "cell_type": "markdown",
   "metadata": {},
   "source": [
    "Exercise 7\n",
    "\n",
    "Write the bip91 method for the Block class.\n",
    "\n",
    "Make this test pass: block.py:BlockTest:test_bip91"
   ]
  },
  {
   "cell_type": "code",
   "execution_count": null,
   "metadata": {},
   "outputs": [],
   "source": [
    "# Exercise 7\n",
    "\n",
    "reload(block)\n",
    "run(block.BlockTest(\"test_bip91\"))"
   ]
  },
  {
   "cell_type": "markdown",
   "metadata": {},
   "source": [
    "Exercise 8\n",
    "\n",
    "Write the bip141 method for the Block class.\n",
    "\n",
    "Make this test pass: block.py:BlockTest:test_bip141"
   ]
  },
  {
   "cell_type": "code",
   "execution_count": null,
   "metadata": {},
   "outputs": [],
   "source": [
    "# Exercise 8\n",
    "\n",
    "reload(block)\n",
    "run(block.BlockTest(\"test_bip141\"))\n",
    "     "
   ]
  },
  {
   "cell_type": "code",
   "execution_count": null,
   "metadata": {},
   "outputs": [],
   "source": [
    "from helper import hash256\n",
    "block_id = hash256(bytes.fromhex('020000208ec39428b17323fa0ddec8e887b4a7c53b8c0a0a220cfd0000000000000000005b0750fce0a889502d40508d39576821155e9c9e3f5c3157f961db38fd8b25be1e77a759e93c0118a4ffd71d'))[::-1]\n",
    "print('{}'.format(block_id.hex()).zfill(64))"
   ]
  },
  {
   "cell_type": "code",
   "execution_count": null,
   "metadata": {},
   "outputs": [],
   "source": [
    "\n",
    "from helper import little_endian_to_int\n",
    "bits = bytes.fromhex('e93c0118')\n",
    "exponent = bits[-1]\n",
    "coefficient = little_endian_to_int(bits[:-1])\n",
    "target = coefficient * 256**(exponent - 3)\n",
    "print('{:x}'.format(target).zfill(64))"
   ]
  },
  {
   "cell_type": "code",
   "execution_count": null,
   "metadata": {},
   "outputs": [],
   "source": [
    "\n",
    "from helper import little_endian_to_int\n",
    "proof = little_endian_to_int(hash256(bytes.fromhex('020000208ec39428b17323fa0ddec8e887b4a7c53b8c0a0a220cfd0000000000000000005b0750fce0a889502d40508d39576821155e9c9e3f5c3157f961db38fd8b25be1e77a759e93c0118a4ffd71d')))\n",
    "print(proof < target)\n",
    "     "
   ]
  },
  {
   "cell_type": "markdown",
   "metadata": {},
   "source": [
    "Exercise 9\n",
    "\n",
    "Write the bits_to_target function in helper.py.\n",
    "\n",
    "Make this test pass: block.py:BlockTest:test_target"
   ]
  },
  {
   "cell_type": "code",
   "execution_count": null,
   "metadata": {},
   "outputs": [],
   "source": [
    "\n",
    "# Exercise 9\n",
    "\n",
    "reload(block)\n",
    "run(block.BlockTest(\"test_target\"))"
   ]
  },
  {
   "cell_type": "markdown",
   "metadata": {},
   "source": [
    "Exercise 10\n",
    "\n",
    "Write the difficulty method for Block\n",
    "\n",
    "Make this test pass: block.py:BlockTest:test_difficulty"
   ]
  },
  {
   "cell_type": "markdown",
   "metadata": {},
   "source": [
    "Exercise 11\n",
    "\n",
    "Write the check_pow method for Block.\n",
    "\n",
    "Make this test pass: block.py:BlockTest:test_check_pow"
   ]
  },
  {
   "cell_type": "code",
   "execution_count": null,
   "metadata": {},
   "outputs": [],
   "source": [
    "\n",
    "# Exercise 11\n",
    "\n",
    "reload(block)\n",
    "run(block.BlockTest(\"test_check_pow\"))"
   ]
  },
  {
   "cell_type": "markdown",
   "metadata": {},
   "source": [
    "Exercise 12\n",
    "\n",
    "Calculate the new bits given the first and last blocks of this 2016 block difficulty adjustment period:\n",
    "\n",
    "Block 471744:\n",
    "\n",
    "000000203471101bbda3fe307664b3283a9ef0e97d9a38a7eacd8800000000000000000010c8ab\n",
    "a8479bbaa5e0848152fd3c2289ca50e1c3e58c9a4faaafbdf5803c5448ddb845597e8b0118e43a\n",
    "81d3\n",
    "\n",
    "Block 473759:\n",
    "\n",
    "02000020f1472d9db4b563c35f97c428ac903f23b7fc055d1cfc26000000000000000000b3f449\n",
    "fcbe1bc4cfbcb8283a0d2c037f961a3fdf2b8bedc144973735eea707e1264258597e8b0118e5f0\n",
    "0474"
   ]
  },
  {
   "cell_type": "code",
   "execution_count": null,
   "metadata": {},
   "outputs": [],
   "source": [
    "from io import BytesIO\n",
    "from block import Block\n",
    "from helper import TWO_WEEKS\n",
    "from helper import target_to_bits\n",
    "block1_hex = '000000203471101bbda3fe307664b3283a9ef0e97d9a38a7eacd88000000\\\n",
    "00000000000010c8aba8479bbaa5e0848152fd3c2289ca50e1c3e58c9a4faaafbdf5803c5448dd\\\n",
    "b845597e8b0118e43a81d3'\n",
    "block2_hex = '02000020f1472d9db4b563c35f97c428ac903f23b7fc055d1cfc26000000\\\n",
    "000000000000b3f449fcbe1bc4cfbcb8283a0d2c037f961a3fdf2b8bedc144973735eea707e126\\\n",
    "4258597e8b0118e5f00474'\n",
    "last_block = Block.parse(BytesIO(bytes.fromhex(block1_hex)))\n",
    "first_block = Block.parse(BytesIO(bytes.fromhex(block2_hex)))\n",
    "time_differential = last_block.timestamp - first_block.timestamp\n",
    "if time_differential > TWO_WEEKS * 4:\n",
    "     time_differential = TWO_WEEKS * 4\n",
    "if time_differential < TWO_WEEKS // 4:\n",
    "     time_differential = TWO_WEEKS // 4\n",
    "new_target = last_block.target() * time_differential // TWO_WEEKS\n",
    "new_bits = target_to_bits(new_target)\n",
    "print(new_bits.hex())"
   ]
  },
  {
   "cell_type": "markdown",
   "metadata": {},
   "source": [
    "Exercise 13\n",
    "\n",
    "Write the calculate_new_bits function in helper.py\n",
    "\n",
    "Make this test pass: helper.py:HelperTest:test_calculate_new_bits"
   ]
  },
  {
   "cell_type": "code",
   "execution_count": null,
   "metadata": {},
   "outputs": [],
   "source": [
    "# Exercise 13\n",
    "\n",
    "reload(helper)\n",
    "run(helper.HelperTest(\"test_calculate_new_bits\"))"
   ]
  }
 ],
 "metadata": {
  "kernelspec": {
   "display_name": "Python 3",
   "language": "python",
   "name": "python3"
  },
  "language_info": {
   "codemirror_mode": {
    "name": "ipython",
    "version": 3
   },
   "file_extension": ".py",
   "mimetype": "text/x-python",
   "name": "python",
   "nbconvert_exporter": "python",
   "pygments_lexer": "ipython3",
   "version": "3.12.0"
  }
 },
 "nbformat": 4,
 "nbformat_minor": 2
}
